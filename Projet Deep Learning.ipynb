{
 "cells": [
  {
   "cell_type": "code",
   "execution_count": 2,
   "metadata": {},
   "outputs": [
    {
     "name": "stderr",
     "output_type": "stream",
     "text": [
      "Using TensorFlow backend.\n"
     ]
    }
   ],
   "source": [
    "# Importation des librairies\n",
    "\n",
    "import numpy as np \n",
    "import pandas as pd\n",
    "\n",
    "from sklearn.feature_extraction.text import CountVectorizer\n",
    "from keras.preprocessing.text import Tokenizer\n",
    "from keras.preprocessing.sequence import pad_sequences\n",
    "from keras.models import Sequential\n",
    "from keras.layers import Dense, Embedding, LSTM, SpatialDropout1D\n",
    "from sklearn.model_selection import train_test_split\n",
    "from keras.utils.np_utils import to_categorical\n",
    "import re\n",
    "import sys\n",
    "import time\n",
    "import os\n",
    "sys.path.append(os.path.dirname(os.getcwd()))\n",
    "\n",
    "from code_project.data_science.utils_project import load_saved_file, read_feel, process_label, process_nlp, vectorize, apply_vectorization\n",
    "from code_project.data_science.evaluate import load_test_set, evaluate_model\n",
    "from code_project.config_project import *"
   ]
  },
  {
   "cell_type": "code",
   "execution_count": 3,
   "metadata": {},
   "outputs": [
    {
     "data": {
      "text/html": [
       "<div>\n",
       "<style scoped>\n",
       "    .dataframe tbody tr th:only-of-type {\n",
       "        vertical-align: middle;\n",
       "    }\n",
       "\n",
       "    .dataframe tbody tr th {\n",
       "        vertical-align: top;\n",
       "    }\n",
       "\n",
       "    .dataframe thead th {\n",
       "        text-align: right;\n",
       "    }\n",
       "</style>\n",
       "<table border=\"1\" class=\"dataframe\">\n",
       "  <thead>\n",
       "    <tr style=\"text-align: right;\">\n",
       "      <th></th>\n",
       "      <th>sentiment</th>\n",
       "      <th>translation</th>\n",
       "      <th>translation_yandex</th>\n",
       "      <th>translation_microsoft</th>\n",
       "      <th>translation_google</th>\n",
       "      <th>nlp_google</th>\n",
       "    </tr>\n",
       "  </thead>\n",
       "  <tbody>\n",
       "    <tr>\n",
       "      <th>0</th>\n",
       "      <td>empty</td>\n",
       "      <td>@ tiffanylue je sais, j’écoutais la mauvaise h...</td>\n",
       "      <td>@tiffanylue je sais je suis listenin à mauvais...</td>\n",
       "      <td>@tiffanylue je sais je suis listenin à mauvais...</td>\n",
       "      <td>@ tiffanylue je sais que j’écoutais la mauvais...</td>\n",
       "      <td>['savoir', 'ecoutais', 'mauvaise', 'habitude',...</td>\n",
       "    </tr>\n",
       "    <tr>\n",
       "      <th>1</th>\n",
       "      <td>sadness</td>\n",
       "      <td>Allongé sur mon lit avec un mal de tête ughhhh...</td>\n",
       "      <td>Laporal n lit avec un mal de tête pouah... wai...</td>\n",
       "      <td>Laporal n lit avec un mal de tête Pouah... wai...</td>\n",
       "      <td>Layin n lit avec un mal de tête ughhhh ... att...</td>\n",
       "      <td>['layin', 'n', 'lire', 'mal', 'tete', 'ughhhh'...</td>\n",
       "    </tr>\n",
       "    <tr>\n",
       "      <th>2</th>\n",
       "      <td>sadness</td>\n",
       "      <td>Cérémonie funéraire... vendredi sombre...</td>\n",
       "      <td>Cérémonie funéraire... vendredi sombre...</td>\n",
       "      <td>Cérémonie funéraire... vendredi sombre...</td>\n",
       "      <td>Cérémonie funèbre ... triste vendredi ...</td>\n",
       "      <td>['ceremonie', 'funebre', 'triste', 'vendredi']</td>\n",
       "    </tr>\n",
       "    <tr>\n",
       "      <th>3</th>\n",
       "      <td>enthusiasm</td>\n",
       "      <td>veut sortir avec des amis BIENTOT!</td>\n",
       "      <td>veut passer du temps avec des amis bientôt !</td>\n",
       "      <td>veut passer du temps avec des amis bientôt !</td>\n",
       "      <td>veut sortir avec des amis bientôt!</td>\n",
       "      <td>['vouloir', 'sortir', 'amis', 'bientot']</td>\n",
       "    </tr>\n",
       "    <tr>\n",
       "      <th>4</th>\n",
       "      <td>neutral</td>\n",
       "      <td>@dannycastillo On veut échanger avec quelqu’un...</td>\n",
       "      <td>@dannycastillo nous voulons commerce avec quel...</td>\n",
       "      <td>@dannycastillo nous voulons commerce avec quel...</td>\n",
       "      <td>@dannycastillo Nous voulons échanger avec quel...</td>\n",
       "      <td>['vouloir', 'echanger', 'quelqu', 'avoir', 'bi...</td>\n",
       "    </tr>\n",
       "  </tbody>\n",
       "</table>\n",
       "</div>"
      ],
      "text/plain": [
       "    sentiment                                        translation  \\\n",
       "0       empty  @ tiffanylue je sais, j’écoutais la mauvaise h...   \n",
       "1     sadness  Allongé sur mon lit avec un mal de tête ughhhh...   \n",
       "2     sadness          Cérémonie funéraire... vendredi sombre...   \n",
       "3  enthusiasm                 veut sortir avec des amis BIENTOT!   \n",
       "4     neutral  @dannycastillo On veut échanger avec quelqu’un...   \n",
       "\n",
       "                                  translation_yandex  \\\n",
       "0  @tiffanylue je sais je suis listenin à mauvais...   \n",
       "1  Laporal n lit avec un mal de tête pouah... wai...   \n",
       "2          Cérémonie funéraire... vendredi sombre...   \n",
       "3       veut passer du temps avec des amis bientôt !   \n",
       "4  @dannycastillo nous voulons commerce avec quel...   \n",
       "\n",
       "                               translation_microsoft  \\\n",
       "0  @tiffanylue je sais je suis listenin à mauvais...   \n",
       "1  Laporal n lit avec un mal de tête Pouah... wai...   \n",
       "2          Cérémonie funéraire... vendredi sombre...   \n",
       "3       veut passer du temps avec des amis bientôt !   \n",
       "4  @dannycastillo nous voulons commerce avec quel...   \n",
       "\n",
       "                                  translation_google  \\\n",
       "0  @ tiffanylue je sais que j’écoutais la mauvais...   \n",
       "1  Layin n lit avec un mal de tête ughhhh ... att...   \n",
       "2          Cérémonie funèbre ... triste vendredi ...   \n",
       "3                 veut sortir avec des amis bientôt!   \n",
       "4  @dannycastillo Nous voulons échanger avec quel...   \n",
       "\n",
       "                                          nlp_google  \n",
       "0  ['savoir', 'ecoutais', 'mauvaise', 'habitude',...  \n",
       "1  ['layin', 'n', 'lire', 'mal', 'tete', 'ughhhh'...  \n",
       "2     ['ceremonie', 'funebre', 'triste', 'vendredi']  \n",
       "3           ['vouloir', 'sortir', 'amis', 'bientot']  \n",
       "4  ['vouloir', 'echanger', 'quelqu', 'avoir', 'bi...  "
      ]
     },
     "execution_count": 3,
     "metadata": {},
     "output_type": "execute_result"
    }
   ],
   "source": [
    "# Lecture des données\n",
    "PATH_DATA = \"data/kaggle-traduction/translate_final_lemmatized.csv\"\n",
    "\n",
    "data = pd.read_csv(PATH_DATA, sep=\";\", encoding='utf-8')\n",
    "data = data.drop(['Unnamed: 0'], axis=1)\n",
    "data = data.fillna(\"\")\n",
    "\n",
    "data.head()"
   ]
  },
  {
   "cell_type": "code",
   "execution_count": 4,
   "metadata": {},
   "outputs": [
    {
     "data": {
      "text/html": [
       "<div>\n",
       "<style scoped>\n",
       "    .dataframe tbody tr th:only-of-type {\n",
       "        vertical-align: middle;\n",
       "    }\n",
       "\n",
       "    .dataframe tbody tr th {\n",
       "        vertical-align: top;\n",
       "    }\n",
       "\n",
       "    .dataframe thead th {\n",
       "        text-align: right;\n",
       "    }\n",
       "</style>\n",
       "<table border=\"1\" class=\"dataframe\">\n",
       "  <thead>\n",
       "    <tr style=\"text-align: right;\">\n",
       "      <th></th>\n",
       "      <th>Unnamed: 0</th>\n",
       "      <th>phrase</th>\n",
       "      <th>emotion</th>\n",
       "      <th>phrase_lem</th>\n",
       "    </tr>\n",
       "  </thead>\n",
       "  <tbody>\n",
       "    <tr>\n",
       "      <th>0</th>\n",
       "      <td>0</td>\n",
       "      <td>Il est triste de se dire que KH3 est le dernie...</td>\n",
       "      <td>sadness</td>\n",
       "      <td>['triste', 'dire', 'kh3', 'dernier', 'kingdom'...</td>\n",
       "    </tr>\n",
       "    <tr>\n",
       "      <th>1</th>\n",
       "      <td>1</td>\n",
       "      <td>Aujourd'hui pour moi tout va mal c'est terribl...</td>\n",
       "      <td>sadness</td>\n",
       "      <td>['aujourd', 'hui', 'tout', 'aller', 'mal', 'te...</td>\n",
       "    </tr>\n",
       "    <tr>\n",
       "      <th>2</th>\n",
       "      <td>2</td>\n",
       "      <td>il fait beau</td>\n",
       "      <td>neutral</td>\n",
       "      <td>['faire', 'beau']</td>\n",
       "    </tr>\n",
       "    <tr>\n",
       "      <th>3</th>\n",
       "      <td>3</td>\n",
       "      <td>tu me parles plus je suis triste</td>\n",
       "      <td>sadness</td>\n",
       "      <td>['parler', 'plaire', 'triste']</td>\n",
       "    </tr>\n",
       "    <tr>\n",
       "      <th>4</th>\n",
       "      <td>4</td>\n",
       "      <td>j’espère être encore de ce monde pour te parl...</td>\n",
       "      <td>sadness</td>\n",
       "      <td>['espere', 'etre', 'encore', 'monder', 'parler...</td>\n",
       "    </tr>\n",
       "  </tbody>\n",
       "</table>\n",
       "</div>"
      ],
      "text/plain": [
       "   Unnamed: 0                                             phrase  emotion  \\\n",
       "0           0  Il est triste de se dire que KH3 est le dernie...  sadness   \n",
       "1           1  Aujourd'hui pour moi tout va mal c'est terribl...  sadness   \n",
       "2           2                                       il fait beau  neutral   \n",
       "3           3                   tu me parles plus je suis triste  sadness   \n",
       "4           4   j’espère être encore de ce monde pour te parl...  sadness   \n",
       "\n",
       "                                          phrase_lem  \n",
       "0  ['triste', 'dire', 'kh3', 'dernier', 'kingdom'...  \n",
       "1  ['aujourd', 'hui', 'tout', 'aller', 'mal', 'te...  \n",
       "2                                  ['faire', 'beau']  \n",
       "3                     ['parler', 'plaire', 'triste']  \n",
       "4  ['espere', 'etre', 'encore', 'monder', 'parler...  "
      ]
     },
     "execution_count": 4,
     "metadata": {},
     "output_type": "execute_result"
    }
   ],
   "source": [
    "TEST_SET_PATH = \"data/test_set_trad_lem.csv\"\n",
    "data_test = pd.read_csv(TEST_SET_PATH, sep=\";\", encoding='utf-8')\n",
    "data_test.head()"
   ]
  },
  {
   "cell_type": "code",
   "execution_count": 5,
   "metadata": {},
   "outputs": [
    {
     "data": {
      "text/plain": [
       "fear        7433\n",
       "neutral     6340\n",
       "sadness     4828\n",
       "joy         4596\n",
       "love        2068\n",
       "surprise    1613\n",
       "anger       1285\n",
       "Name: sentiment, dtype: int64"
      ]
     },
     "execution_count": 5,
     "metadata": {},
     "output_type": "execute_result"
    }
   ],
   "source": [
    "# On ne garde que certains sentiments\n",
    "data.loc[data.sentiment == 'hate', ['sentiment']] = 'anger'\n",
    "data.loc[data.sentiment == 'enthusiasm', ['sentiment']] = 'joy'\n",
    "data.loc[data.sentiment == 'fun', ['sentiment']] = 'joy'\n",
    "data.loc[data.sentiment == 'worry', ['sentiment']] = 'fear'\n",
    "data.loc[data.sentiment == 'happiness', ['sentiment']] = 'joy'\n",
    "data.loc[data.sentiment == 'love', ['sentiment']] = 'love'\n",
    "data = data.loc[~data.sentiment.isin(['boredom', 'relief', 'empty'])]\n",
    "data.sentiment.value_counts()"
   ]
  },
  {
   "cell_type": "code",
   "execution_count": 6,
   "metadata": {},
   "outputs": [
    {
     "data": {
      "text/html": [
       "<div>\n",
       "<style scoped>\n",
       "    .dataframe tbody tr th:only-of-type {\n",
       "        vertical-align: middle;\n",
       "    }\n",
       "\n",
       "    .dataframe tbody tr th {\n",
       "        vertical-align: top;\n",
       "    }\n",
       "\n",
       "    .dataframe thead th {\n",
       "        text-align: right;\n",
       "    }\n",
       "</style>\n",
       "<table border=\"1\" class=\"dataframe\">\n",
       "  <thead>\n",
       "    <tr style=\"text-align: right;\">\n",
       "      <th></th>\n",
       "      <th>sentiment</th>\n",
       "      <th>translation</th>\n",
       "      <th>translation_yandex</th>\n",
       "      <th>translation_microsoft</th>\n",
       "      <th>translation_google</th>\n",
       "      <th>nlp_google</th>\n",
       "    </tr>\n",
       "  </thead>\n",
       "  <tbody>\n",
       "    <tr>\n",
       "      <th>1</th>\n",
       "      <td>sadness</td>\n",
       "      <td>Allongé sur mon lit avec un mal de tête ughhhh...</td>\n",
       "      <td>Laporal n lit avec un mal de tête pouah... wai...</td>\n",
       "      <td>Laporal n lit avec un mal de tête Pouah... wai...</td>\n",
       "      <td>Layin n lit avec un mal de tête ughhhh ... att...</td>\n",
       "      <td>['layin', 'n', 'lire', 'mal', 'tete', 'ughhhh'...</td>\n",
       "    </tr>\n",
       "    <tr>\n",
       "      <th>2</th>\n",
       "      <td>sadness</td>\n",
       "      <td>Cérémonie funéraire... vendredi sombre...</td>\n",
       "      <td>Cérémonie funéraire... vendredi sombre...</td>\n",
       "      <td>Cérémonie funéraire... vendredi sombre...</td>\n",
       "      <td>Cérémonie funèbre ... triste vendredi ...</td>\n",
       "      <td>['ceremonie', 'funebre', 'triste', 'vendredi']</td>\n",
       "    </tr>\n",
       "    <tr>\n",
       "      <th>3</th>\n",
       "      <td>joy</td>\n",
       "      <td>veut sortir avec des amis BIENTOT!</td>\n",
       "      <td>veut passer du temps avec des amis bientôt !</td>\n",
       "      <td>veut passer du temps avec des amis bientôt !</td>\n",
       "      <td>veut sortir avec des amis bientôt!</td>\n",
       "      <td>['vouloir', 'sortir', 'amis', 'bientot']</td>\n",
       "    </tr>\n",
       "    <tr>\n",
       "      <th>4</th>\n",
       "      <td>neutral</td>\n",
       "      <td>@dannycastillo On veut échanger avec quelqu’un...</td>\n",
       "      <td>@dannycastillo nous voulons commerce avec quel...</td>\n",
       "      <td>@dannycastillo nous voulons commerce avec quel...</td>\n",
       "      <td>@dannycastillo Nous voulons échanger avec quel...</td>\n",
       "      <td>['vouloir', 'echanger', 'quelqu', 'avoir', 'bi...</td>\n",
       "    </tr>\n",
       "    <tr>\n",
       "      <th>5</th>\n",
       "      <td>fear</td>\n",
       "      <td>Re-ping @ ghostridah14: pourquoi n’êtes-vous p...</td>\n",
       "      <td>@ghostridah14 re-ping : Pourquoi n’allez-vous ...</td>\n",
       "      <td>@ghostridah14 re-ping : Pourquoi n’allez-vous ...</td>\n",
       "      <td>Re-ping @ ghostridah14: pourquoi n’êtes-vous p...</td>\n",
       "      <td>['re', 'ping', 'pourquoi', 'n', 'etes', 'pas',...</td>\n",
       "    </tr>\n",
       "    <tr>\n",
       "      <th>6</th>\n",
       "      <td>sadness</td>\n",
       "      <td>Je devrais dormir, mais impossible! pense à un...</td>\n",
       "      <td>Je devrais être le sommeil, mais je ne suis pa...</td>\n",
       "      <td>Je devrais être le sommeil, mais je ne suis pa...</td>\n",
       "      <td>Je devrais dormir, mais pas! penser à un vieil...</td>\n",
       "      <td>['devoir', 'dormir', 'pas', 'penser', 'avoir',...</td>\n",
       "    </tr>\n",
       "  </tbody>\n",
       "</table>\n",
       "</div>"
      ],
      "text/plain": [
       "  sentiment                                        translation  \\\n",
       "1   sadness  Allongé sur mon lit avec un mal de tête ughhhh...   \n",
       "2   sadness          Cérémonie funéraire... vendredi sombre...   \n",
       "3       joy                 veut sortir avec des amis BIENTOT!   \n",
       "4   neutral  @dannycastillo On veut échanger avec quelqu’un...   \n",
       "5      fear  Re-ping @ ghostridah14: pourquoi n’êtes-vous p...   \n",
       "6   sadness  Je devrais dormir, mais impossible! pense à un...   \n",
       "\n",
       "                                  translation_yandex  \\\n",
       "1  Laporal n lit avec un mal de tête pouah... wai...   \n",
       "2          Cérémonie funéraire... vendredi sombre...   \n",
       "3       veut passer du temps avec des amis bientôt !   \n",
       "4  @dannycastillo nous voulons commerce avec quel...   \n",
       "5  @ghostridah14 re-ping : Pourquoi n’allez-vous ...   \n",
       "6  Je devrais être le sommeil, mais je ne suis pa...   \n",
       "\n",
       "                               translation_microsoft  \\\n",
       "1  Laporal n lit avec un mal de tête Pouah... wai...   \n",
       "2          Cérémonie funéraire... vendredi sombre...   \n",
       "3       veut passer du temps avec des amis bientôt !   \n",
       "4  @dannycastillo nous voulons commerce avec quel...   \n",
       "5  @ghostridah14 re-ping : Pourquoi n’allez-vous ...   \n",
       "6  Je devrais être le sommeil, mais je ne suis pa...   \n",
       "\n",
       "                                  translation_google  \\\n",
       "1  Layin n lit avec un mal de tête ughhhh ... att...   \n",
       "2          Cérémonie funèbre ... triste vendredi ...   \n",
       "3                 veut sortir avec des amis bientôt!   \n",
       "4  @dannycastillo Nous voulons échanger avec quel...   \n",
       "5  Re-ping @ ghostridah14: pourquoi n’êtes-vous p...   \n",
       "6  Je devrais dormir, mais pas! penser à un vieil...   \n",
       "\n",
       "                                          nlp_google  \n",
       "1  ['layin', 'n', 'lire', 'mal', 'tete', 'ughhhh'...  \n",
       "2     ['ceremonie', 'funebre', 'triste', 'vendredi']  \n",
       "3           ['vouloir', 'sortir', 'amis', 'bientot']  \n",
       "4  ['vouloir', 'echanger', 'quelqu', 'avoir', 'bi...  \n",
       "5  ['re', 'ping', 'pourquoi', 'n', 'etes', 'pas',...  \n",
       "6  ['devoir', 'dormir', 'pas', 'penser', 'avoir',...  "
      ]
     },
     "execution_count": 6,
     "metadata": {},
     "output_type": "execute_result"
    }
   ],
   "source": [
    "data.head(6)"
   ]
  },
  {
   "cell_type": "code",
   "execution_count": 7,
   "metadata": {},
   "outputs": [
    {
     "name": "stdout",
     "output_type": "stream",
     "text": [
      "258538\n",
      "23089\n"
     ]
    }
   ],
   "source": [
    "# liste contenant le vocabulaire\n",
    "vocab = []\n",
    "for i in data.index:\n",
    "    for word in data['nlp_google'][i][2:-2].split('\\', \\''):\n",
    "        vocab.append(word)\n",
    "print(len(vocab))\n",
    "print(len(set(vocab)))"
   ]
  },
  {
   "cell_type": "code",
   "execution_count": 8,
   "metadata": {},
   "outputs": [],
   "source": [
    "vocab = list(set(vocab))"
   ]
  },
  {
   "cell_type": "code",
   "execution_count": 10,
   "metadata": {},
   "outputs": [],
   "source": [
    "import ast\n",
    "def literal_return(val):\n",
    "    try:\n",
    "        return ast.literal_eval(val)\n",
    "    except (ValueError, SyntaxError) as e:\n",
    "        return val\n",
    "data['nlp_google'] = data['nlp_google'].apply(literal_return)"
   ]
  },
  {
   "cell_type": "code",
   "execution_count": 11,
   "metadata": {},
   "outputs": [
    {
     "name": "stdout",
     "output_type": "stream",
     "text": [
      "[list(['layin', 'n', 'lire', 'mal', 'tete', 'ughhhh', 'attendre', 'appel'])\n",
      " list(['ceremonie', 'funebre', 'triste', 'vendredi'])\n",
      " list(['vouloir', 'sortir', 'amis', 'bientot']) ...\n",
      " list(['comedie', 'bonne', 'chance', 'ami'])\n",
      " list(['stephs', 'grad', 'party', 'gr8', 'pousser', 'gateau', 'visage', 'watchd', 'seoir', 'chienner', 'gifler', 'garcon', 'manger', 'bonne', 'nourriture', 'satisfaire'])\n",
      " list(['sweeeeet', 'san', 'fran', 'genial', 'aimer', 'bas'])]\n",
      "[2937, 9637, 56, 149]\n",
      "train shape : (28163, 50)\n"
     ]
    }
   ],
   "source": [
    "max_features = data['nlp_google'].count()\n",
    "tokenizer = Tokenizer(num_words=max_features, split=' ')\n",
    "tokenizer.fit_on_texts(data['nlp_google'].values)\n",
    "\n",
    "print(data['nlp_google'].values)\n",
    "X_train = tokenizer.texts_to_sequences(data['nlp_google'].values)\n",
    "print(X_train[1])\n",
    "\n",
    "X_train = pad_sequences(X_train, padding='pre', maxlen=50)\n",
    "\n",
    "print('train shape : {}'.format((len(X_train), len(X_train[0]))))"
   ]
  },
  {
   "cell_type": "code",
   "execution_count": 12,
   "metadata": {},
   "outputs": [],
   "source": [
    "import pickle\n",
    "with open(\"./data/polyglot-fr.pkl\", 'rb') as f:\n",
    "        u = pickle._Unpickler(f)\n",
    "        u.encoding = 'latin1'\n",
    "        idx2word, embeddings = u.load()"
   ]
  },
  {
   "cell_type": "code",
   "execution_count": 13,
   "metadata": {},
   "outputs": [],
   "source": [
    "words = [x.lower() for x in list(idx2word)]"
   ]
  },
  {
   "cell_type": "code",
   "execution_count": 14,
   "metadata": {},
   "outputs": [],
   "source": [
    "# mots de notre dataset dont on a pas d'embedding dans polyglot : beaucoup de mots anglais \n",
    "# qui n'ont pas passé la traduction\n",
    "set(list(tokenizer.word_index.keys())) - set(words)"
   ]
  },
  {
   "cell_type": "code",
   "execution_count": 20,
   "metadata": {},
   "outputs": [],
   "source": [
    "## SETTING EMBEDDING WEIGHTS AND PARAMETERS\n",
    "embed_dim = 64\n",
    "embedding_weights = {key: embeddings[words.index(word)] if word in words else\n",
    "                     np.random.uniform(-0.25, 0.25, embed_dim)\n",
    "                     for word, key in tokenizer.word_index.items()}\n",
    "embedding_weights[0] = np.zeros(embed_dim)"
   ]
  },
  {
   "cell_type": "code",
   "execution_count": 21,
   "metadata": {},
   "outputs": [
    {
     "name": "stdout",
     "output_type": "stream",
     "text": [
      "WARNING:tensorflow:From /home/alix/Documents/DeepLearning/DL/lib/python3.6/site-packages/tensorflow/python/framework/op_def_library.py:263: colocate_with (from tensorflow.python.framework.ops) is deprecated and will be removed in a future version.\n",
      "Instructions for updating:\n",
      "Colocations handled automatically by placer.\n",
      "WARNING:tensorflow:From /home/alix/Documents/DeepLearning/DL/lib/python3.6/site-packages/keras/backend/tensorflow_backend.py:3445: calling dropout (from tensorflow.python.ops.nn_ops) with keep_prob is deprecated and will be removed in a future version.\n",
      "Instructions for updating:\n",
      "Please use `rate` instead of `keep_prob`. Rate should be set to `rate = 1 - keep_prob`.\n",
      "_________________________________________________________________\n",
      "Layer (type)                 Output Shape              Param #   \n",
      "=================================================================\n",
      "embedding_1 (Embedding)      (None, 50, 64)            1477696   \n",
      "_________________________________________________________________\n",
      "spatial_dropout1d_1 (Spatial (None, 50, 64)            0         \n",
      "_________________________________________________________________\n",
      "lstm_1 (LSTM)                (None, 196)               204624    \n",
      "_________________________________________________________________\n",
      "dense_1 (Dense)              (None, 7)                 1379      \n",
      "=================================================================\n",
      "Total params: 1,683,699\n",
      "Trainable params: 1,683,699\n",
      "Non-trainable params: 0\n",
      "_________________________________________________________________\n"
     ]
    }
   ],
   "source": [
    "# Définition du modèle de deep learning à utiliser\n",
    "lstm_out = 196\n",
    "from keras import regularizers\n",
    "model = Sequential()\n",
    "model.add(Embedding(len(embedding_weights), embed_dim, input_length = X_train.shape[1]))\n",
    "model.add(SpatialDropout1D(0.4))\n",
    "model.add(LSTM(lstm_out, dropout=0.2, recurrent_dropout=0.2))\n",
    "model.add(Dense(7, activation='softmax'))\n",
    "model.compile(loss = 'categorical_crossentropy', optimizer='adam', metrics = ['accuracy'])\n",
    "model.summary()"
   ]
  },
  {
   "cell_type": "code",
   "execution_count": 22,
   "metadata": {},
   "outputs": [
    {
     "data": {
      "text/plain": [
       "64"
      ]
     },
     "execution_count": 22,
     "metadata": {},
     "output_type": "execute_result"
    }
   ],
   "source": [
    "len(embeddings[0])"
   ]
  },
  {
   "cell_type": "code",
   "execution_count": 23,
   "metadata": {},
   "outputs": [],
   "source": [
    "## INITIALIZE EMBEDDING LAYER WITH EMBEDDING WEIGHTS\n",
    "weights = np.array([v for v in embedding_weights.values()])\n",
    "embedding_layer = model.get_layer('embedding_1')\n",
    "embedding_layer.set_weights([weights])"
   ]
  },
  {
   "cell_type": "code",
   "execution_count": null,
   "metadata": {},
   "outputs": [],
   "source": [
    "from keras.utils import plot_model\n",
    "import pydot"
   ]
  },
  {
   "cell_type": "code",
   "execution_count": null,
   "metadata": {},
   "outputs": [],
   "source": [
    "plot_model(model, to_file='model.png')"
   ]
  },
  {
   "cell_type": "code",
   "execution_count": 25,
   "metadata": {},
   "outputs": [
    {
     "name": "stdout",
     "output_type": "stream",
     "text": [
      "[[0 0 0 ... 0 1 0]\n",
      " [0 0 0 ... 0 1 0]\n",
      " [0 0 1 ... 0 0 0]\n",
      " ...\n",
      " [0 0 1 ... 0 0 0]\n",
      " [0 0 1 ... 0 0 0]\n",
      " [0 0 1 ... 0 0 0]]\n",
      "{0: 'anger', 1: 'fear', 2: 'joy', 3: 'love', 4: 'neutral', 5: 'sadness', 6: 'surprise'}\n"
     ]
    }
   ],
   "source": [
    "# Split the output\n",
    "df_Y = pd.get_dummies(data['sentiment'])\n",
    "Y = df_Y.values\n",
    "labels = list(df_Y.columns)\n",
    "map_label = {}\n",
    "for i, val in enumerate(labels):\n",
    "    map_label[i] = val\n",
    "print(Y)\n",
    "print(map_label)"
   ]
  },
  {
   "cell_type": "code",
   "execution_count": 26,
   "metadata": {},
   "outputs": [
    {
     "name": "stdout",
     "output_type": "stream",
     "text": [
      "WARNING:tensorflow:From /home/alix/Documents/DeepLearning/DL/lib/python3.6/site-packages/tensorflow/python/ops/math_ops.py:3066: to_int32 (from tensorflow.python.ops.math_ops) is deprecated and will be removed in a future version.\n",
      "Instructions for updating:\n",
      "Use tf.cast instead.\n",
      "Epoch 1/10\n",
      " - 53s - loss: 1.7521 - acc: 0.2959\n",
      "Epoch 2/10\n",
      " - 54s - loss: 1.6515 - acc: 0.3525\n",
      "Epoch 3/10\n",
      " - 54s - loss: 1.5532 - acc: 0.3981\n",
      "Epoch 4/10\n",
      " - 54s - loss: 1.4628 - acc: 0.4369\n",
      "Epoch 5/10\n",
      " - 54s - loss: 1.3751 - acc: 0.4788\n",
      "Epoch 6/10\n",
      " - 55s - loss: 1.2726 - acc: 0.5250\n",
      "Epoch 7/10\n",
      " - 55s - loss: 1.1734 - acc: 0.5642\n",
      "Epoch 8/10\n",
      " - 58s - loss: 1.0798 - acc: 0.6043\n",
      "Epoch 9/10\n",
      " - 65s - loss: 1.0045 - acc: 0.6315\n",
      "Epoch 10/10\n",
      " - 61s - loss: 0.9364 - acc: 0.6572\n"
     ]
    },
    {
     "data": {
      "text/plain": [
       "<keras.callbacks.History at 0x7f80c4231a90>"
      ]
     },
     "execution_count": 26,
     "metadata": {},
     "output_type": "execute_result"
    }
   ],
   "source": [
    "# Fit the model\n",
    "batch_size = 32\n",
    "model.fit(X_train, Y, epochs = 10, batch_size=batch_size, verbose = 2)"
   ]
  },
  {
   "cell_type": "code",
   "execution_count": 27,
   "metadata": {},
   "outputs": [],
   "source": [
    "def most_common(lst):\n",
    "    lst = [el for el in lst if el != 'no_emotion']\n",
    "    if len(lst) == 0:\n",
    "        return 'no_emotion'\n",
    "    else:\n",
    "        return max(set(lst), key=lst.count)\n",
    "    \n",
    "def predict(x_test, tokenizer, model, predict_word):\n",
    "    \n",
    "    predictions = []\n",
    "    \n",
    "    for sentence in x_test:\n",
    "        if predict_word:\n",
    "            list_emotion_word = []\n",
    "            for word in sentence.split(\" \"):  \n",
    "                txt = tokenizer.texts_to_sequences([word])\n",
    "                txt = pad_sequences(txt, maxlen=50)\n",
    "                sentiment = model.predict(txt, batch_size=1, verbose = 2)[0]\n",
    "                list_emotion_word.append(map_label[np.argmax(sentiment)])\n",
    "            predictions.append(most_common(list_emotion_word))\n",
    "        else:\n",
    "            txt = tokenizer.texts_to_sequences([sentence])\n",
    "            txt = pad_sequences(txt, maxlen=50)\n",
    "            sentiment = model.predict(txt, batch_size=1, verbose = 2)[0]\n",
    "            predictions.append(map_label[np.argmax(sentiment)])\n",
    "    \n",
    "    return predictions"
   ]
  },
  {
   "cell_type": "code",
   "execution_count": 28,
   "metadata": {},
   "outputs": [],
   "source": [
    "import ast\n",
    "def literal_return(val):\n",
    "    try:\n",
    "        return ast.literal_eval(val)\n",
    "    except (ValueError, SyntaxError) as e:\n",
    "        return val\n",
    "data_test['phrase_lem'] = data_test['phrase_lem'].apply(literal_return)"
   ]
  },
  {
   "cell_type": "code",
   "execution_count": 29,
   "metadata": {},
   "outputs": [
    {
     "name": "stdout",
     "output_type": "stream",
     "text": [
      "0.41132075471698115\n",
      "[[ 2 12  2  1 14  4  1]\n",
      " [ 3 19  3  0 16  0  0]\n",
      " [ 0  3 30  4  8  2  1]\n",
      " [ 0  1  7 12  1  0  0]\n",
      " [ 0  6  6  0 27  1  0]\n",
      " [ 0 15  1  0  8 13  0]\n",
      " [ 0 10 13  2 11  0  6]]\n"
     ]
    }
   ],
   "source": [
    "# Calcul du score final\n",
    "from sklearn.metrics import accuracy_score\n",
    "from sklearn.metrics import confusion_matrix\n",
    "pd.set_option('display.max_colwidth', -1)\n",
    "\n",
    "y_test = y_test = data_test['emotion']\n",
    "\n",
    "predictions = predict(data_test['phrase_lem'], tokenizer, model, predict_word=False)\n",
    "\n",
    "accuracy = accuracy_score(y_test, predictions)\n",
    "conf_mat = confusion_matrix(y_test, predictions)\n",
    "\n",
    "print(accuracy)\n",
    "print(conf_mat)"
   ]
  },
  {
   "cell_type": "code",
   "execution_count": 32,
   "metadata": {},
   "outputs": [
    {
     "data": {
      "image/png": "[encoded data removed]",
      "text/plain": [
       "<Figure size 576x432 with 2 Axes>"
      ]
     },
     "metadata": {
      "needs_background": "light"
     },
     "output_type": "display_data"
    }
   ],
   "source": [
    "def plot_confusion_matrix(cm,\n",
    "                          target_names,\n",
    "                          title='Confusion matrix',\n",
    "                          cmap=None,\n",
    "                          normalize=True):\n",
    "    \"\"\"\n",
    "    This function prints and plots the confusion matrix.\n",
    "    Normalization can be applied by setting `normalize=True`.\n",
    "\n",
    "    cm is the confusion matrix to use\n",
    "    target names is the list of labels\n",
    "    \"\"\"\n",
    "    import matplotlib.pyplot as plt\n",
    "    import numpy as np\n",
    "    import itertools\n",
    "\n",
    "    accuracy = np.trace(cm) / float(np.sum(cm))\n",
    "    misclass = 1 - accuracy\n",
    "\n",
    "    if cmap is None:\n",
    "        cmap = plt.get_cmap('Blues')\n",
    "\n",
    "    plt.figure(figsize=(8, 6))\n",
    "    plt.imshow(cm, interpolation='nearest', cmap=cmap)\n",
    "    plt.title(title)\n",
    "    plt.colorbar()\n",
    "\n",
    "    if target_names is not None:\n",
    "        tick_marks = np.arange(len(target_names))\n",
    "        plt.xticks(tick_marks, target_names, rotation=45)\n",
    "        plt.yticks(tick_marks, target_names)\n",
    "\n",
    "    if normalize:\n",
    "        cm = cm.astype('float') / cm.sum(axis=1)[:, np.newaxis]\n",
    "\n",
    "\n",
    "    thresh = cm.max() / 1.5 if normalize else cm.max() / 2\n",
    "    for i, j in itertools.product(range(cm.shape[0]), range(cm.shape[1])):\n",
    "        if normalize:\n",
    "            plt.text(j, i, \"{:0.4f}\".format(cm[i, j]),\n",
    "                     horizontalalignment=\"center\",\n",
    "                     color=\"white\" if cm[i, j] > thresh else \"black\")\n",
    "        else:\n",
    "            plt.text(j, i, \"{:,}\".format(cm[i, j]),\n",
    "                     horizontalalignment=\"center\",\n",
    "                     color=\"white\" if cm[i, j] > thresh else \"black\")\n",
    "\n",
    "\n",
    "    plt.tight_layout()\n",
    "    plt.ylabel('True label')\n",
    "    plt.xlabel('Predicted label\\naccuracy={:0.4f}; misclass={:0.4f}'.format(accuracy, misclass))\n",
    "    plt.show()\n",
    "    \n",
    "plot_confusion_matrix(conf_mat, target_names=['anger','fear', 'joy', 'love', 'neutral', 'sadness', 'surprise'])"
   ]
  },
  {
   "cell_type": "code",
   "execution_count": 33,
   "metadata": {},
   "outputs": [
    {
     "name": "stdout",
     "output_type": "stream",
     "text": [
      "{0: 'anger', 1: 'fear', 2: 'joy', 3: 'love', 4: 'neutral', 5: 'sadness', 6: 'surprise'}\n"
     ]
    }
   ],
   "source": [
    "print({0: 'anger', 1: 'fear', 2: 'joy', 3: 'love', 4: 'neutral', 5: 'sadness', 6: 'surprise'})"
   ]
  },
  {
   "cell_type": "code",
   "execution_count": 34,
   "metadata": {},
   "outputs": [],
   "source": [
    "data_test['predictions'] = predictions"
   ]
  },
  {
   "cell_type": "code",
   "execution_count": 39,
   "metadata": {},
   "outputs": [
    {
     "data": {
      "text/html": [
       "<div>\n",
       "<style scoped>\n",
       "    .dataframe tbody tr th:only-of-type {\n",
       "        vertical-align: middle;\n",
       "    }\n",
       "\n",
       "    .dataframe tbody tr th {\n",
       "        vertical-align: top;\n",
       "    }\n",
       "\n",
       "    .dataframe thead th {\n",
       "        text-align: right;\n",
       "    }\n",
       "</style>\n",
       "<table border=\"1\" class=\"dataframe\">\n",
       "  <thead>\n",
       "    <tr style=\"text-align: right;\">\n",
       "      <th></th>\n",
       "      <th>Unnamed: 0</th>\n",
       "      <th>phrase</th>\n",
       "      <th>emotion</th>\n",
       "      <th>phrase_lem</th>\n",
       "      <th>predictions</th>\n",
       "    </tr>\n",
       "  </thead>\n",
       "  <tbody>\n",
       "    <tr>\n",
       "      <th>208</th>\n",
       "      <td>208</td>\n",
       "      <td>Il avait la trouille de se jeter, on a du le pousser</td>\n",
       "      <td>fear</td>\n",
       "      <td>[trouille, jeter, avoir, pousser]</td>\n",
       "      <td>neutral</td>\n",
       "    </tr>\n",
       "    <tr>\n",
       "      <th>10</th>\n",
       "      <td>10</td>\n",
       "      <td>Les mots blessent vous savez</td>\n",
       "      <td>sadness</td>\n",
       "      <td>[les, mots, blesser, savoir]</td>\n",
       "      <td>sadness</td>\n",
       "    </tr>\n",
       "    <tr>\n",
       "      <th>197</th>\n",
       "      <td>197</td>\n",
       "      <td>Il a été pris d'un fou rire, il ne pouvait plus s'arrêter de rigoler</td>\n",
       "      <td>joy</td>\n",
       "      <td>[avoir, ete, prendre, fou, rire, ne, pouvoir, plaire, arreter, rigoler]</td>\n",
       "      <td>joy</td>\n",
       "    </tr>\n",
       "    <tr>\n",
       "      <th>91</th>\n",
       "      <td>91</td>\n",
       "      <td>Tension sur le plateau</td>\n",
       "      <td>anger</td>\n",
       "      <td>[tension, plateau]</td>\n",
       "      <td>fear</td>\n",
       "    </tr>\n",
       "    <tr>\n",
       "      <th>183</th>\n",
       "      <td>183</td>\n",
       "      <td>Je suis très déçu qu'il n'est pas pu venir</td>\n",
       "      <td>sadness</td>\n",
       "      <td>[tres, decu, n, pas, pouvoir, venir]</td>\n",
       "      <td>sadness</td>\n",
       "    </tr>\n",
       "  </tbody>\n",
       "</table>\n",
       "</div>"
      ],
      "text/plain": [
       "     Unnamed: 0  \\\n",
       "208  208          \n",
       "10   10           \n",
       "197  197          \n",
       "91   91           \n",
       "183  183          \n",
       "\n",
       "                                                                   phrase  \\\n",
       "208  Il avait la trouille de se jeter, on a du le pousser                   \n",
       "10   Les mots blessent vous savez                                           \n",
       "197  Il a été pris d'un fou rire, il ne pouvait plus s'arrêter de rigoler   \n",
       "91   Tension sur le plateau                                                 \n",
       "183  Je suis très déçu qu'il n'est pas pu venir                             \n",
       "\n",
       "     emotion  \\\n",
       "208  fear      \n",
       "10   sadness   \n",
       "197  joy       \n",
       "91   anger     \n",
       "183  sadness   \n",
       "\n",
       "                                                                  phrase_lem  \\\n",
       "208  [trouille, jeter, avoir, pousser]                                         \n",
       "10   [les, mots, blesser, savoir]                                              \n",
       "197  [avoir, ete, prendre, fou, rire, ne, pouvoir, plaire, arreter, rigoler]   \n",
       "91   [tension, plateau]                                                        \n",
       "183  [tres, decu, n, pas, pouvoir, venir]                                      \n",
       "\n",
       "    predictions  \n",
       "208  neutral     \n",
       "10   sadness     \n",
       "197  joy         \n",
       "91   fear        \n",
       "183  sadness     "
      ]
     },
     "execution_count": 39,
     "metadata": {},
     "output_type": "execute_result"
    }
   ],
   "source": [
    "data_test.sample(5)"
   ]
  },
  {
   "cell_type": "code",
   "execution_count": 40,
   "metadata": {},
   "outputs": [],
   "source": [
    "data_test.to_csv('first_result_with_lem.csv')"
   ]
  },
  {
   "cell_type": "markdown",
   "metadata": {},
   "source": [
    "# Test GRU"
   ]
  },
  {
   "cell_type": "code",
   "execution_count": 16,
   "metadata": {},
   "outputs": [],
   "source": [
    "# Importation des librairies\n",
    "\n",
    "import numpy as np \n",
    "import pandas as pd\n",
    "\n",
    "from sklearn.feature_extraction.text import CountVectorizer\n",
    "from keras.preprocessing.text import Tokenizer\n",
    "from keras.preprocessing.sequence import pad_sequences\n",
    "from keras.models import Sequential\n",
    "from keras.layers import Dense, Embedding, LSTM, SpatialDropout1D, GRU\n",
    "from sklearn.model_selection import train_test_split\n",
    "from keras.utils.np_utils import to_categorical\n",
    "import re\n",
    "import sys\n",
    "import time\n",
    "import os\n",
    "sys.path.append(os.path.dirname(os.getcwd()))\n",
    "\n",
    "from code_project.data_science.utils_project import load_saved_file, read_feel, process_label, process_nlp, vectorize, apply_vectorization\n",
    "from code_project.data_science.evaluate import load_test_set, evaluate_model\n",
    "from code_project.config_project import *"
   ]
  },
  {
   "cell_type": "code",
   "execution_count": 2,
   "metadata": {},
   "outputs": [],
   "source": [
    "# Lecture des données\n",
    "PATH_DATA = \"data/kaggle-traduction/translate_final_lemmatized.csv\"\n",
    "\n",
    "data = pd.read_csv(PATH_DATA, sep=\";\", encoding='utf-8')\n",
    "data= data.drop(['Unnamed: 0'], axis=1)\n",
    "data = data.fillna(\"\")\n",
    "data.head(5)\n",
    "\n",
    "# Si True alors on prédit sur chaque mot puis on agrège la prédiction\n",
    "PREDICT_WORD = True"
   ]
  },
  {
   "cell_type": "code",
   "execution_count": 6,
   "metadata": {},
   "outputs": [
    {
     "data": {
      "text/html": [
       "<div>\n",
       "<style scoped>\n",
       "    .dataframe tbody tr th:only-of-type {\n",
       "        vertical-align: middle;\n",
       "    }\n",
       "\n",
       "    .dataframe tbody tr th {\n",
       "        vertical-align: top;\n",
       "    }\n",
       "\n",
       "    .dataframe thead th {\n",
       "        text-align: right;\n",
       "    }\n",
       "</style>\n",
       "<table border=\"1\" class=\"dataframe\">\n",
       "  <thead>\n",
       "    <tr style=\"text-align: right;\">\n",
       "      <th></th>\n",
       "      <th>Unnamed: 0</th>\n",
       "      <th>phrase</th>\n",
       "      <th>emotion</th>\n",
       "      <th>phrase_lem</th>\n",
       "    </tr>\n",
       "  </thead>\n",
       "  <tbody>\n",
       "    <tr>\n",
       "      <th>201</th>\n",
       "      <td>201</td>\n",
       "      <td>Il était vraiment très anxieux à l'attente de ...</td>\n",
       "      <td>fear</td>\n",
       "      <td>['etait', 'vraiment', 'tres', 'anxieux', 'avoi...</td>\n",
       "    </tr>\n",
       "    <tr>\n",
       "      <th>2</th>\n",
       "      <td>2</td>\n",
       "      <td>il fait beau</td>\n",
       "      <td>neutral</td>\n",
       "      <td>['faire', 'beau']</td>\n",
       "    </tr>\n",
       "    <tr>\n",
       "      <th>176</th>\n",
       "      <td>176</td>\n",
       "      <td>Stefano pestait contre les nids de poules qui ...</td>\n",
       "      <td>anger</td>\n",
       "      <td>['stefano', 'pester', 'contrer', 'les', 'nids'...</td>\n",
       "    </tr>\n",
       "    <tr>\n",
       "      <th>256</th>\n",
       "      <td>256</td>\n",
       "      <td>J'adore aller me balader dans Paris ! Cette vi...</td>\n",
       "      <td>love</td>\n",
       "      <td>['adorer', 'aller', 'balader', 'paris', 'cette...</td>\n",
       "    </tr>\n",
       "    <tr>\n",
       "      <th>223</th>\n",
       "      <td>223</td>\n",
       "      <td>Ah Marc vient finalement à la soirée ? Je pens...</td>\n",
       "      <td>surprise</td>\n",
       "      <td>['ah', 'marc', 'venir', 'finalement', 'avoir',...</td>\n",
       "    </tr>\n",
       "  </tbody>\n",
       "</table>\n",
       "</div>"
      ],
      "text/plain": [
       "     Unnamed: 0                                             phrase   emotion  \\\n",
       "201         201  Il était vraiment très anxieux à l'attente de ...      fear   \n",
       "2             2                                       il fait beau   neutral   \n",
       "176         176  Stefano pestait contre les nids de poules qui ...     anger   \n",
       "256         256  J'adore aller me balader dans Paris ! Cette vi...      love   \n",
       "223         223  Ah Marc vient finalement à la soirée ? Je pens...  surprise   \n",
       "\n",
       "                                            phrase_lem  \n",
       "201  ['etait', 'vraiment', 'tres', 'anxieux', 'avoi...  \n",
       "2                                    ['faire', 'beau']  \n",
       "176  ['stefano', 'pester', 'contrer', 'les', 'nids'...  \n",
       "256  ['adorer', 'aller', 'balader', 'paris', 'cette...  \n",
       "223  ['ah', 'marc', 'venir', 'finalement', 'avoir',...  "
      ]
     },
     "execution_count": 6,
     "metadata": {},
     "output_type": "execute_result"
    }
   ],
   "source": [
    "TEST_SET_PATH = \"data/test_set_trad_lem.csv\"\n",
    "data_test = pd.read_csv(TEST_SET_PATH, sep=\";\", encoding='utf-8')\n",
    "data_test.sample(5)"
   ]
  },
  {
   "cell_type": "code",
   "execution_count": 11,
   "metadata": {},
   "outputs": [
    {
     "data": {
      "text/html": [
       "<div>\n",
       "<style scoped>\n",
       "    .dataframe tbody tr th:only-of-type {\n",
       "        vertical-align: middle;\n",
       "    }\n",
       "\n",
       "    .dataframe tbody tr th {\n",
       "        vertical-align: top;\n",
       "    }\n",
       "\n",
       "    .dataframe thead th {\n",
       "        text-align: right;\n",
       "    }\n",
       "</style>\n",
       "<table border=\"1\" class=\"dataframe\">\n",
       "  <thead>\n",
       "    <tr style=\"text-align: right;\">\n",
       "      <th></th>\n",
       "      <th>sentiment</th>\n",
       "      <th>translation</th>\n",
       "      <th>translation_yandex</th>\n",
       "      <th>translation_microsoft</th>\n",
       "      <th>translation_google</th>\n",
       "      <th>nlp_google</th>\n",
       "      <th>nlp_sentence</th>\n",
       "    </tr>\n",
       "  </thead>\n",
       "  <tbody>\n",
       "    <tr>\n",
       "      <th>18124</th>\n",
       "      <td>fear</td>\n",
       "      <td></td>\n",
       "      <td>Pauvre Johnny est malade, on dirait qu'il va l...</td>\n",
       "      <td>Pauvre Johnny est malade on dirait qu’il vais ...</td>\n",
       "      <td>Le pauvre Johnny est malade On dirait qu'il ir...</td>\n",
       "      <td>['pauvre', 'johnny', 'malade', 'dire', 'aller'...</td>\n",
       "      <td>pauvr johnny malad dir ira chez veterinair demain</td>\n",
       "    </tr>\n",
       "    <tr>\n",
       "      <th>1767</th>\n",
       "      <td>sadness</td>\n",
       "      <td></td>\n",
       "      <td>@itstayloryall Im si triste que vous nous avez...</td>\n",
       "      <td>@itstayloryall Im si triste que vous nous avez...</td>\n",
       "      <td>@ itstayloryall Je suis si triste que tu nous ...</td>\n",
       "      <td>['si', 'triste', 'manquer', 'avoir', 'reunion'...</td>\n",
       "      <td>si trist manqu a reunion famill</td>\n",
       "    </tr>\n",
       "    <tr>\n",
       "      <th>1982</th>\n",
       "      <td>neutral</td>\n",
       "      <td></td>\n",
       "      <td>doit aller au lit, mais ne peut pas dormir tou...</td>\n",
       "      <td>doit aller au lit, mais ne peut pas dormir tou...</td>\n",
       "      <td>devrait aller au lit mais ne peut pas dormir m...</td>\n",
       "      <td>['devoir', 'aller', 'lire', 'ne', 'pouvoir', '...</td>\n",
       "      <td>devr aller lit ne peut pas dorm mainten</td>\n",
       "    </tr>\n",
       "  </tbody>\n",
       "</table>\n",
       "</div>"
      ],
      "text/plain": [
       "      sentiment translation  \\\n",
       "18124      fear               \n",
       "1767    sadness               \n",
       "1982    neutral               \n",
       "\n",
       "                                      translation_yandex  \\\n",
       "18124  Pauvre Johnny est malade, on dirait qu'il va l...   \n",
       "1767   @itstayloryall Im si triste que vous nous avez...   \n",
       "1982   doit aller au lit, mais ne peut pas dormir tou...   \n",
       "\n",
       "                                   translation_microsoft  \\\n",
       "18124  Pauvre Johnny est malade on dirait qu’il vais ...   \n",
       "1767   @itstayloryall Im si triste que vous nous avez...   \n",
       "1982   doit aller au lit, mais ne peut pas dormir tou...   \n",
       "\n",
       "                                      translation_google  \\\n",
       "18124  Le pauvre Johnny est malade On dirait qu'il ir...   \n",
       "1767   @ itstayloryall Je suis si triste que tu nous ...   \n",
       "1982   devrait aller au lit mais ne peut pas dormir m...   \n",
       "\n",
       "                                              nlp_google  \\\n",
       "18124  ['pauvre', 'johnny', 'malade', 'dire', 'aller'...   \n",
       "1767   ['si', 'triste', 'manquer', 'avoir', 'reunion'...   \n",
       "1982   ['devoir', 'aller', 'lire', 'ne', 'pouvoir', '...   \n",
       "\n",
       "                                            nlp_sentence  \n",
       "18124  pauvr johnny malad dir ira chez veterinair demain  \n",
       "1767                     si trist manqu a reunion famill  \n",
       "1982             devr aller lit ne peut pas dorm mainten  "
      ]
     },
     "execution_count": 11,
     "metadata": {},
     "output_type": "execute_result"
    }
   ],
   "source": [
    "data.sample(3)"
   ]
  },
  {
   "cell_type": "code",
   "execution_count": 7,
   "metadata": {},
   "outputs": [
    {
     "data": {
      "text/plain": [
       "fear        7433\n",
       "neutral     6340\n",
       "sadness     4828\n",
       "joy         4596\n",
       "love        2068\n",
       "surprise    1613\n",
       "anger       1285\n",
       "Name: sentiment, dtype: int64"
      ]
     },
     "execution_count": 7,
     "metadata": {},
     "output_type": "execute_result"
    }
   ],
   "source": [
    "# On ne garde que certains sentiments\n",
    "data.loc[data.sentiment == 'hate', ['sentiment']] = 'anger'\n",
    "data.loc[data.sentiment == 'enthusiasm', ['sentiment']] = 'joy'\n",
    "data.loc[data.sentiment == 'fun', ['sentiment']] = 'joy'\n",
    "data.loc[data.sentiment == 'worry', ['sentiment']] = 'fear'\n",
    "data.loc[data.sentiment == 'happiness', ['sentiment']] = 'joy'\n",
    "data.loc[data.sentiment == 'love', ['sentiment']] = 'love'\n",
    "data = data.loc[~data.sentiment.isin(['boredom', 'relief', 'empty'])]\n",
    "data.sentiment.value_counts()"
   ]
  },
  {
   "cell_type": "code",
   "execution_count": 12,
   "metadata": {},
   "outputs": [
    {
     "name": "stdout",
     "output_type": "stream",
     "text": [
      "train shape : (28163, 50)\n"
     ]
    }
   ],
   "source": [
    "max_features = data['nlp_google'].count()\n",
    "tokenizer = Tokenizer(num_words=max_features, split=' ')\n",
    "tokenizer.fit_on_texts(data['nlp_google'].values)\n",
    "X_train = tokenizer.texts_to_sequences(data['nlp_google'].values)\n",
    "X_train = pad_sequences(X_train, padding='pre', maxlen=50)\n",
    "\n",
    "print('train shape : {}'.format((len(X_train), len(X_train[0]))))"
   ]
  },
  {
   "cell_type": "code",
   "execution_count": 13,
   "metadata": {},
   "outputs": [],
   "source": [
    "import gensim \n",
    "tokenizer = Tokenizer(num_words=max_features, split=' ')\n",
    "tokenizer.fit_on_texts(data['nlp_google'].values)"
   ]
  },
  {
   "cell_type": "code",
   "execution_count": 14,
   "metadata": {},
   "outputs": [
    {
     "data": {
      "text/plain": [
       "28163"
      ]
     },
     "execution_count": 14,
     "metadata": {},
     "output_type": "execute_result"
    }
   ],
   "source": [
    "max_features = data['nlp_google'].count()\n",
    "max_features"
   ]
  },
  {
   "cell_type": "code",
   "execution_count": 17,
   "metadata": {},
   "outputs": [
    {
     "name": "stdout",
     "output_type": "stream",
     "text": [
      "_________________________________________________________________\n",
      "Layer (type)                 Output Shape              Param #   \n",
      "=================================================================\n",
      "embedding_2 (Embedding)      (None, 50, 128)           3604864   \n",
      "_________________________________________________________________\n",
      "spatial_dropout1d_2 (Spatial (None, 50, 128)           0         \n",
      "_________________________________________________________________\n",
      "gru_1 (GRU)                  (None, 196)               191100    \n",
      "_________________________________________________________________\n",
      "dense_1 (Dense)              (None, 7)                 1379      \n",
      "=================================================================\n",
      "Total params: 3,797,343\n",
      "Trainable params: 3,797,343\n",
      "Non-trainable params: 0\n",
      "_________________________________________________________________\n"
     ]
    }
   ],
   "source": [
    "# Définition du modèle de deep learning à utiliser\n",
    "embed_dim = 128\n",
    "lstm_out = 196\n",
    "\n",
    "model = Sequential()\n",
    "model.add(Embedding(max_features, embed_dim, input_length = X_train.shape[1]))\n",
    "model.add(SpatialDropout1D(0.4))\n",
    "model.add(GRU(lstm_out, dropout=0.2, recurrent_dropout=0.2))\n",
    "model.add(Dense(7, activation='softmax'))\n",
    "model.compile(loss = 'categorical_crossentropy', optimizer='adam', metrics = ['accuracy'])\n",
    "model.summary()"
   ]
  },
  {
   "cell_type": "code",
   "execution_count": 18,
   "metadata": {},
   "outputs": [
    {
     "name": "stdout",
     "output_type": "stream",
     "text": [
      "[[0 0 0 ... 0 1 0]\n",
      " [0 0 0 ... 0 1 0]\n",
      " [0 0 1 ... 0 0 0]\n",
      " ...\n",
      " [0 0 1 ... 0 0 0]\n",
      " [0 0 1 ... 0 0 0]\n",
      " [0 0 1 ... 0 0 0]]\n",
      "{0: 'anger', 1: 'fear', 2: 'joy', 3: 'love', 4: 'neutral', 5: 'sadness', 6: 'surprise'}\n"
     ]
    }
   ],
   "source": [
    "# Split the output\n",
    "df_Y = pd.get_dummies(data['sentiment'])\n",
    "Y = df_Y.values\n",
    "labels = list(df_Y.columns)\n",
    "map_label = {}\n",
    "for i, val in enumerate(labels):\n",
    "    map_label[i] = val\n",
    "print(Y)\n",
    "print(map_label)"
   ]
  },
  {
   "cell_type": "code",
   "execution_count": 19,
   "metadata": {},
   "outputs": [
    {
     "name": "stdout",
     "output_type": "stream",
     "text": [
      "WARNING:tensorflow:From c:\\users\\thoma\\appdata\\local\\programs\\python\\python37\\lib\\site-packages\\tensorflow\\python\\ops\\math_ops.py:3066: to_int32 (from tensorflow.python.ops.math_ops) is deprecated and will be removed in a future version.\n",
      "Instructions for updating:\n",
      "Use tf.cast instead.\n",
      "Epoch 1/10\n",
      " - 64s - loss: 1.6902 - acc: 0.3300\n",
      "Epoch 2/10\n",
      " - 62s - loss: 1.4815 - acc: 0.4350\n",
      "Epoch 3/10\n",
      " - 63s - loss: 1.2920 - acc: 0.5185\n",
      "Epoch 4/10\n",
      " - 62s - loss: 1.1019 - acc: 0.5994\n",
      "Epoch 5/10\n",
      " - 59s - loss: 0.9416 - acc: 0.6668\n",
      "Epoch 6/10\n",
      " - 59s - loss: 0.8142 - acc: 0.7116\n",
      "Epoch 7/10\n",
      " - 57s - loss: 0.7227 - acc: 0.7438\n",
      "Epoch 8/10\n",
      " - 58s - loss: 0.6538 - acc: 0.7659\n",
      "Epoch 9/10\n",
      " - 60s - loss: 0.5935 - acc: 0.7857\n",
      "Epoch 10/10\n",
      " - 58s - loss: 0.5469 - acc: 0.8047\n"
     ]
    },
    {
     "data": {
      "text/plain": [
       "<keras.callbacks.History at 0x1ec451a69e8>"
      ]
     },
     "execution_count": 19,
     "metadata": {},
     "output_type": "execute_result"
    }
   ],
   "source": [
    "# Fit the model\n",
    "batch_size = 64\n",
    "model.fit(X_train, Y, epochs = 10, batch_size=batch_size, verbose = 2)"
   ]
  },
  {
   "cell_type": "code",
   "execution_count": 20,
   "metadata": {},
   "outputs": [],
   "source": [
    "def most_common(lst):\n",
    "    lst = [el for el in lst if el != 'no_emotion']\n",
    "    if len(lst) == 0:\n",
    "        return 'no_emotion'\n",
    "    else:\n",
    "        return max(set(lst), key=lst.count)\n",
    "    \n",
    "def predict(x_test, tokenizer, model, predict_word):\n",
    "    \n",
    "    predictions = []\n",
    "    \n",
    "    for sentence in x_test:\n",
    "        if predict_word:\n",
    "            list_emotion_word = []\n",
    "            for word in sentence.split(\" \"):\n",
    "                txt = tokenizer.texts_to_sequences([word])\n",
    "                txt = pad_sequences(txt, maxlen=50)\n",
    "                sentiment = model.predict(txt, batch_size=1, verbose = 2)[0]\n",
    "                list_emotion_word.append(map_label[np.argmax(sentiment)])\n",
    "            predictions.append(most_common(list_emotion_word))\n",
    "        else:\n",
    "            txt = tokenizer.texts_to_sequences([sentence])\n",
    "            txt = pad_sequences(txt, maxlen=50)\n",
    "            sentiment = model.predict(txt, batch_size=1, verbose = 2)[0]\n",
    "            predictions.append(map_label[np.argmax(sentiment)])\n",
    "    \n",
    "    return predictions"
   ]
  },
  {
   "cell_type": "code",
   "execution_count": 23,
   "metadata": {},
   "outputs": [
    {
     "name": "stdout",
     "output_type": "stream",
     "text": [
      "0.3660377358490566\n",
      "[[ 4 12  3  0 13  4  0]\n",
      " [ 2 17  5  2  9  2  4]\n",
      " [ 0  6 26  5  5  5  1]\n",
      " [ 1  2  4 11  1  1  1]\n",
      " [ 2  4  7  4 21  2  0]\n",
      " [ 0 19  1  1  5  9  2]\n",
      " [ 0 11  9  4  7  2  9]]\n"
     ]
    }
   ],
   "source": [
    "# Calcul du score final\n",
    "from sklearn.metrics import accuracy_score\n",
    "from sklearn.metrics import confusion_matrix\n",
    "pd.set_option('display.max_colwidth', -1)\n",
    "\n",
    "y_test = y_test = data_test['emotion']\n",
    "\n",
    "predictions = predict(data_test['phrase_lem'], tokenizer, model, predict_word=False)\n",
    "\n",
    "accuracy = accuracy_score(y_test, predictions)\n",
    "conf_mat = confusion_matrix(y_test, predictions)\n",
    "\n",
    "print(accuracy)\n",
    "print(conf_mat)"
   ]
  },
  {
   "cell_type": "code",
   "execution_count": 24,
   "metadata": {},
   "outputs": [
    {
     "name": "stdout",
     "output_type": "stream",
     "text": [
      "{0: 'anger', 1: 'fear', 2: 'joy', 3: 'love', 4: 'neutral', 5: 'sadness', 6: 'surprise'}\n"
     ]
    }
   ],
   "source": [
    "print({0: 'anger', 1: 'fear', 2: 'joy', 3: 'love', 4: 'neutral', 5: 'sadness', 6: 'surprise'})"
   ]
  },
  {
   "cell_type": "code",
   "execution_count": 258,
   "metadata": {},
   "outputs": [
    {
     "data": {
      "text/plain": [
       "<Figure size 800x600 with 2 Axes>"
      ]
     },
     "metadata": {},
     "output_type": "display_data"
    }
   ],
   "source": [
    "import matplotlib.pyplot as plt\n",
    "\n",
    "from sklearn import svm\n",
    "from sklearn.metrics import confusion_matrix\n",
    "from sklearn.utils.multiclass import unique_labels\n",
    "\n",
    "from sklearn.model_selection import ParameterGrid\n",
    "from sklearn.metrics import accuracy_score\n",
    "from sklearn.metrics import confusion_matrix\n",
    "\n",
    "import pandas as pd\n",
    "import numpy as np\n",
    "\n",
    "\n",
    "\n",
    "\n",
    "plot_confusion_matrix(conf_mat, target_names=['anger','fear', 'joy', 'love', 'neutral', 'sadness', 'surprise'])\n"
   ]
  },
  {
   "cell_type": "code",
   "execution_count": null,
   "metadata": {},
   "outputs": [],
   "source": []
  }
 ],
 "metadata": {
  "kernelspec": {
   "display_name": "Python 3",
   "language": "python",
   "name": "python3"
  },
  "language_info": {
   "codemirror_mode": {
    "name": "ipython",
    "version": 3
   },
   "file_extension": ".py",
   "mimetype": "text/x-python",
   "name": "python",
   "nbconvert_exporter": "python",
   "pygments_lexer": "ipython3",
   "version": "3.6.7"
  }
 },
 "nbformat": 4,
 "nbformat_minor": 2
}
