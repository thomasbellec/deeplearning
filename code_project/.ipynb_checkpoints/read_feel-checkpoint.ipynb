{
 "cells": [
  {
   "cell_type": "code",
   "execution_count": 1,
   "metadata": {},
   "outputs": [],
   "source": [
    "# Importation des librairies\n",
    "import os\n",
    "import pandas as pd\n",
    "import spacy\n",
    "from preprocessing import PreProcesseur\n",
    "import matplotlib.pyplot as plt\n",
    "\n",
    "try:\n",
    "    nlp = spacy.load('fr_core_news_md')\n",
    "except:\n",
    "    raise ImportError(\"Le module français de spacy n'est pas installé, pour l'installer tapez 'python -m spacy download fr_core_news_md' !\")"
   ]
  },
  {
   "cell_type": "code",
   "execution_count": 8,
   "metadata": {},
   "outputs": [],
   "source": [
    "# Lecture des données feel\n",
    "\n",
    "path_feel = os.path.join(\"..\", \"data\", \"Feel-fr\", \"FEEL.txt\")\n",
    "if not os.path.exists(path_feel):\n",
    "    raise FileNotFoundError(\"file {} doesn't exist\".format(path_feel))\n",
    "    \n",
    "feel = pd.read_csv(path_feel, sep=\";\", header=None)\n",
    "feel.columns = ['id', 'sentence', 'valence', 'emo_1', 'emo_2', 'emo_3', 'emo_4', 'emo_5', 'emo_6', 'emo_7']\n",
    "feel = feel.drop(['id', 'valence'], axis=1)\n",
    "# Joy, Surprise, Anger, Disgust, Sadness, Fear\n",
    "\n",
    "\n",
    "#### A REMPLACER \n",
    "feel = feel[:100]"
   ]
  },
  {
   "cell_type": "code",
   "execution_count": 9,
   "metadata": {},
   "outputs": [
    {
     "data": {
      "text/html": [
       "<div>\n",
       "<style scoped>\n",
       "    .dataframe tbody tr th:only-of-type {\n",
       "        vertical-align: middle;\n",
       "    }\n",
       "\n",
       "    .dataframe tbody tr th {\n",
       "        vertical-align: top;\n",
       "    }\n",
       "\n",
       "    .dataframe thead th {\n",
       "        text-align: right;\n",
       "    }\n",
       "</style>\n",
       "<table border=\"1\" class=\"dataframe\">\n",
       "  <thead>\n",
       "    <tr style=\"text-align: right;\">\n",
       "      <th></th>\n",
       "      <th>sentence</th>\n",
       "      <th>emo_1</th>\n",
       "      <th>emo_2</th>\n",
       "      <th>emo_3</th>\n",
       "      <th>emo_4</th>\n",
       "      <th>emo_5</th>\n",
       "      <th>emo_6</th>\n",
       "      <th>emo_7</th>\n",
       "    </tr>\n",
       "  </thead>\n",
       "  <tbody>\n",
       "    <tr>\n",
       "      <th>0</th>\n",
       "      <td>à ce endroit là</td>\n",
       "      <td>0</td>\n",
       "      <td>0</td>\n",
       "      <td>0</td>\n",
       "      <td>0</td>\n",
       "      <td>0</td>\n",
       "      <td>0</td>\n",
       "      <td>0</td>\n",
       "    </tr>\n",
       "    <tr>\n",
       "      <th>1</th>\n",
       "      <td>à le hâte</td>\n",
       "      <td>0</td>\n",
       "      <td>1</td>\n",
       "      <td>0</td>\n",
       "      <td>0</td>\n",
       "      <td>1</td>\n",
       "      <td>0</td>\n",
       "      <td>0</td>\n",
       "    </tr>\n",
       "    <tr>\n",
       "      <th>2</th>\n",
       "      <td>à part</td>\n",
       "      <td>0</td>\n",
       "      <td>0</td>\n",
       "      <td>1</td>\n",
       "      <td>0</td>\n",
       "      <td>0</td>\n",
       "      <td>0</td>\n",
       "      <td>0</td>\n",
       "    </tr>\n",
       "    <tr>\n",
       "      <th>3</th>\n",
       "      <td>à pic</td>\n",
       "      <td>0</td>\n",
       "      <td>1</td>\n",
       "      <td>0</td>\n",
       "      <td>0</td>\n",
       "      <td>0</td>\n",
       "      <td>0</td>\n",
       "      <td>0</td>\n",
       "    </tr>\n",
       "    <tr>\n",
       "      <th>4</th>\n",
       "      <td>à rallonge</td>\n",
       "      <td>0</td>\n",
       "      <td>0</td>\n",
       "      <td>1</td>\n",
       "      <td>0</td>\n",
       "      <td>0</td>\n",
       "      <td>0</td>\n",
       "      <td>0</td>\n",
       "    </tr>\n",
       "  </tbody>\n",
       "</table>\n",
       "</div>"
      ],
      "text/plain": [
       "          sentence  emo_1  emo_2  emo_3  emo_4  emo_5  emo_6  emo_7\n",
       "0  à ce endroit là      0      0      0      0      0      0      0\n",
       "1        à le hâte      0      1      0      0      1      0      0\n",
       "2           à part      0      0      1      0      0      0      0\n",
       "3            à pic      0      1      0      0      0      0      0\n",
       "4       à rallonge      0      0      1      0      0      0      0"
      ]
     },
     "execution_count": 9,
     "metadata": {},
     "output_type": "execute_result"
    }
   ],
   "source": [
    "feel.head()"
   ]
  },
  {
   "cell_type": "code",
   "execution_count": 10,
   "metadata": {},
   "outputs": [
    {
     "data": {
      "image/png": "[encoded data removed]",
      "text/plain": [
       "<Figure size 1080x432 with 1 Axes>"
      ]
     },
     "metadata": {
      "needs_background": "light"
     },
     "output_type": "display_data"
    }
   ],
   "source": [
    "# Affichage des émotions du dataset\n",
    "plt.figure(figsize=(15, 6))\n",
    "X = list(range(1, 8))\n",
    "Y = [feel.loc[feel['emo_{}'.format(i)] == 1].count()[0] for i in range(1, 8)]\n",
    "plt.bar(X, Y)\n",
    "plt.title('Répartition des émotions')\n",
    "plt.xlabel('Emotions')\n",
    "plt.ylabel('Nombre de samples labellisés')\n",
    "plt.show()"
   ]
  },
  {
   "cell_type": "code",
   "execution_count": 11,
   "metadata": {},
   "outputs": [
    {
     "name": "stdout",
     "output_type": "stream",
     "text": [
      "new shape : (146, 2)\n"
     ]
    },
    {
     "data": {
      "text/html": [
       "<div>\n",
       "<style scoped>\n",
       "    .dataframe tbody tr th:only-of-type {\n",
       "        vertical-align: middle;\n",
       "    }\n",
       "\n",
       "    .dataframe tbody tr th {\n",
       "        vertical-align: top;\n",
       "    }\n",
       "\n",
       "    .dataframe thead th {\n",
       "        text-align: right;\n",
       "    }\n",
       "</style>\n",
       "<table border=\"1\" class=\"dataframe\">\n",
       "  <thead>\n",
       "    <tr style=\"text-align: right;\">\n",
       "      <th></th>\n",
       "      <th>sentence</th>\n",
       "      <th>emotion</th>\n",
       "    </tr>\n",
       "  </thead>\n",
       "  <tbody>\n",
       "    <tr>\n",
       "      <th>0</th>\n",
       "      <td>à ce endroit là</td>\n",
       "      <td>0</td>\n",
       "    </tr>\n",
       "    <tr>\n",
       "      <th>1</th>\n",
       "      <td>à le hâte</td>\n",
       "      <td>2</td>\n",
       "    </tr>\n",
       "    <tr>\n",
       "      <th>2</th>\n",
       "      <td>à le hâte</td>\n",
       "      <td>5</td>\n",
       "    </tr>\n",
       "    <tr>\n",
       "      <th>3</th>\n",
       "      <td>à part</td>\n",
       "      <td>3</td>\n",
       "    </tr>\n",
       "    <tr>\n",
       "      <th>4</th>\n",
       "      <td>à pic</td>\n",
       "      <td>2</td>\n",
       "    </tr>\n",
       "  </tbody>\n",
       "</table>\n",
       "</div>"
      ],
      "text/plain": [
       "          sentence emotion\n",
       "0  à ce endroit là       0\n",
       "1        à le hâte       2\n",
       "2        à le hâte       5\n",
       "3           à part       3\n",
       "4            à pic       2"
      ]
     },
     "execution_count": 11,
     "metadata": {},
     "output_type": "execute_result"
    }
   ],
   "source": [
    "# Duplication des lignes qui possèdent plusieurs sentiments\n",
    "def process_label(dataset):    \n",
    "    new_dataset = pd.DataFrame(columns=['sentence', 'emotion'])\n",
    "    \n",
    "    for i in range(dataset.shape[0]):\n",
    "        has_emotion = False\n",
    "        for j in range(1, 8):\n",
    "            if dataset.iloc[i]['emo_{}'.format(j)] == 1:\n",
    "                has_emotion = True\n",
    "                new_dataset = new_dataset.append({'sentence': dataset.iloc[i]['sentence'],\n",
    "                                                  'emotion': j\n",
    "                                                 }, ignore_index=True)\n",
    "        if not has_emotion:\n",
    "            new_dataset = new_dataset.append({'sentence': dataset.iloc[i]['sentence'], \n",
    "                                              'emotion':0\n",
    "                                             }, ignore_index=True)\n",
    "    \n",
    "    return new_dataset\n",
    "    \n",
    "\n",
    "feel = process_label(feel)\n",
    "print('new shape : {}'.format(feel.shape))\n",
    "feel.head()\n",
    "    "
   ]
  },
  {
   "cell_type": "code",
   "execution_count": 12,
   "metadata": {},
   "outputs": [],
   "source": [
    "# Traitement NLP du dataset (tokenisation, normalisation ?? lemmatization ??)\n",
    "# La méthode rapide utilise spacy, on sait moins ce que l'on maitrise par contre...\n",
    "fast = True\n",
    "\n",
    "if fast:\n",
    "    feel['nlp_sentence'] = feel['sentence'].map(lambda sentence: nlp(sentence))\n",
    "else:\n",
    "    preprocessor = PreProcesseur()\n",
    "    feel['nlp_sentence'] = feel['sentence'].map(lambda sentence: preprocessor.process_all(sentence))\n",
    "    feel.head()"
   ]
  },
  {
   "cell_type": "code",
   "execution_count": 38,
   "metadata": {},
   "outputs": [
    {
     "name": "stdout",
     "output_type": "stream",
     "text": [
      "300\n"
     ]
    }
   ],
   "source": [
    "# Vectorisation de chaque phrase\n",
    "path_glove = os.path.join('..', 'data', 'glove', 'glove.6B.200d.txt')\n",
    "# utiliser fast text : gensim ! (pre-trainedvectors.md)\n",
    "# 1. essayer avec ça\n",
    "# 2. essayer notre propre embedding : google it\n",
    "\n",
    "\n",
    "#vectors = spacy.vectors.Vectors()\n",
    "if not os.path.exists:\n",
    "    raise FileNotFoundError(\"file {} does not exist\".format(path_glove))\n",
    "#vectors.from_glove(path_glove)\n",
    "\n",
    "def str_to_vec(word):\n",
    "    cat_id = nlp.vocab.strings[str(word)]\n",
    "    cat_vector = nlp.vocab.vectors[cat_id]\n",
    "    print(len(cat_vector))\n",
    "    \n",
    "str_to_vec(feel.iloc[0]['sentence'][0])\n",
    "\n",
    "\n",
    "#feel['vector'] = feel['nlp_sentence'].map(lambda el: el.vector)  # dimension 300\n",
    "#feel.head()\n",
    "\n"
   ]
  },
  {
   "cell_type": "code",
   "execution_count": 39,
   "metadata": {},
   "outputs": [],
   "source": [
    "# Importation de modèles de ML\n",
    "from sklearn.naive_bayes import GaussianNB"
   ]
  },
  {
   "cell_type": "code",
   "execution_count": null,
   "metadata": {},
   "outputs": [],
   "source": []
  },
  {
   "cell_type": "code",
   "execution_count": null,
   "metadata": {},
   "outputs": [],
   "source": []
  }
 ],
 "metadata": {
  "kernelspec": {
   "display_name": "Python 3",
   "language": "python",
   "name": "python3"
  },
  "language_info": {
   "codemirror_mode": {
    "name": "ipython",
    "version": 3
   },
   "file_extension": ".py",
   "mimetype": "text/x-python",
   "name": "python",
   "nbconvert_exporter": "python",
   "pygments_lexer": "ipython3",
   "version": "3.6.7"
  }
 },
 "nbformat": 4,
 "nbformat_minor": 2
}
