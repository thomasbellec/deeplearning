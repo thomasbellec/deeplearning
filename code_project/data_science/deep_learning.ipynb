{
 "cells": [
  {
   "cell_type": "code",
   "execution_count": 5,
   "metadata": {},
   "outputs": [
    {
     "name": "stderr",
     "output_type": "stream",
     "text": [
      "Using TensorFlow backend.\n"
     ]
    }
   ],
   "source": [
    "# Importation des librairies\n",
    "\n",
    "import numpy as np \n",
    "import pandas as pd\n",
    "\n",
    "from sklearn.feature_extraction.text import CountVectorizer\n",
    "from keras.preprocessing.text import Tokenizer\n",
    "from keras.preprocessing.sequence import pad_sequences\n",
    "from keras.models import Sequential\n",
    "from keras.layers import Dense, Embedding, LSTM, SpatialDropout1D\n",
    "from sklearn.model_selection import train_test_split\n",
    "from keras.utils.np_utils import to_categorical\n",
    "import re\n",
    "import sys\n",
    "import os\n",
    "sys.path.append(os.path.dirname(os.getcwd()))\n",
    "\n",
    "from utils_project import load_saved_file, read_feel, process_label, process_nlp, vectorize, apply_vectorization\n",
    "from evaluate import load_test_set, evaluate_model\n",
    "from config_project import *"
   ]
  },
  {
   "cell_type": "code",
   "execution_count": 6,
   "metadata": {},
   "outputs": [],
   "source": [
    "# Lecture des données\n",
    "feel = read_feel(FEEL_PATH, limit=LIMIT)\n",
    "data_test = load_test_set(TEST_SET_PATH)"
   ]
  },
  {
   "cell_type": "code",
   "execution_count": 7,
   "metadata": {},
   "outputs": [],
   "source": [
    "# Si True alors on prédit sur chaque mot puis on agrège la prédiction\n",
    "PREDICT_WORD = True"
   ]
  },
  {
   "cell_type": "code",
   "execution_count": 8,
   "metadata": {},
   "outputs": [
    {
     "data": {
      "text/html": [
       "<div>\n",
       "<style scoped>\n",
       "    .dataframe tbody tr th:only-of-type {\n",
       "        vertical-align: middle;\n",
       "    }\n",
       "\n",
       "    .dataframe tbody tr th {\n",
       "        vertical-align: top;\n",
       "    }\n",
       "\n",
       "    .dataframe thead th {\n",
       "        text-align: right;\n",
       "    }\n",
       "</style>\n",
       "<table border=\"1\" class=\"dataframe\">\n",
       "  <thead>\n",
       "    <tr style=\"text-align: right;\">\n",
       "      <th></th>\n",
       "      <th>emotion</th>\n",
       "      <th>nlp_sentence</th>\n",
       "    </tr>\n",
       "  </thead>\n",
       "  <tbody>\n",
       "    <tr>\n",
       "      <th>0</th>\n",
       "      <td>no_emotion</td>\n",
       "      <td>a endroit</td>\n",
       "    </tr>\n",
       "    <tr>\n",
       "      <th>1</th>\n",
       "      <td>fear</td>\n",
       "      <td>a hat</td>\n",
       "    </tr>\n",
       "    <tr>\n",
       "      <th>2</th>\n",
       "      <td>surprise</td>\n",
       "      <td>a hat</td>\n",
       "    </tr>\n",
       "    <tr>\n",
       "      <th>3</th>\n",
       "      <td>sadness</td>\n",
       "      <td>a part</td>\n",
       "    </tr>\n",
       "    <tr>\n",
       "      <th>4</th>\n",
       "      <td>fear</td>\n",
       "      <td>a pic</td>\n",
       "    </tr>\n",
       "  </tbody>\n",
       "</table>\n",
       "</div>"
      ],
      "text/plain": [
       "      emotion nlp_sentence\n",
       "0  no_emotion    a endroit\n",
       "1        fear        a hat\n",
       "2    surprise        a hat\n",
       "3     sadness       a part\n",
       "4        fear        a pic"
      ]
     },
     "execution_count": 8,
     "metadata": {},
     "output_type": "execute_result"
    }
   ],
   "source": [
    "# Traitement des données\n",
    "feel = process_label(feel)\n",
    "feel['nlp_sentence'] = process_nlp(feel['sentence'], process_type='stem')\n",
    "feel['nlp_sentence'] = feel['nlp_sentence'].map(lambda sentence : \" \".join(sentence))\n",
    "feel = feel.drop(['sentence'], axis=1)\n",
    "\n",
    "data_test['nlp_sentence'] = process_nlp(data_test['phrase'], process_type='stem')\n",
    "data_test['nlp_sentence'] = data_test['nlp_sentence'].map(lambda sentence : \" \".join(sentence))\n",
    "feel.head()"
   ]
  },
  {
   "cell_type": "code",
   "execution_count": 9,
   "metadata": {},
   "outputs": [
    {
     "name": "stdout",
     "output_type": "stream",
     "text": [
      "train shape : (19444, 4)\n"
     ]
    }
   ],
   "source": [
    "max_features = feel['nlp_sentence'].count()\n",
    "tokenizer = Tokenizer(num_words=max_features, split=' ')\n",
    "tokenizer.fit_on_texts(feel['nlp_sentence'].values)\n",
    "X_train = tokenizer.texts_to_sequences(feel['nlp_sentence'].values)\n",
    "X_train = pad_sequences(X_train)\n",
    "\n",
    "print('train shape : {}'.format((len(X_train), len(X_train[0]))))"
   ]
  },
  {
   "cell_type": "code",
   "execution_count": 10,
   "metadata": {},
   "outputs": [
    {
     "name": "stdout",
     "output_type": "stream",
     "text": [
      "_________________________________________________________________\n",
      "Layer (type)                 Output Shape              Param #   \n",
      "=================================================================\n",
      "embedding_1 (Embedding)      (None, 4, 128)            2488832   \n",
      "_________________________________________________________________\n",
      "spatial_dropout1d_1 (Spatial (None, 4, 128)            0         \n",
      "_________________________________________________________________\n",
      "lstm_1 (LSTM)                (None, 196)               254800    \n",
      "_________________________________________________________________\n",
      "dense_1 (Dense)              (None, 7)                 1379      \n",
      "=================================================================\n",
      "Total params: 2,745,011\n",
      "Trainable params: 2,745,011\n",
      "Non-trainable params: 0\n",
      "_________________________________________________________________\n"
     ]
    }
   ],
   "source": [
    "# Définition du modèle de deep learning à utiliser\n",
    "embed_dim = 128\n",
    "lstm_out = 196\n",
    "\n",
    "model = Sequential()\n",
    "model.add(Embedding(max_features, embed_dim, input_length = X_train.shape[1]))\n",
    "model.add(SpatialDropout1D(0.4))\n",
    "model.add(LSTM(lstm_out, dropout=0.2, recurrent_dropout=0.2))\n",
    "model.add(Dense(7, activation='softmax'))\n",
    "model.compile(loss = 'categorical_crossentropy', optimizer='adam', metrics = ['accuracy'])\n",
    "model.summary()"
   ]
  },
  {
   "cell_type": "code",
   "execution_count": 11,
   "metadata": {},
   "outputs": [
    {
     "name": "stdout",
     "output_type": "stream",
     "text": [
      "[[0 0 0 ... 1 0 0]\n",
      " [0 0 1 ... 0 0 0]\n",
      " [0 0 0 ... 0 0 1]\n",
      " ...\n",
      " [0 0 0 ... 0 0 0]\n",
      " [0 0 0 ... 0 0 0]\n",
      " [0 0 0 ... 1 0 0]]\n",
      "{0: 'anger', 1: 'disgust', 2: 'fear', 3: 'joy', 4: 'no_emotion', 5: 'sadness', 6: 'surprise'}\n"
     ]
    }
   ],
   "source": [
    "# Split the output\n",
    "df_Y = pd.get_dummies(feel['emotion'])\n",
    "Y = df_Y.values\n",
    "labels = list(df_Y.columns)\n",
    "map_label = {}\n",
    "for i, val in enumerate(labels):\n",
    "    map_label[i] = val\n",
    "print(Y)\n",
    "print(map_label)"
   ]
  },
  {
   "cell_type": "code",
   "execution_count": 12,
   "metadata": {},
   "outputs": [
    {
     "name": "stdout",
     "output_type": "stream",
     "text": [
      "Epoch 1/10\n",
      " - 29s - loss: 1.6223 - acc: 0.4228\n",
      "Epoch 2/10\n",
      " - 28s - loss: 1.2281 - acc: 0.5192\n",
      "Epoch 3/10\n",
      " - 28s - loss: 1.0724 - acc: 0.5416\n",
      "Epoch 4/10\n",
      " - 29s - loss: 0.9651 - acc: 0.5837\n",
      "Epoch 5/10\n",
      " - 28s - loss: 0.8885 - acc: 0.6096\n",
      "Epoch 6/10\n",
      " - 28s - loss: 0.8303 - acc: 0.6188\n",
      "Epoch 7/10\n",
      " - 28s - loss: 0.7866 - acc: 0.6243\n",
      "Epoch 8/10\n",
      " - 28s - loss: 0.7537 - acc: 0.6281\n",
      "Epoch 9/10\n",
      " - 28s - loss: 0.7255 - acc: 0.6304\n",
      "Epoch 10/10\n",
      " - 31s - loss: 0.7016 - acc: 0.6371\n"
     ]
    },
    {
     "data": {
      "text/plain": [
       "<keras.callbacks.History at 0x7fc134b22780>"
      ]
     },
     "execution_count": 12,
     "metadata": {},
     "output_type": "execute_result"
    }
   ],
   "source": [
    "# Fit the model\n",
    "batch_size = 32\n",
    "model.fit(X_train, Y, epochs = 10, batch_size=batch_size, verbose = 2)"
   ]
  },
  {
   "cell_type": "code",
   "execution_count": 13,
   "metadata": {},
   "outputs": [],
   "source": [
    "def most_common(lst):\n",
    "    lst = [el for el in lst if el != 'no_emotion']\n",
    "    if len(lst) == 0:\n",
    "        return 'no_emotion'\n",
    "    else:\n",
    "        return max(set(lst), key=lst.count)\n",
    "    \n",
    "def predict(x_test, tokenizer, model, predict_word):\n",
    "    \n",
    "    predictions = []\n",
    "    \n",
    "    for sentence in x_test:\n",
    "        if predict_word:\n",
    "            list_emotion_word = []\n",
    "            for word in sentence.split(\" \"):\n",
    "                txt = tokenizer.texts_to_sequences([word])\n",
    "                txt = pad_sequences(txt, maxlen=4)\n",
    "                sentiment = model.predict(txt, batch_size=1, verbose = 2)[0]\n",
    "                list_emotion_word.append(map_label[np.argmax(sentiment)])\n",
    "            predictions.append(most_common(list_emotion_word))\n",
    "        else:\n",
    "            txt = tokenizer.texts_to_sequences([sentence])\n",
    "            txt = pad_sequences(txt, maxlen=4)\n",
    "            sentiment = model.predict(txt, batch_size=1, verbose = 2)[0]\n",
    "            predictions.append(map_label[np.argmax(sentiment)])\n",
    "    \n",
    "    return predictions"
   ]
  },
  {
   "cell_type": "code",
   "execution_count": 16,
   "metadata": {},
   "outputs": [
    {
     "name": "stdout",
     "output_type": "stream",
     "text": [
      "0.26143790849673204\n",
      "[[ 3  3  4  1  4  8  1]\n",
      " [ 1  9  4  6  3  5  1]\n",
      " [ 0  1  5  8  4  4  1]\n",
      " [ 0  2  4 11  7  4  9]\n",
      " [ 0  0  0  0  0  0  0]\n",
      " [ 1  1  1  2  1 11  2]\n",
      " [ 0  3  2  7  2  6  1]]\n"
     ]
    }
   ],
   "source": [
    "# Calcul du score final\n",
    "from sklearn.metrics import accuracy_score\n",
    "from sklearn.metrics import confusion_matrix\n",
    "pd.set_option('display.max_colwidth', -1)\n",
    "\n",
    "y_test = y_test = data_test['emotion']\n",
    "\n",
    "predictions = predict(data_test['nlp_sentence'], tokenizer, model, predict_word=PREDICT_WORD)\n",
    "\n",
    "accuracy = accuracy_score(y_test, predictions)\n",
    "conf_mat = confusion_matrix(y_test, predictions)\n",
    "\n",
    "print(accuracy)\n",
    "print(conf_mat)"
   ]
  },
  {
   "cell_type": "code",
   "execution_count": null,
   "metadata": {},
   "outputs": [],
   "source": []
  },
  {
   "cell_type": "code",
   "execution_count": null,
   "metadata": {},
   "outputs": [],
   "source": []
  },
  {
   "cell_type": "code",
   "execution_count": null,
   "metadata": {},
   "outputs": [],
   "source": []
  }
 ],
 "metadata": {
  "kernelspec": {
   "display_name": "Python 3",
   "language": "python",
   "name": "python3"
  },
  "language_info": {
   "codemirror_mode": {
    "name": "ipython",
    "version": 3
   },
   "file_extension": ".py",
   "mimetype": "text/x-python",
   "name": "python",
   "nbconvert_exporter": "python",
   "pygments_lexer": "ipython3",
   "version": "3.6.7"
  }
 },
 "nbformat": 4,
 "nbformat_minor": 2
}
