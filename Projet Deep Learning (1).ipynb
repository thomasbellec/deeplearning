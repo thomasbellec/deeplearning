{
 "cells": [
  {
   "cell_type": "code",
   "execution_count": 1,
   "metadata": {},
   "outputs": [],
   "source": [
    "# Importation des librairies\n",
    "import pandas as pd\n",
    "\n",
    "pd.set_option('display.max_colwidth', -1)\n",
    "\n",
    "import sys\n",
    "import os\n",
    "import time\n",
    "sys.path.append(os.path.dirname(os.getcwd()))\n",
    "\n",
    "from code_project.data_science.utils_project import load_saved_file, read_feel, process_label, process_nlp, vectorize, apply_vectorization"
   ]
  },
  {
   "cell_type": "code",
   "execution_count": 2,
   "metadata": {},
   "outputs": [],
   "source": [
    "PATH_DATA = \"data/kaggle-traduction/translate_final.csv\"\n",
    "\n",
    "TYPE_VECTOR = \"tf-idf\"\n",
    "UP_SAMPLING = True"
   ]
  },
  {
   "cell_type": "code",
   "execution_count": 3,
   "metadata": {
    "scrolled": true
   },
   "outputs": [
    {
     "data": {
      "text/html": [
       "<div>\n",
       "<style scoped>\n",
       "    .dataframe tbody tr th:only-of-type {\n",
       "        vertical-align: middle;\n",
       "    }\n",
       "\n",
       "    .dataframe tbody tr th {\n",
       "        vertical-align: top;\n",
       "    }\n",
       "\n",
       "    .dataframe thead th {\n",
       "        text-align: right;\n",
       "    }\n",
       "</style>\n",
       "<table border=\"1\" class=\"dataframe\">\n",
       "  <thead>\n",
       "    <tr style=\"text-align: right;\">\n",
       "      <th></th>\n",
       "      <th>sentiment</th>\n",
       "      <th>translation</th>\n",
       "      <th>translation_yandex</th>\n",
       "      <th>translation_microsoft</th>\n",
       "      <th>translation_google</th>\n",
       "    </tr>\n",
       "  </thead>\n",
       "  <tbody>\n",
       "    <tr>\n",
       "      <th>12310</th>\n",
       "      <td>hate</td>\n",
       "      <td></td>\n",
       "      <td>@katecameron2002 Oh, même ici, ne peux pas croire qu'ils l'ont tué de réduction! La haine Stringer maintenant!</td>\n",
       "      <td>@katecameron2002 Oh même ici, impossible de croire qu’ils l’ont tué hors tension !  Déteste Stringer maintenant !</td>\n",
       "      <td>@ katecameron2002 Oh pareil ici, je ne peux pas croire qu&amp;#39;ils l&amp;#39;ont tué! Déteste Stringer maintenant!</td>\n",
       "    </tr>\n",
       "    <tr>\n",
       "      <th>11560</th>\n",
       "      <td>worry</td>\n",
       "      <td></td>\n",
       "      <td>Ma plume juste a explosé dans ma main. Il y a de l'encre partout. Je suis maintenant une marche test de Rorschach.</td>\n",
       "      <td>Ma plume a juste soufflé dans ma main. Il n’y a encre partout. Je suis maintenant un test de Rorschach à pied.</td>\n",
       "      <td>Mon stylo vient de sauter dans ma main. Il y a de l&amp;#39;encre partout. Je suis maintenant un test de Rorschach à pied.</td>\n",
       "    </tr>\n",
       "    <tr>\n",
       "      <th>15525</th>\n",
       "      <td>happiness</td>\n",
       "      <td></td>\n",
       "      <td>Dernier jour de vacances, je dois reprendre le travail de toute façon, de 2 semaines</td>\n",
       "      <td>Dernier jour des vacances, je dois se remettre au travail en tout cas, 2 semaines grands</td>\n",
       "      <td>Dernier jour de vacances, je dois rentrer au travail Quoi qu&amp;#39;il en soit, 2 belles semaines</td>\n",
       "    </tr>\n",
       "    <tr>\n",
       "      <th>28417</th>\n",
       "      <td>empty</td>\n",
       "      <td></td>\n",
       "      <td>Apparemment Ashland ne va jamais me dire si j'ai obtenu la bourse. Encore mon jour de congé 2e tasse de thé, toujours sur le canapé!</td>\n",
       "      <td>Apparemment, Ashland ne va jamais à me dire si j’ai obtenu la bourse d’études.  Toujours mon jour de congé 2ème tasse de thé, toujours sur le canapé !</td>\n",
       "      <td>Apparemment, Ashland ne me dira jamais si j&amp;#39;ai cette bourse. Toujours mon jour de congé 2ème tasse de thé, toujours sur le canapé!</td>\n",
       "    </tr>\n",
       "    <tr>\n",
       "      <th>6633</th>\n",
       "      <td>worry</td>\n",
       "      <td></td>\n",
       "      <td>Phooey! Ils ont prévu de faire du CAMPING pour ma réunion de classe. I. La Haine. Le Camping. ...et d'être la seule fille à gauche de ma classe de finissants.</td>\n",
       "      <td>Phooey !  Ils ont prévu de CAMPING pour ma réunion de classe. I. la haine. Le camping. .. .et étant la seule fille à gauche de ma classe.</td>\n",
       "      <td>Phooey! Ils ont planifié le CAMPING pour ma réunion de classe. Je déteste. Camping. ... et d&amp;#39;être la seule fille célibataire de ma classe de finissants.</td>\n",
       "    </tr>\n",
       "  </tbody>\n",
       "</table>\n",
       "</div>"
      ],
      "text/plain": [
       "       sentiment translation  \\\n",
       "12310  hate                    \n",
       "11560  worry                   \n",
       "15525  happiness               \n",
       "28417  empty                   \n",
       "6633   worry                   \n",
       "\n",
       "                                                                                                                                                   translation_yandex  \\\n",
       "12310  @katecameron2002 Oh, même ici, ne peux pas croire qu'ils l'ont tué de réduction! La haine Stringer maintenant!                                                   \n",
       "11560  Ma plume juste a explosé dans ma main. Il y a de l'encre partout. Je suis maintenant une marche test de Rorschach.                                               \n",
       "15525  Dernier jour de vacances, je dois reprendre le travail de toute façon, de 2 semaines                                                                             \n",
       "28417  Apparemment Ashland ne va jamais me dire si j'ai obtenu la bourse. Encore mon jour de congé 2e tasse de thé, toujours sur le canapé!                             \n",
       "6633   Phooey! Ils ont prévu de faire du CAMPING pour ma réunion de classe. I. La Haine. Le Camping. ...et d'être la seule fille à gauche de ma classe de finissants.   \n",
       "\n",
       "                                                                                                                                        translation_microsoft  \\\n",
       "12310  @katecameron2002 Oh même ici, impossible de croire qu’ils l’ont tué hors tension !  Déteste Stringer maintenant !                                        \n",
       "11560  Ma plume a juste soufflé dans ma main. Il n’y a encre partout. Je suis maintenant un test de Rorschach à pied.                                           \n",
       "15525  Dernier jour des vacances, je dois se remettre au travail en tout cas, 2 semaines grands                                                                 \n",
       "28417  Apparemment, Ashland ne va jamais à me dire si j’ai obtenu la bourse d’études.  Toujours mon jour de congé 2ème tasse de thé, toujours sur le canapé !   \n",
       "6633   Phooey !  Ils ont prévu de CAMPING pour ma réunion de classe. I. la haine. Le camping. .. .et étant la seule fille à gauche de ma classe.                \n",
       "\n",
       "                                                                                                                                                 translation_google  \n",
       "12310  @ katecameron2002 Oh pareil ici, je ne peux pas croire qu&#39;ils l&#39;ont tué! Déteste Stringer maintenant!                                                 \n",
       "11560  Mon stylo vient de sauter dans ma main. Il y a de l&#39;encre partout. Je suis maintenant un test de Rorschach à pied.                                        \n",
       "15525  Dernier jour de vacances, je dois rentrer au travail Quoi qu&#39;il en soit, 2 belles semaines                                                                \n",
       "28417  Apparemment, Ashland ne me dira jamais si j&#39;ai cette bourse. Toujours mon jour de congé 2ème tasse de thé, toujours sur le canapé!                        \n",
       "6633   Phooey! Ils ont planifié le CAMPING pour ma réunion de classe. Je déteste. Camping. ... et d&#39;être la seule fille célibataire de ma classe de finissants.  "
      ]
     },
     "execution_count": 3,
     "metadata": {},
     "output_type": "execute_result"
    }
   ],
   "source": [
    "data = pd.read_csv(PATH_DATA, sep=\";\")\n",
    "data= data.drop(['Unnamed: 0', 'content'], axis=1)\n",
    "data = data.fillna(\"\")\n",
    "data.sample(5)"
   ]
  },
  {
   "cell_type": "code",
   "execution_count": 4,
   "metadata": {},
   "outputs": [
    {
     "data": {
      "text/plain": [
       "(30000, 5)"
      ]
     },
     "execution_count": 4,
     "metadata": {},
     "output_type": "execute_result"
    }
   ],
   "source": [
    "data.shape"
   ]
  },
  {
   "cell_type": "code",
   "execution_count": 5,
   "metadata": {},
   "outputs": [],
   "source": [
    "test = data.sample(100)"
   ]
  },
  {
   "cell_type": "code",
   "execution_count": 6,
   "metadata": {},
   "outputs": [
    {
     "name": "stdout",
     "output_type": "stream",
     "text": [
      "NLP processed, duration 0.07768893241882324s\n"
     ]
    }
   ],
   "source": [
    "# Traitement NLP des données\n",
    "t1 = time.time()\n",
    "test['nlp_yandex'] = process_nlp(test['translation_yandex'], process_type='stem', feel=False) # False Enlève les pseudos twitter\n",
    "\n",
    "t2 = time.time()\n",
    "print('NLP processed, duration {}s'.format(t2-t1))"
   ]
  },
  {
   "cell_type": "code",
   "execution_count": 7,
   "metadata": {},
   "outputs": [
    {
     "data": {
      "text/html": [
       "<div>\n",
       "<style scoped>\n",
       "    .dataframe tbody tr th:only-of-type {\n",
       "        vertical-align: middle;\n",
       "    }\n",
       "\n",
       "    .dataframe tbody tr th {\n",
       "        vertical-align: top;\n",
       "    }\n",
       "\n",
       "    .dataframe thead th {\n",
       "        text-align: right;\n",
       "    }\n",
       "</style>\n",
       "<table border=\"1\" class=\"dataframe\">\n",
       "  <thead>\n",
       "    <tr style=\"text-align: right;\">\n",
       "      <th></th>\n",
       "      <th>sentiment</th>\n",
       "      <th>translation</th>\n",
       "      <th>translation_yandex</th>\n",
       "      <th>translation_microsoft</th>\n",
       "      <th>translation_google</th>\n",
       "      <th>nlp_yandex</th>\n",
       "    </tr>\n",
       "  </thead>\n",
       "  <tbody>\n",
       "    <tr>\n",
       "      <th>14631</th>\n",
       "      <td>worry</td>\n",
       "      <td></td>\n",
       "      <td>besoin d'un nouvel emploi, soit près de la maison ou de la valeur de la voiture</td>\n",
       "      <td>a besoin d’un nouvel emploi soit plus proche à domicile ou d’une valeur de la voiture</td>\n",
       "      <td>a besoin d&amp;#39;un nouveau travail soit plus près de chez lui ou vaut le détour</td>\n",
       "      <td>[besoin, nouvel, emploi, pre, maison, valeur, voitur]</td>\n",
       "    </tr>\n",
       "    <tr>\n",
       "      <th>15150</th>\n",
       "      <td>sadness</td>\n",
       "      <td></td>\n",
       "      <td>avait vraiment une drôle de nuit la nuit dernière, et rate ses amis</td>\n",
       "      <td>avait une nuit vraiment bizarre hier soir et ses amis ne manque</td>\n",
       "      <td>eu une nuit vraiment bizarre la nuit dernière et manque ses amis</td>\n",
       "      <td>[vrai, drol, nuit, nuit, dernier, rat, amis]</td>\n",
       "    </tr>\n",
       "    <tr>\n",
       "      <th>15121</th>\n",
       "      <td>worry</td>\n",
       "      <td></td>\n",
       "      <td>@drsteggy évidemment de ne pas avoir l'un des plus petits, je vais continuer à chercher. J'ai obtenu un vif chose, mais pour 7 $qui devrait le faire...</td>\n",
       "      <td>@drsteggy l’évidemment n’avait aucun des petits j’ai va continuer à chercher.  J’ai eu une chose vive mais pour 7 $, ce qui devrait faire...</td>\n",
       "      <td>@drsteggy Il était évident qu&amp;#39;il n&amp;#39;y en avait aucun parmi les plus petits que je vais continuer à chercher. J&amp;#39;ai une bonne idée pour 7 $ qui devrait faire l&amp;#39;affaire ...</td>\n",
       "      <td>[evident, ne, pas, avoir, plus, petit, vais, continu, a, cherch, obtenu, vif, chos, sept, devr, fair]</td>\n",
       "    </tr>\n",
       "    <tr>\n",
       "      <th>19363</th>\n",
       "      <td>surprise</td>\n",
       "      <td></td>\n",
       "      <td>j'ai perdu un adepte</td>\n",
       "      <td>J’ai perdu un adepte</td>\n",
       "      <td>j&amp;#39;ai perdu un disciple</td>\n",
       "      <td>[perdu, adept]</td>\n",
       "    </tr>\n",
       "    <tr>\n",
       "      <th>8782</th>\n",
       "      <td>fun</td>\n",
       "      <td></td>\n",
       "      <td>ce soir dans la partie w/ mes filles (moins de vita)</td>\n",
       "      <td>ce soir en partie w / mes filles (moins de vita)</td>\n",
       "      <td>ce soir en soirée avec mes filles (moins vita)</td>\n",
       "      <td>[soir, part, w, fill, moin, vit]</td>\n",
       "    </tr>\n",
       "  </tbody>\n",
       "</table>\n",
       "</div>"
      ],
      "text/plain": [
       "      sentiment translation  \\\n",
       "14631  worry                  \n",
       "15150  sadness                \n",
       "15121  worry                  \n",
       "19363  surprise               \n",
       "8782   fun                    \n",
       "\n",
       "                                                                                                                                            translation_yandex  \\\n",
       "14631  besoin d'un nouvel emploi, soit près de la maison ou de la valeur de la voiture                                                                           \n",
       "15150  avait vraiment une drôle de nuit la nuit dernière, et rate ses amis                                                                                       \n",
       "15121  @drsteggy évidemment de ne pas avoir l'un des plus petits, je vais continuer à chercher. J'ai obtenu un vif chose, mais pour 7 $qui devrait le faire...   \n",
       "19363  j'ai perdu un adepte                                                                                                                                      \n",
       "8782   ce soir dans la partie w/ mes filles (moins de vita)                                                                                                      \n",
       "\n",
       "                                                                                                                              translation_microsoft  \\\n",
       "14631  a besoin d’un nouvel emploi soit plus proche à domicile ou d’une valeur de la voiture                                                          \n",
       "15150  avait une nuit vraiment bizarre hier soir et ses amis ne manque                                                                                \n",
       "15121  @drsteggy l’évidemment n’avait aucun des petits j’ai va continuer à chercher.  J’ai eu une chose vive mais pour 7 $, ce qui devrait faire...   \n",
       "19363  J’ai perdu un adepte                                                                                                                           \n",
       "8782   ce soir en partie w / mes filles (moins de vita)                                                                                               \n",
       "\n",
       "                                                                                                                                                                             translation_google  \\\n",
       "14631  a besoin d&#39;un nouveau travail soit plus près de chez lui ou vaut le détour                                                                                                             \n",
       "15150  eu une nuit vraiment bizarre la nuit dernière et manque ses amis                                                                                                                           \n",
       "15121  @drsteggy Il était évident qu&#39;il n&#39;y en avait aucun parmi les plus petits que je vais continuer à chercher. J&#39;ai une bonne idée pour 7 $ qui devrait faire l&#39;affaire ...   \n",
       "19363  j&#39;ai perdu un disciple                                                                                                                                                                 \n",
       "8782   ce soir en soirée avec mes filles (moins vita)                                                                                                                                             \n",
       "\n",
       "                                                                                                  nlp_yandex  \n",
       "14631  [besoin, nouvel, emploi, pre, maison, valeur, voitur]                                                  \n",
       "15150  [vrai, drol, nuit, nuit, dernier, rat, amis]                                                           \n",
       "15121  [evident, ne, pas, avoir, plus, petit, vais, continu, a, cherch, obtenu, vif, chos, sept, devr, fair]  \n",
       "19363  [perdu, adept]                                                                                         \n",
       "8782   [soir, part, w, fill, moin, vit]                                                                       "
      ]
     },
     "execution_count": 7,
     "metadata": {},
     "output_type": "execute_result"
    }
   ],
   "source": [
    "test.sample(5)"
   ]
  },
  {
   "cell_type": "code",
   "execution_count": 8,
   "metadata": {},
   "outputs": [
    {
     "name": "stdout",
     "output_type": "stream",
     "text": [
      "NLP processed, duration 157.19530844688416s\n"
     ]
    }
   ],
   "source": [
    "# Traitement NLP des données\n",
    "t1 = time.time()\n",
    "test['nlp_yandex_lem'] = process_nlp(test['translation_yandex'], process_type='lemmatize', feel=False) # False Enlève les pseudos twitter\n",
    "\n",
    "t2 = time.time()\n",
    "print('NLP processed, duration {}s'.format(t2-t1))"
   ]
  },
  {
   "cell_type": "code",
   "execution_count": 9,
   "metadata": {},
   "outputs": [
    {
     "data": {
      "text/html": [
       "<div>\n",
       "<style scoped>\n",
       "    .dataframe tbody tr th:only-of-type {\n",
       "        vertical-align: middle;\n",
       "    }\n",
       "\n",
       "    .dataframe tbody tr th {\n",
       "        vertical-align: top;\n",
       "    }\n",
       "\n",
       "    .dataframe thead th {\n",
       "        text-align: right;\n",
       "    }\n",
       "</style>\n",
       "<table border=\"1\" class=\"dataframe\">\n",
       "  <thead>\n",
       "    <tr style=\"text-align: right;\">\n",
       "      <th></th>\n",
       "      <th>sentiment</th>\n",
       "      <th>translation</th>\n",
       "      <th>translation_yandex</th>\n",
       "      <th>translation_microsoft</th>\n",
       "      <th>translation_google</th>\n",
       "      <th>nlp_yandex</th>\n",
       "      <th>nlp_yandex_lem</th>\n",
       "    </tr>\n",
       "  </thead>\n",
       "  <tbody>\n",
       "    <tr>\n",
       "      <th>3413</th>\n",
       "      <td>worry</td>\n",
       "      <td></td>\n",
       "      <td>C'était et c'est parce que j'ai raté trop de jambe séances récemment.</td>\n",
       "      <td>C’était un et c’est parce que j’ai manqué trop de séances de jambe récemment.</td>\n",
       "      <td>C&amp;#39;était un et c&amp;#39;est parce que j&amp;#39;ai manqué trop de sessions de jambes récemment.</td>\n",
       "      <td>[etait, parc, rat, trop, jamb, seanc, recent]</td>\n",
       "      <td>[etait, parce, rater, trop, jambe, seances, recemment]</td>\n",
       "    </tr>\n",
       "    <tr>\n",
       "      <th>20365</th>\n",
       "      <td>surprise</td>\n",
       "      <td></td>\n",
       "      <td>Oups ce serait #edaust09</td>\n",
       "      <td>Oups, ce serait #edaust09</td>\n",
       "      <td>Oups ça serait # edaust09</td>\n",
       "      <td>[oup, edaust09]</td>\n",
       "      <td>[oups, edaust09]</td>\n",
       "    </tr>\n",
       "    <tr>\n",
       "      <th>5886</th>\n",
       "      <td>sadness</td>\n",
       "      <td></td>\n",
       "      <td>Je pense que je suis sur le point de briser mon propre cœur. (comme emo qui sonne)... meh.</td>\n",
       "      <td>Je pense que je suis sur le point de briser mon cœur. (en tant qu’emo que cela puisse paraître)... meh.</td>\n",
       "      <td>Je pense que je suis sur le point de briser mon propre coeur. (aussi emo que cela puisse paraître) ... meh.</td>\n",
       "      <td>[pens, point, bris, propr, cur, comm, emo, son, meh]</td>\n",
       "      <td>[penser, poindre, briser, propre, cur, comme, emo, sonner, meh]</td>\n",
       "    </tr>\n",
       "    <tr>\n",
       "      <th>14870</th>\n",
       "      <td>love</td>\n",
       "      <td></td>\n",
       "      <td>La Cause de ces stupides que les gens n'ont pas de mon téléphone et mon ventre herts</td>\n",
       "      <td>Provoquer ces imbéciles n’ont pas mon téléphone et mon ventre herts</td>\n",
       "      <td>Parce que ces personnes stupides n&amp;#39;ont pas mon téléphone et mon ventre herts</td>\n",
       "      <td>[caus, stupid, le, gen, n, pas, telephon, ventr, hert]</td>\n",
       "      <td>[causer, stupides, les, gens, n, pas, telephone, ventre, herts]</td>\n",
       "    </tr>\n",
       "    <tr>\n",
       "      <th>14449</th>\n",
       "      <td>neutral</td>\n",
       "      <td></td>\n",
       "      <td>@sjzara Le peu de pleurs nerveux fille a été mis à travers... avec un 12 ans très bonne danse garçon. Greg, la jolie chanteuse a terminé en 3e</td>\n",
       "      <td>@sjzara la petite fille qui pleure de nerveuse a été mis à... avec un garçon danse assez bonne âgé de 12 ans. Greg la belle chanteuse est venu 3e</td>\n",
       "      <td>@sjzara La petite fille nerveuse qui pleure a été mise en contact avec un garçon de 12 ans qui danse très bien. Greg la belle chanteuse est 3ème</td>\n",
       "      <td>[peu, pleur, nerveux, fill, a, ete, mis, a, traver, douz, an, tre, bon, dans, garcon, greg, jol, chanteux, a, termin, 3e]</td>\n",
       "      <td>[peu, pleurs, nerveux, fille, avoir, ete, mettre, avoir, travers, douze, ans, tres, bonne, danser, garcon, greg, jolie, chanteuse, avoir, terminer, 3e]</td>\n",
       "    </tr>\n",
       "  </tbody>\n",
       "</table>\n",
       "</div>"
      ],
      "text/plain": [
       "      sentiment translation  \\\n",
       "3413   worry                  \n",
       "20365  surprise               \n",
       "5886   sadness                \n",
       "14870  love                   \n",
       "14449  neutral                \n",
       "\n",
       "                                                                                                                                   translation_yandex  \\\n",
       "3413   C'était et c'est parce que j'ai raté trop de jambe séances récemment.                                                                            \n",
       "20365  Oups ce serait #edaust09                                                                                                                         \n",
       "5886   Je pense que je suis sur le point de briser mon propre cœur. (comme emo qui sonne)... meh.                                                       \n",
       "14870  La Cause de ces stupides que les gens n'ont pas de mon téléphone et mon ventre herts                                                             \n",
       "14449  @sjzara Le peu de pleurs nerveux fille a été mis à travers... avec un 12 ans très bonne danse garçon. Greg, la jolie chanteuse a terminé en 3e   \n",
       "\n",
       "                                                                                                                                   translation_microsoft  \\\n",
       "3413   C’était un et c’est parce que j’ai manqué trop de séances de jambe récemment.                                                                       \n",
       "20365  Oups, ce serait #edaust09                                                                                                                           \n",
       "5886   Je pense que je suis sur le point de briser mon cœur. (en tant qu’emo que cela puisse paraître)... meh.                                             \n",
       "14870  Provoquer ces imbéciles n’ont pas mon téléphone et mon ventre herts                                                                                 \n",
       "14449  @sjzara la petite fille qui pleure de nerveuse a été mis à... avec un garçon danse assez bonne âgé de 12 ans. Greg la belle chanteuse est venu 3e   \n",
       "\n",
       "                                                                                                                                     translation_google  \\\n",
       "3413   C&#39;était un et c&#39;est parce que j&#39;ai manqué trop de sessions de jambes récemment.                                                        \n",
       "20365  Oups ça serait # edaust09                                                                                                                          \n",
       "5886   Je pense que je suis sur le point de briser mon propre coeur. (aussi emo que cela puisse paraître) ... meh.                                        \n",
       "14870  Parce que ces personnes stupides n&#39;ont pas mon téléphone et mon ventre herts                                                                   \n",
       "14449  @sjzara La petite fille nerveuse qui pleure a été mise en contact avec un garçon de 12 ans qui danse très bien. Greg la belle chanteuse est 3ème   \n",
       "\n",
       "                                                                                                                      nlp_yandex  \\\n",
       "3413   [etait, parc, rat, trop, jamb, seanc, recent]                                                                               \n",
       "20365  [oup, edaust09]                                                                                                             \n",
       "5886   [pens, point, bris, propr, cur, comm, emo, son, meh]                                                                        \n",
       "14870  [caus, stupid, le, gen, n, pas, telephon, ventr, hert]                                                                      \n",
       "14449  [peu, pleur, nerveux, fill, a, ete, mis, a, traver, douz, an, tre, bon, dans, garcon, greg, jol, chanteux, a, termin, 3e]   \n",
       "\n",
       "                                                                                                                                                nlp_yandex_lem  \n",
       "3413   [etait, parce, rater, trop, jambe, seances, recemment]                                                                                                   \n",
       "20365  [oups, edaust09]                                                                                                                                         \n",
       "5886   [penser, poindre, briser, propre, cur, comme, emo, sonner, meh]                                                                                          \n",
       "14870  [causer, stupides, les, gens, n, pas, telephone, ventre, herts]                                                                                          \n",
       "14449  [peu, pleurs, nerveux, fille, avoir, ete, mettre, avoir, travers, douze, ans, tres, bonne, danser, garcon, greg, jolie, chanteuse, avoir, terminer, 3e]  "
      ]
     },
     "execution_count": 9,
     "metadata": {},
     "output_type": "execute_result"
    }
   ],
   "source": [
    "test.sample(5)"
   ]
  },
  {
   "cell_type": "code",
   "execution_count": 10,
   "metadata": {},
   "outputs": [],
   "source": [
    "import numpy as np\n",
    "# define documents\n",
    "docs = ['Well done!',\n",
    "\t\t'Good work',\n",
    "\t\t'Great effort',\n",
    "\t\t'nice work',\n",
    "\t\t'Excellent!',\n",
    "\t\t'Weak',\n",
    "\t\t'Poor effort!',\n",
    "\t\t'not good',\n",
    "\t\t'poor work',\n",
    "\t\t'Could have done better.']\n",
    "# define class labels\n",
    "labels = np.array([1,1,1,1,1,0,0,0,0,0])"
   ]
  },
  {
   "cell_type": "code",
   "execution_count": 11,
   "metadata": {},
   "outputs": [
    {
     "name": "stderr",
     "output_type": "stream",
     "text": [
      "Using TensorFlow backend.\n"
     ]
    },
    {
     "name": "stdout",
     "output_type": "stream",
     "text": [
      "[[23, 10], [34, 25], [4, 6], [11, 25], [43], [8], [49, 6], [46, 34], [49, 25], [36, 23, 10, 7]]\n"
     ]
    }
   ],
   "source": [
    "from keras.preprocessing.text import one_hot\n",
    "# integer encode the documents\n",
    "vocab_size = 50\n",
    "encoded_docs = [one_hot(d, vocab_size) for d in docs]\n",
    "print(encoded_docs)"
   ]
  },
  {
   "cell_type": "code",
   "execution_count": 3,
   "metadata": {},
   "outputs": [
    {
     "name": "stderr",
     "output_type": "stream",
     "text": [
      "Using TensorFlow backend.\n"
     ]
    }
   ],
   "source": [
    "# Importation des librairies\n",
    "\n",
    "import numpy as np \n",
    "import pandas as pd\n",
    "\n",
    "from sklearn.feature_extraction.text import CountVectorizer\n",
    "from keras.preprocessing.text import Tokenizer\n",
    "from keras.preprocessing.sequence import pad_sequences\n",
    "from keras.models import Sequential\n",
    "from keras.layers import Dense, Embedding, LSTM, SpatialDropout1D\n",
    "from sklearn.model_selection import train_test_split\n",
    "from keras.utils.np_utils import to_categorical\n",
    "import re\n",
    "import sys\n",
    "import time\n",
    "import os\n",
    "sys.path.append(os.path.dirname(os.getcwd()))\n",
    "\n",
    "from code_project.data_science.utils_project import load_saved_file, read_feel, process_label, process_nlp, vectorize, apply_vectorization\n",
    "from code_project.data_science.evaluate import load_test_set, evaluate_model\n",
    "from code_project.config_project import *"
   ]
  },
  {
   "cell_type": "code",
   "execution_count": 12,
   "metadata": {},
   "outputs": [
    {
     "ename": "FileNotFoundError",
     "evalue": "[Errno 2] File b'data/kaggle-traduction/translate_final_lemmatized.csv' does not exist: b'data/kaggle-traduction/translate_final_lemmatized.csv'",
     "output_type": "error",
     "traceback": [
      "\u001b[0;31m---------------------------------------------------------------------------\u001b[0m",
      "\u001b[0;31mFileNotFoundError\u001b[0m                         Traceback (most recent call last)",
      "\u001b[0;32m<ipython-input-12-b3c0754fa7f1>\u001b[0m in \u001b[0;36m<module>\u001b[0;34m\u001b[0m\n\u001b[1;32m      2\u001b[0m \u001b[0mPATH_DATA\u001b[0m \u001b[0;34m=\u001b[0m \u001b[0;34m\"data/kaggle-traduction/translate_final_lemmatized.csv\"\u001b[0m\u001b[0;34m\u001b[0m\u001b[0;34m\u001b[0m\u001b[0m\n\u001b[1;32m      3\u001b[0m \u001b[0;34m\u001b[0m\u001b[0m\n\u001b[0;32m----> 4\u001b[0;31m \u001b[0mdata\u001b[0m \u001b[0;34m=\u001b[0m \u001b[0mpd\u001b[0m\u001b[0;34m.\u001b[0m\u001b[0mread_csv\u001b[0m\u001b[0;34m(\u001b[0m\u001b[0mPATH_DATA\u001b[0m\u001b[0;34m,\u001b[0m \u001b[0msep\u001b[0m\u001b[0;34m=\u001b[0m\u001b[0;34m\";\"\u001b[0m\u001b[0;34m,\u001b[0m \u001b[0mencoding\u001b[0m\u001b[0;34m=\u001b[0m\u001b[0;34m'utf-8'\u001b[0m\u001b[0;34m)\u001b[0m\u001b[0;34m\u001b[0m\u001b[0;34m\u001b[0m\u001b[0m\n\u001b[0m\u001b[1;32m      5\u001b[0m \u001b[0mdata\u001b[0m \u001b[0;34m=\u001b[0m \u001b[0mdata\u001b[0m\u001b[0;34m.\u001b[0m\u001b[0mdrop\u001b[0m\u001b[0;34m(\u001b[0m\u001b[0;34m[\u001b[0m\u001b[0;34m'Unnamed: 0'\u001b[0m\u001b[0;34m]\u001b[0m\u001b[0;34m,\u001b[0m \u001b[0maxis\u001b[0m\u001b[0;34m=\u001b[0m\u001b[0;36m1\u001b[0m\u001b[0;34m)\u001b[0m\u001b[0;34m\u001b[0m\u001b[0;34m\u001b[0m\u001b[0m\n\u001b[1;32m      6\u001b[0m \u001b[0mdata\u001b[0m \u001b[0;34m=\u001b[0m \u001b[0mdata\u001b[0m\u001b[0;34m.\u001b[0m\u001b[0mfillna\u001b[0m\u001b[0;34m(\u001b[0m\u001b[0;34m\"\"\u001b[0m\u001b[0;34m)\u001b[0m\u001b[0;34m\u001b[0m\u001b[0;34m\u001b[0m\u001b[0m\n",
      "\u001b[0;32m~/Documents/DeepLearning/DL/lib/python3.6/site-packages/pandas/io/parsers.py\u001b[0m in \u001b[0;36mparser_f\u001b[0;34m(filepath_or_buffer, sep, delimiter, header, names, index_col, usecols, squeeze, prefix, mangle_dupe_cols, dtype, engine, converters, true_values, false_values, skipinitialspace, skiprows, skipfooter, nrows, na_values, keep_default_na, na_filter, verbose, skip_blank_lines, parse_dates, infer_datetime_format, keep_date_col, date_parser, dayfirst, iterator, chunksize, compression, thousands, decimal, lineterminator, quotechar, quoting, doublequote, escapechar, comment, encoding, dialect, tupleize_cols, error_bad_lines, warn_bad_lines, delim_whitespace, low_memory, memory_map, float_precision)\u001b[0m\n\u001b[1;32m    700\u001b[0m                     skip_blank_lines=skip_blank_lines)\n\u001b[1;32m    701\u001b[0m \u001b[0;34m\u001b[0m\u001b[0m\n\u001b[0;32m--> 702\u001b[0;31m         \u001b[0;32mreturn\u001b[0m \u001b[0m_read\u001b[0m\u001b[0;34m(\u001b[0m\u001b[0mfilepath_or_buffer\u001b[0m\u001b[0;34m,\u001b[0m \u001b[0mkwds\u001b[0m\u001b[0;34m)\u001b[0m\u001b[0;34m\u001b[0m\u001b[0;34m\u001b[0m\u001b[0m\n\u001b[0m\u001b[1;32m    703\u001b[0m \u001b[0;34m\u001b[0m\u001b[0m\n\u001b[1;32m    704\u001b[0m     \u001b[0mparser_f\u001b[0m\u001b[0;34m.\u001b[0m\u001b[0m__name__\u001b[0m \u001b[0;34m=\u001b[0m \u001b[0mname\u001b[0m\u001b[0;34m\u001b[0m\u001b[0;34m\u001b[0m\u001b[0m\n",
      "\u001b[0;32m~/Documents/DeepLearning/DL/lib/python3.6/site-packages/pandas/io/parsers.py\u001b[0m in \u001b[0;36m_read\u001b[0;34m(filepath_or_buffer, kwds)\u001b[0m\n\u001b[1;32m    427\u001b[0m \u001b[0;34m\u001b[0m\u001b[0m\n\u001b[1;32m    428\u001b[0m     \u001b[0;31m# Create the parser.\u001b[0m\u001b[0;34m\u001b[0m\u001b[0;34m\u001b[0m\u001b[0;34m\u001b[0m\u001b[0m\n\u001b[0;32m--> 429\u001b[0;31m     \u001b[0mparser\u001b[0m \u001b[0;34m=\u001b[0m \u001b[0mTextFileReader\u001b[0m\u001b[0;34m(\u001b[0m\u001b[0mfilepath_or_buffer\u001b[0m\u001b[0;34m,\u001b[0m \u001b[0;34m**\u001b[0m\u001b[0mkwds\u001b[0m\u001b[0;34m)\u001b[0m\u001b[0;34m\u001b[0m\u001b[0;34m\u001b[0m\u001b[0m\n\u001b[0m\u001b[1;32m    430\u001b[0m \u001b[0;34m\u001b[0m\u001b[0m\n\u001b[1;32m    431\u001b[0m     \u001b[0;32mif\u001b[0m \u001b[0mchunksize\u001b[0m \u001b[0;32mor\u001b[0m \u001b[0miterator\u001b[0m\u001b[0;34m:\u001b[0m\u001b[0;34m\u001b[0m\u001b[0;34m\u001b[0m\u001b[0m\n",
      "\u001b[0;32m~/Documents/DeepLearning/DL/lib/python3.6/site-packages/pandas/io/parsers.py\u001b[0m in \u001b[0;36m__init__\u001b[0;34m(self, f, engine, **kwds)\u001b[0m\n\u001b[1;32m    893\u001b[0m             \u001b[0mself\u001b[0m\u001b[0;34m.\u001b[0m\u001b[0moptions\u001b[0m\u001b[0;34m[\u001b[0m\u001b[0;34m'has_index_names'\u001b[0m\u001b[0;34m]\u001b[0m \u001b[0;34m=\u001b[0m \u001b[0mkwds\u001b[0m\u001b[0;34m[\u001b[0m\u001b[0;34m'has_index_names'\u001b[0m\u001b[0;34m]\u001b[0m\u001b[0;34m\u001b[0m\u001b[0;34m\u001b[0m\u001b[0m\n\u001b[1;32m    894\u001b[0m \u001b[0;34m\u001b[0m\u001b[0m\n\u001b[0;32m--> 895\u001b[0;31m         \u001b[0mself\u001b[0m\u001b[0;34m.\u001b[0m\u001b[0m_make_engine\u001b[0m\u001b[0;34m(\u001b[0m\u001b[0mself\u001b[0m\u001b[0;34m.\u001b[0m\u001b[0mengine\u001b[0m\u001b[0;34m)\u001b[0m\u001b[0;34m\u001b[0m\u001b[0;34m\u001b[0m\u001b[0m\n\u001b[0m\u001b[1;32m    896\u001b[0m \u001b[0;34m\u001b[0m\u001b[0m\n\u001b[1;32m    897\u001b[0m     \u001b[0;32mdef\u001b[0m \u001b[0mclose\u001b[0m\u001b[0;34m(\u001b[0m\u001b[0mself\u001b[0m\u001b[0;34m)\u001b[0m\u001b[0;34m:\u001b[0m\u001b[0;34m\u001b[0m\u001b[0;34m\u001b[0m\u001b[0m\n",
      "\u001b[0;32m~/Documents/DeepLearning/DL/lib/python3.6/site-packages/pandas/io/parsers.py\u001b[0m in \u001b[0;36m_make_engine\u001b[0;34m(self, engine)\u001b[0m\n\u001b[1;32m   1120\u001b[0m     \u001b[0;32mdef\u001b[0m \u001b[0m_make_engine\u001b[0m\u001b[0;34m(\u001b[0m\u001b[0mself\u001b[0m\u001b[0;34m,\u001b[0m \u001b[0mengine\u001b[0m\u001b[0;34m=\u001b[0m\u001b[0;34m'c'\u001b[0m\u001b[0;34m)\u001b[0m\u001b[0;34m:\u001b[0m\u001b[0;34m\u001b[0m\u001b[0;34m\u001b[0m\u001b[0m\n\u001b[1;32m   1121\u001b[0m         \u001b[0;32mif\u001b[0m \u001b[0mengine\u001b[0m \u001b[0;34m==\u001b[0m \u001b[0;34m'c'\u001b[0m\u001b[0;34m:\u001b[0m\u001b[0;34m\u001b[0m\u001b[0;34m\u001b[0m\u001b[0m\n\u001b[0;32m-> 1122\u001b[0;31m             \u001b[0mself\u001b[0m\u001b[0;34m.\u001b[0m\u001b[0m_engine\u001b[0m \u001b[0;34m=\u001b[0m \u001b[0mCParserWrapper\u001b[0m\u001b[0;34m(\u001b[0m\u001b[0mself\u001b[0m\u001b[0;34m.\u001b[0m\u001b[0mf\u001b[0m\u001b[0;34m,\u001b[0m \u001b[0;34m**\u001b[0m\u001b[0mself\u001b[0m\u001b[0;34m.\u001b[0m\u001b[0moptions\u001b[0m\u001b[0;34m)\u001b[0m\u001b[0;34m\u001b[0m\u001b[0;34m\u001b[0m\u001b[0m\n\u001b[0m\u001b[1;32m   1123\u001b[0m         \u001b[0;32melse\u001b[0m\u001b[0;34m:\u001b[0m\u001b[0;34m\u001b[0m\u001b[0;34m\u001b[0m\u001b[0m\n\u001b[1;32m   1124\u001b[0m             \u001b[0;32mif\u001b[0m \u001b[0mengine\u001b[0m \u001b[0;34m==\u001b[0m \u001b[0;34m'python'\u001b[0m\u001b[0;34m:\u001b[0m\u001b[0;34m\u001b[0m\u001b[0;34m\u001b[0m\u001b[0m\n",
      "\u001b[0;32m~/Documents/DeepLearning/DL/lib/python3.6/site-packages/pandas/io/parsers.py\u001b[0m in \u001b[0;36m__init__\u001b[0;34m(self, src, **kwds)\u001b[0m\n\u001b[1;32m   1851\u001b[0m         \u001b[0mkwds\u001b[0m\u001b[0;34m[\u001b[0m\u001b[0;34m'usecols'\u001b[0m\u001b[0;34m]\u001b[0m \u001b[0;34m=\u001b[0m \u001b[0mself\u001b[0m\u001b[0;34m.\u001b[0m\u001b[0musecols\u001b[0m\u001b[0;34m\u001b[0m\u001b[0;34m\u001b[0m\u001b[0m\n\u001b[1;32m   1852\u001b[0m \u001b[0;34m\u001b[0m\u001b[0m\n\u001b[0;32m-> 1853\u001b[0;31m         \u001b[0mself\u001b[0m\u001b[0;34m.\u001b[0m\u001b[0m_reader\u001b[0m \u001b[0;34m=\u001b[0m \u001b[0mparsers\u001b[0m\u001b[0;34m.\u001b[0m\u001b[0mTextReader\u001b[0m\u001b[0;34m(\u001b[0m\u001b[0msrc\u001b[0m\u001b[0;34m,\u001b[0m \u001b[0;34m**\u001b[0m\u001b[0mkwds\u001b[0m\u001b[0;34m)\u001b[0m\u001b[0;34m\u001b[0m\u001b[0;34m\u001b[0m\u001b[0m\n\u001b[0m\u001b[1;32m   1854\u001b[0m         \u001b[0mself\u001b[0m\u001b[0;34m.\u001b[0m\u001b[0munnamed_cols\u001b[0m \u001b[0;34m=\u001b[0m \u001b[0mself\u001b[0m\u001b[0;34m.\u001b[0m\u001b[0m_reader\u001b[0m\u001b[0;34m.\u001b[0m\u001b[0munnamed_cols\u001b[0m\u001b[0;34m\u001b[0m\u001b[0;34m\u001b[0m\u001b[0m\n\u001b[1;32m   1855\u001b[0m \u001b[0;34m\u001b[0m\u001b[0m\n",
      "\u001b[0;32mpandas/_libs/parsers.pyx\u001b[0m in \u001b[0;36mpandas._libs.parsers.TextReader.__cinit__\u001b[0;34m()\u001b[0m\n",
      "\u001b[0;32mpandas/_libs/parsers.pyx\u001b[0m in \u001b[0;36mpandas._libs.parsers.TextReader._setup_parser_source\u001b[0;34m()\u001b[0m\n",
      "\u001b[0;31mFileNotFoundError\u001b[0m: [Errno 2] File b'data/kaggle-traduction/translate_final_lemmatized.csv' does not exist: b'data/kaggle-traduction/translate_final_lemmatized.csv'"
     ]
    }
   ],
   "source": [
    "# Lecture des données\n",
    "PATH_DATA = \"data/kaggle-traduction/translate_final_lemmatized.csv\"\n",
    "\n",
    "data = pd.read_csv(PATH_DATA, sep=\";\", encoding='utf-8')\n",
    "data = data.drop(['Unnamed: 0'], axis=1)\n",
    "data = data.fillna(\"\")\n",
    "data.head(5)\n",
    "\n",
    "# Si True alors on prédit sur chaque mot puis on agrège la prédiction\n",
    "PREDICT_WORD = True"
   ]
  },
  {
   "cell_type": "code",
   "execution_count": 17,
   "metadata": {},
   "outputs": [
    {
     "ename": "FileNotFoundError",
     "evalue": "[Errno 2] File b'data/test_set_trad_lem.csv' does not exist: b'data/test_set_trad_lem.csv'",
     "output_type": "error",
     "traceback": [
      "\u001b[0;31m---------------------------------------------------------------------------\u001b[0m",
      "\u001b[0;31mFileNotFoundError\u001b[0m                         Traceback (most recent call last)",
      "\u001b[0;32m<ipython-input-17-99ae63bdb4a1>\u001b[0m in \u001b[0;36m<module>\u001b[0;34m\u001b[0m\n\u001b[1;32m      1\u001b[0m \u001b[0mTEST_SET_PATH\u001b[0m \u001b[0;34m=\u001b[0m \u001b[0;34m\"data/test_set_trad_lem.csv\"\u001b[0m\u001b[0;34m\u001b[0m\u001b[0;34m\u001b[0m\u001b[0m\n\u001b[0;32m----> 2\u001b[0;31m \u001b[0mdata_test\u001b[0m \u001b[0;34m=\u001b[0m \u001b[0mpd\u001b[0m\u001b[0;34m.\u001b[0m\u001b[0mread_csv\u001b[0m\u001b[0;34m(\u001b[0m\u001b[0mTEST_SET_PATH\u001b[0m\u001b[0;34m,\u001b[0m \u001b[0msep\u001b[0m\u001b[0;34m=\u001b[0m\u001b[0;34m\";\"\u001b[0m\u001b[0;34m,\u001b[0m \u001b[0mencoding\u001b[0m\u001b[0;34m=\u001b[0m\u001b[0;34m'utf-8'\u001b[0m\u001b[0;34m)\u001b[0m\u001b[0;34m\u001b[0m\u001b[0;34m\u001b[0m\u001b[0m\n\u001b[0m\u001b[1;32m      3\u001b[0m \u001b[0mdata_test\u001b[0m\u001b[0;34m.\u001b[0m\u001b[0msample\u001b[0m\u001b[0;34m(\u001b[0m\u001b[0;36m5\u001b[0m\u001b[0;34m)\u001b[0m\u001b[0;34m\u001b[0m\u001b[0;34m\u001b[0m\u001b[0m\n",
      "\u001b[0;32m~/Documents/DeepLearning/DL/lib/python3.6/site-packages/pandas/io/parsers.py\u001b[0m in \u001b[0;36mparser_f\u001b[0;34m(filepath_or_buffer, sep, delimiter, header, names, index_col, usecols, squeeze, prefix, mangle_dupe_cols, dtype, engine, converters, true_values, false_values, skipinitialspace, skiprows, skipfooter, nrows, na_values, keep_default_na, na_filter, verbose, skip_blank_lines, parse_dates, infer_datetime_format, keep_date_col, date_parser, dayfirst, iterator, chunksize, compression, thousands, decimal, lineterminator, quotechar, quoting, doublequote, escapechar, comment, encoding, dialect, tupleize_cols, error_bad_lines, warn_bad_lines, delim_whitespace, low_memory, memory_map, float_precision)\u001b[0m\n\u001b[1;32m    700\u001b[0m                     skip_blank_lines=skip_blank_lines)\n\u001b[1;32m    701\u001b[0m \u001b[0;34m\u001b[0m\u001b[0m\n\u001b[0;32m--> 702\u001b[0;31m         \u001b[0;32mreturn\u001b[0m \u001b[0m_read\u001b[0m\u001b[0;34m(\u001b[0m\u001b[0mfilepath_or_buffer\u001b[0m\u001b[0;34m,\u001b[0m \u001b[0mkwds\u001b[0m\u001b[0;34m)\u001b[0m\u001b[0;34m\u001b[0m\u001b[0;34m\u001b[0m\u001b[0m\n\u001b[0m\u001b[1;32m    703\u001b[0m \u001b[0;34m\u001b[0m\u001b[0m\n\u001b[1;32m    704\u001b[0m     \u001b[0mparser_f\u001b[0m\u001b[0;34m.\u001b[0m\u001b[0m__name__\u001b[0m \u001b[0;34m=\u001b[0m \u001b[0mname\u001b[0m\u001b[0;34m\u001b[0m\u001b[0;34m\u001b[0m\u001b[0m\n",
      "\u001b[0;32m~/Documents/DeepLearning/DL/lib/python3.6/site-packages/pandas/io/parsers.py\u001b[0m in \u001b[0;36m_read\u001b[0;34m(filepath_or_buffer, kwds)\u001b[0m\n\u001b[1;32m    427\u001b[0m \u001b[0;34m\u001b[0m\u001b[0m\n\u001b[1;32m    428\u001b[0m     \u001b[0;31m# Create the parser.\u001b[0m\u001b[0;34m\u001b[0m\u001b[0;34m\u001b[0m\u001b[0;34m\u001b[0m\u001b[0m\n\u001b[0;32m--> 429\u001b[0;31m     \u001b[0mparser\u001b[0m \u001b[0;34m=\u001b[0m \u001b[0mTextFileReader\u001b[0m\u001b[0;34m(\u001b[0m\u001b[0mfilepath_or_buffer\u001b[0m\u001b[0;34m,\u001b[0m \u001b[0;34m**\u001b[0m\u001b[0mkwds\u001b[0m\u001b[0;34m)\u001b[0m\u001b[0;34m\u001b[0m\u001b[0;34m\u001b[0m\u001b[0m\n\u001b[0m\u001b[1;32m    430\u001b[0m \u001b[0;34m\u001b[0m\u001b[0m\n\u001b[1;32m    431\u001b[0m     \u001b[0;32mif\u001b[0m \u001b[0mchunksize\u001b[0m \u001b[0;32mor\u001b[0m \u001b[0miterator\u001b[0m\u001b[0;34m:\u001b[0m\u001b[0;34m\u001b[0m\u001b[0;34m\u001b[0m\u001b[0m\n",
      "\u001b[0;32m~/Documents/DeepLearning/DL/lib/python3.6/site-packages/pandas/io/parsers.py\u001b[0m in \u001b[0;36m__init__\u001b[0;34m(self, f, engine, **kwds)\u001b[0m\n\u001b[1;32m    893\u001b[0m             \u001b[0mself\u001b[0m\u001b[0;34m.\u001b[0m\u001b[0moptions\u001b[0m\u001b[0;34m[\u001b[0m\u001b[0;34m'has_index_names'\u001b[0m\u001b[0;34m]\u001b[0m \u001b[0;34m=\u001b[0m \u001b[0mkwds\u001b[0m\u001b[0;34m[\u001b[0m\u001b[0;34m'has_index_names'\u001b[0m\u001b[0;34m]\u001b[0m\u001b[0;34m\u001b[0m\u001b[0;34m\u001b[0m\u001b[0m\n\u001b[1;32m    894\u001b[0m \u001b[0;34m\u001b[0m\u001b[0m\n\u001b[0;32m--> 895\u001b[0;31m         \u001b[0mself\u001b[0m\u001b[0;34m.\u001b[0m\u001b[0m_make_engine\u001b[0m\u001b[0;34m(\u001b[0m\u001b[0mself\u001b[0m\u001b[0;34m.\u001b[0m\u001b[0mengine\u001b[0m\u001b[0;34m)\u001b[0m\u001b[0;34m\u001b[0m\u001b[0;34m\u001b[0m\u001b[0m\n\u001b[0m\u001b[1;32m    896\u001b[0m \u001b[0;34m\u001b[0m\u001b[0m\n\u001b[1;32m    897\u001b[0m     \u001b[0;32mdef\u001b[0m \u001b[0mclose\u001b[0m\u001b[0;34m(\u001b[0m\u001b[0mself\u001b[0m\u001b[0;34m)\u001b[0m\u001b[0;34m:\u001b[0m\u001b[0;34m\u001b[0m\u001b[0;34m\u001b[0m\u001b[0m\n",
      "\u001b[0;32m~/Documents/DeepLearning/DL/lib/python3.6/site-packages/pandas/io/parsers.py\u001b[0m in \u001b[0;36m_make_engine\u001b[0;34m(self, engine)\u001b[0m\n\u001b[1;32m   1120\u001b[0m     \u001b[0;32mdef\u001b[0m \u001b[0m_make_engine\u001b[0m\u001b[0;34m(\u001b[0m\u001b[0mself\u001b[0m\u001b[0;34m,\u001b[0m \u001b[0mengine\u001b[0m\u001b[0;34m=\u001b[0m\u001b[0;34m'c'\u001b[0m\u001b[0;34m)\u001b[0m\u001b[0;34m:\u001b[0m\u001b[0;34m\u001b[0m\u001b[0;34m\u001b[0m\u001b[0m\n\u001b[1;32m   1121\u001b[0m         \u001b[0;32mif\u001b[0m \u001b[0mengine\u001b[0m \u001b[0;34m==\u001b[0m \u001b[0;34m'c'\u001b[0m\u001b[0;34m:\u001b[0m\u001b[0;34m\u001b[0m\u001b[0;34m\u001b[0m\u001b[0m\n\u001b[0;32m-> 1122\u001b[0;31m             \u001b[0mself\u001b[0m\u001b[0;34m.\u001b[0m\u001b[0m_engine\u001b[0m \u001b[0;34m=\u001b[0m \u001b[0mCParserWrapper\u001b[0m\u001b[0;34m(\u001b[0m\u001b[0mself\u001b[0m\u001b[0;34m.\u001b[0m\u001b[0mf\u001b[0m\u001b[0;34m,\u001b[0m \u001b[0;34m**\u001b[0m\u001b[0mself\u001b[0m\u001b[0;34m.\u001b[0m\u001b[0moptions\u001b[0m\u001b[0;34m)\u001b[0m\u001b[0;34m\u001b[0m\u001b[0;34m\u001b[0m\u001b[0m\n\u001b[0m\u001b[1;32m   1123\u001b[0m         \u001b[0;32melse\u001b[0m\u001b[0;34m:\u001b[0m\u001b[0;34m\u001b[0m\u001b[0;34m\u001b[0m\u001b[0m\n\u001b[1;32m   1124\u001b[0m             \u001b[0;32mif\u001b[0m \u001b[0mengine\u001b[0m \u001b[0;34m==\u001b[0m \u001b[0;34m'python'\u001b[0m\u001b[0;34m:\u001b[0m\u001b[0;34m\u001b[0m\u001b[0;34m\u001b[0m\u001b[0m\n",
      "\u001b[0;32m~/Documents/DeepLearning/DL/lib/python3.6/site-packages/pandas/io/parsers.py\u001b[0m in \u001b[0;36m__init__\u001b[0;34m(self, src, **kwds)\u001b[0m\n\u001b[1;32m   1851\u001b[0m         \u001b[0mkwds\u001b[0m\u001b[0;34m[\u001b[0m\u001b[0;34m'usecols'\u001b[0m\u001b[0;34m]\u001b[0m \u001b[0;34m=\u001b[0m \u001b[0mself\u001b[0m\u001b[0;34m.\u001b[0m\u001b[0musecols\u001b[0m\u001b[0;34m\u001b[0m\u001b[0;34m\u001b[0m\u001b[0m\n\u001b[1;32m   1852\u001b[0m \u001b[0;34m\u001b[0m\u001b[0m\n\u001b[0;32m-> 1853\u001b[0;31m         \u001b[0mself\u001b[0m\u001b[0;34m.\u001b[0m\u001b[0m_reader\u001b[0m \u001b[0;34m=\u001b[0m \u001b[0mparsers\u001b[0m\u001b[0;34m.\u001b[0m\u001b[0mTextReader\u001b[0m\u001b[0;34m(\u001b[0m\u001b[0msrc\u001b[0m\u001b[0;34m,\u001b[0m \u001b[0;34m**\u001b[0m\u001b[0mkwds\u001b[0m\u001b[0;34m)\u001b[0m\u001b[0;34m\u001b[0m\u001b[0;34m\u001b[0m\u001b[0m\n\u001b[0m\u001b[1;32m   1854\u001b[0m         \u001b[0mself\u001b[0m\u001b[0;34m.\u001b[0m\u001b[0munnamed_cols\u001b[0m \u001b[0;34m=\u001b[0m \u001b[0mself\u001b[0m\u001b[0;34m.\u001b[0m\u001b[0m_reader\u001b[0m\u001b[0;34m.\u001b[0m\u001b[0munnamed_cols\u001b[0m\u001b[0;34m\u001b[0m\u001b[0;34m\u001b[0m\u001b[0m\n\u001b[1;32m   1855\u001b[0m \u001b[0;34m\u001b[0m\u001b[0m\n",
      "\u001b[0;32mpandas/_libs/parsers.pyx\u001b[0m in \u001b[0;36mpandas._libs.parsers.TextReader.__cinit__\u001b[0;34m()\u001b[0m\n",
      "\u001b[0;32mpandas/_libs/parsers.pyx\u001b[0m in \u001b[0;36mpandas._libs.parsers.TextReader._setup_parser_source\u001b[0;34m()\u001b[0m\n",
      "\u001b[0;31mFileNotFoundError\u001b[0m: [Errno 2] File b'data/test_set_trad_lem.csv' does not exist: b'data/test_set_trad_lem.csv'"
     ]
    }
   ],
   "source": [
    "TEST_SET_PATH = \"data/test_set_trad_lem.csv\"\n",
    "data_test = pd.read_csv(TEST_SET_PATH, sep=\";\", encoding='utf-8')\n",
    "data_test.sample(5)"
   ]
  },
  {
   "cell_type": "code",
   "execution_count": 14,
   "metadata": {},
   "outputs": [
    {
     "data": {
      "text/plain": [
       "fear        7433\n",
       "neutral     6340\n",
       "sadness     4828\n",
       "joy         4596\n",
       "love        2068\n",
       "surprise    1613\n",
       "anger       1285\n",
       "Name: sentiment, dtype: int64"
      ]
     },
     "execution_count": 14,
     "metadata": {},
     "output_type": "execute_result"
    }
   ],
   "source": [
    "# On ne garde que certains sentiments\n",
    "data.loc[data.sentiment == 'hate', ['sentiment']] = 'anger'\n",
    "data.loc[data.sentiment == 'enthusiasm', ['sentiment']] = 'joy'\n",
    "data.loc[data.sentiment == 'fun', ['sentiment']] = 'joy'\n",
    "data.loc[data.sentiment == 'worry', ['sentiment']] = 'fear'\n",
    "data.loc[data.sentiment == 'happiness', ['sentiment']] = 'joy'\n",
    "data.loc[data.sentiment == 'love', ['sentiment']] = 'love'\n",
    "data = data.loc[~data.sentiment.isin(['boredom', 'relief', 'empty'])]\n",
    "data.sentiment.value_counts()"
   ]
  },
  {
   "cell_type": "code",
   "execution_count": 15,
   "metadata": {},
   "outputs": [
    {
     "data": {
      "text/html": [
       "<div>\n",
       "<style scoped>\n",
       "    .dataframe tbody tr th:only-of-type {\n",
       "        vertical-align: middle;\n",
       "    }\n",
       "\n",
       "    .dataframe tbody tr th {\n",
       "        vertical-align: top;\n",
       "    }\n",
       "\n",
       "    .dataframe thead th {\n",
       "        text-align: right;\n",
       "    }\n",
       "</style>\n",
       "<table border=\"1\" class=\"dataframe\">\n",
       "  <thead>\n",
       "    <tr style=\"text-align: right;\">\n",
       "      <th></th>\n",
       "      <th>sentiment</th>\n",
       "      <th>translation</th>\n",
       "      <th>translation_yandex</th>\n",
       "      <th>translation_microsoft</th>\n",
       "      <th>translation_google</th>\n",
       "    </tr>\n",
       "  </thead>\n",
       "  <tbody>\n",
       "    <tr>\n",
       "      <th>26031</th>\n",
       "      <td>surprise</td>\n",
       "      <td></td>\n",
       "      <td>ses castiel!!!! [ angle ]</td>\n",
       "      <td>ses castiel !!!  [l’angle]</td>\n",
       "      <td>c&amp;#39;est castiel !!!! [ l&amp;#39;angle ]</td>\n",
       "    </tr>\n",
       "    <tr>\n",
       "      <th>23216</th>\n",
       "      <td>joy</td>\n",
       "      <td></td>\n",
       "      <td>@MiaMiaDC Bon matin MiaMiaDC Mon week-end était génial et je viens d'avoir mon lundi, qui était aussi génial j'espère que vous avez une merveilleuse journée!</td>\n",
       "      <td>@MiaMiaDC Bonjour MiaMiaDC mon week-end a été formidable et je viens d’avoir mon lundi, qui a été aussi grande, que je vous souhaite une merveilleuse journée !</td>\n",
       "      <td>@MiaMiaDC Bonjour MiaMiaDC Mon week-end a été formidable et je viens d&amp;#39;avoir mon lundi, qui était également formidable. J&amp;#39;espère que vous passerez une journée merveilleuse!</td>\n",
       "    </tr>\n",
       "  </tbody>\n",
       "</table>\n",
       "</div>"
      ],
      "text/plain": [
       "      sentiment translation  \\\n",
       "26031  surprise               \n",
       "23216  joy                    \n",
       "\n",
       "                                                                                                                                                  translation_yandex  \\\n",
       "26031  ses castiel!!!! [ angle ]                                                                                                                                       \n",
       "23216  @MiaMiaDC Bon matin MiaMiaDC Mon week-end était génial et je viens d'avoir mon lundi, qui était aussi génial j'espère que vous avez une merveilleuse journée!   \n",
       "\n",
       "                                                                                                                                                 translation_microsoft  \\\n",
       "26031  ses castiel !!!  [l’angle]                                                                                                                                        \n",
       "23216  @MiaMiaDC Bonjour MiaMiaDC mon week-end a été formidable et je viens d’avoir mon lundi, qui a été aussi grande, que je vous souhaite une merveilleuse journée !   \n",
       "\n",
       "                                                                                                                                                                         translation_google  \n",
       "26031  c&#39;est castiel !!!! [ l&#39;angle ]                                                                                                                                                \n",
       "23216  @MiaMiaDC Bonjour MiaMiaDC Mon week-end a été formidable et je viens d&#39;avoir mon lundi, qui était également formidable. J&#39;espère que vous passerez une journée merveilleuse!  "
      ]
     },
     "execution_count": 15,
     "metadata": {},
     "output_type": "execute_result"
    }
   ],
   "source": [
    "data.sample(2)"
   ]
  },
  {
   "cell_type": "code",
   "execution_count": 16,
   "metadata": {},
   "outputs": [
    {
     "ename": "NameError",
     "evalue": "name 'data_test' is not defined",
     "output_type": "error",
     "traceback": [
      "\u001b[0;31m---------------------------------------------------------------------------\u001b[0m",
      "\u001b[0;31mNameError\u001b[0m                                 Traceback (most recent call last)",
      "\u001b[0;32m<ipython-input-16-cea1d7d57c52>\u001b[0m in \u001b[0;36m<module>\u001b[0;34m\u001b[0m\n\u001b[0;32m----> 1\u001b[0;31m \u001b[0mdata_test\u001b[0m\u001b[0;34m.\u001b[0m\u001b[0msample\u001b[0m\u001b[0;34m(\u001b[0m\u001b[0;36m2\u001b[0m\u001b[0;34m)\u001b[0m\u001b[0;34m\u001b[0m\u001b[0;34m\u001b[0m\u001b[0m\n\u001b[0m",
      "\u001b[0;31mNameError\u001b[0m: name 'data_test' is not defined"
     ]
    }
   ],
   "source": [
    "data_test.sample(2)"
   ]
  },
  {
   "cell_type": "code",
   "execution_count": 24,
   "metadata": {},
   "outputs": [
    {
     "name": "stdout",
     "output_type": "stream",
     "text": [
      "['layin', 'n', 'lire', 'mal', 'tete', 'ughhhh', 'attendre', 'appel']\n"
     ]
    }
   ],
   "source": [
    "print(data['nlp_google'].values[0])"
   ]
  },
  {
   "cell_type": "code",
   "execution_count": 10,
   "metadata": {},
   "outputs": [
    {
     "name": "stdout",
     "output_type": "stream",
     "text": [
      "[\"['layin', 'n', 'lire', 'mal', 'tete', 'ughhhh', 'attendre', 'appel']\"\n",
      " \"['ceremonie', 'funebre', 'triste', 'vendredi']\"\n",
      " \"['vouloir', 'sortir', 'amis', 'bientot']\" ...\n",
      " \"['comedie', 'bonne', 'chance', 'ami']\"\n",
      " \"['stephs', 'grad', 'party', 'gr8', 'pousser', 'gateau', 'visage', 'watchd', 'seoir', 'chienner', 'gifler', 'garcon', 'manger', 'bonne', 'nourriture', 'satisfaire']\"\n",
      " \"['sweeeeet', 'san', 'fran', 'genial', 'aimer', 'bas']\"]\n",
      "[6628, 8, 88, 41, 132, 2695, 85, 620]\n",
      "train shape : (28163, 50)\n"
     ]
    }
   ],
   "source": [
    "max_features = data['nlp_google'].count()\n",
    "tokenizer = Tokenizer(num_words=max_features, split=' ')\n",
    "tokenizer.fit_on_texts(data['nlp_google'].values)\n",
    "print(data['nlp_google'].values)\n",
    "X_train = tokenizer.texts_to_sequences(data['nlp_google'].values)\n",
    "print(X_train[0])\n",
    "X_train = pad_sequences(X_train, padding='pre', maxlen=50)\n",
    "\n",
    "print('train shape : {}'.format((len(X_train), len(X_train[0]))))"
   ]
  },
  {
   "cell_type": "code",
   "execution_count": 114,
   "metadata": {},
   "outputs": [
    {
     "data": {
      "text/plain": [
       "array([   0,    0,    0,    0,    0,    0,    0,    0,    0,    0,    0,\n",
       "          0,    0,    0,    0,    0,    0,    0,    0,    0,    0,    0,\n",
       "          0,    0,    0,    0,    0,    0,    0,    0,    0,    0,    0,\n",
       "          0,    0,    0,    0,    0,    0,    0,    0,    0, 6628,    8,\n",
       "         88,   41,  132, 2695,   85,  620])"
      ]
     },
     "execution_count": 114,
     "metadata": {},
     "output_type": "execute_result"
    }
   ],
   "source": [
    "X_train[0]"
   ]
  },
  {
   "cell_type": "code",
   "execution_count": 19,
   "metadata": {},
   "outputs": [],
   "source": [
    "import gensim \n",
    "tokenizer = Tokenizer(num_words=max_features, split=' ')\n",
    "tokenizer.fit_on_texts(data['nlp_google'].values)"
   ]
  },
  {
   "cell_type": "code",
   "execution_count": 20,
   "metadata": {},
   "outputs": [
    {
     "data": {
      "text/plain": [
       "28163"
      ]
     },
     "execution_count": 20,
     "metadata": {},
     "output_type": "execute_result"
    }
   ],
   "source": [
    "max_features = data['nlp_google'].count()\n",
    "max_features"
   ]
  },
  {
   "cell_type": "code",
   "execution_count": 40,
   "metadata": {},
   "outputs": [
    {
     "data": {
      "text/plain": [
       "50"
      ]
     },
     "execution_count": 40,
     "metadata": {},
     "output_type": "execute_result"
    }
   ],
   "source": [
    "X_train.shape[1]"
   ]
  },
  {
   "cell_type": "code",
   "execution_count": 21,
   "metadata": {},
   "outputs": [
    {
     "name": "stdout",
     "output_type": "stream",
     "text": [
      "WARNING:tensorflow:From c:\\users\\thoma\\appdata\\local\\programs\\python\\python37\\lib\\site-packages\\tensorflow\\python\\framework\\op_def_library.py:263: colocate_with (from tensorflow.python.framework.ops) is deprecated and will be removed in a future version.\n",
      "Instructions for updating:\n",
      "Colocations handled automatically by placer.\n",
      "WARNING:tensorflow:From c:\\users\\thoma\\appdata\\local\\programs\\python\\python37\\lib\\site-packages\\keras\\backend\\tensorflow_backend.py:3445: calling dropout (from tensorflow.python.ops.nn_ops) with keep_prob is deprecated and will be removed in a future version.\n",
      "Instructions for updating:\n",
      "Please use `rate` instead of `keep_prob`. Rate should be set to `rate = 1 - keep_prob`.\n",
      "_________________________________________________________________\n",
      "Layer (type)                 Output Shape              Param #   \n",
      "=================================================================\n",
      "embedding_1 (Embedding)      (None, 50, 128)           3604864   \n",
      "_________________________________________________________________\n",
      "spatial_dropout1d_1 (Spatial (None, 50, 128)           0         \n",
      "_________________________________________________________________\n",
      "lstm_1 (LSTM)                (None, 196)               254800    \n",
      "_________________________________________________________________\n",
      "dense_1 (Dense)              (None, 7)                 1379      \n",
      "=================================================================\n",
      "Total params: 3,861,043\n",
      "Trainable params: 3,861,043\n",
      "Non-trainable params: 0\n",
      "_________________________________________________________________\n"
     ]
    }
   ],
   "source": [
    "# Définition du modèle de deep learning à utiliser\n",
    "embed_dim = 128\n",
    "lstm_out = 196\n",
    "from keras import regularizers\n",
    "model = Sequential()\n",
    "model.add(Embedding(max_features, embed_dim, input_length = X_train.shape[1]))\n",
    "model.add(SpatialDropout1D(0.4))\n",
    "model.add(LSTM(lstm_out, dropout=0.2, recurrent_dropout=0.2))\n",
    "model.add(Dense(7, activation='softmax'))\n",
    "model.compile(loss = 'categorical_crossentropy', optimizer='adam', metrics = ['accuracy'])\n",
    "model.summary()"
   ]
  },
  {
   "cell_type": "code",
   "execution_count": 1,
   "metadata": {},
   "outputs": [
    {
     "name": "stderr",
     "output_type": "stream",
     "text": [
      "Using TensorFlow backend.\n"
     ]
    }
   ],
   "source": [
    "from keras.utils import plot_model\n",
    "import pydot"
   ]
  },
  {
   "cell_type": "code",
   "execution_count": 2,
   "metadata": {},
   "outputs": [
    {
     "ename": "NameError",
     "evalue": "name 'model' is not defined",
     "output_type": "error",
     "traceback": [
      "\u001b[0;31m---------------------------------------------------------------------------\u001b[0m",
      "\u001b[0;31mNameError\u001b[0m                                 Traceback (most recent call last)",
      "\u001b[0;32m<ipython-input-2-b950b8cba428>\u001b[0m in \u001b[0;36m<module>\u001b[0;34m\u001b[0m\n\u001b[0;32m----> 1\u001b[0;31m \u001b[0mplot_model\u001b[0m\u001b[0;34m(\u001b[0m\u001b[0mmodel\u001b[0m\u001b[0;34m,\u001b[0m \u001b[0mto_file\u001b[0m\u001b[0;34m=\u001b[0m\u001b[0;34m'model.png'\u001b[0m\u001b[0;34m)\u001b[0m\u001b[0;34m\u001b[0m\u001b[0;34m\u001b[0m\u001b[0m\n\u001b[0m",
      "\u001b[0;31mNameError\u001b[0m: name 'model' is not defined"
     ]
    }
   ],
   "source": [
    "plot_model(model, to_file='model.png')"
   ]
  },
  {
   "cell_type": "code",
   "execution_count": 23,
   "metadata": {},
   "outputs": [
    {
     "name": "stdout",
     "output_type": "stream",
     "text": [
      "[[0 0 0 ... 0 1 0]\n",
      " [0 0 0 ... 0 1 0]\n",
      " [0 0 1 ... 0 0 0]\n",
      " ...\n",
      " [0 0 1 ... 0 0 0]\n",
      " [0 0 1 ... 0 0 0]\n",
      " [0 0 1 ... 0 0 0]]\n",
      "{0: 'anger', 1: 'fear', 2: 'joy', 3: 'love', 4: 'neutral', 5: 'sadness', 6: 'surprise'}\n"
     ]
    }
   ],
   "source": [
    "# Split the output\n",
    "df_Y = pd.get_dummies(data['sentiment'])\n",
    "Y = df_Y.values\n",
    "labels = list(df_Y.columns)\n",
    "map_label = {}\n",
    "for i, val in enumerate(labels):\n",
    "    map_label[i] = val\n",
    "print(Y)\n",
    "print(map_label)"
   ]
  },
  {
   "cell_type": "code",
   "execution_count": 101,
   "metadata": {},
   "outputs": [
    {
     "data": {
      "text/plain": [
       "array([[   0,    0,    0, ..., 2695,   85,  620],\n",
       "       [   0,    0,    0, ..., 9600,   56,  149],\n",
       "       [   0,    0,    0, ...,   90,  170,  159],\n",
       "       ...,\n",
       "       [   0,    0,    0, ...,   22,  118,  651],\n",
       "       [   0,    0,    0, ...,    4, 1016,   27],\n",
       "       [   0,    0,    0, ..., 2139,  139,  127]])"
      ]
     },
     "execution_count": 101,
     "metadata": {},
     "output_type": "execute_result"
    }
   ],
   "source": [
    "feat_train"
   ]
  },
  {
   "cell_type": "code",
   "execution_count": 24,
   "metadata": {},
   "outputs": [
    {
     "name": "stdout",
     "output_type": "stream",
     "text": [
      "Epoch 1/10\n",
      " - 45s - loss: 1.7022 - acc: 0.3233\n",
      "Epoch 2/10\n",
      " - 47s - loss: 1.5057 - acc: 0.4229\n",
      "Epoch 3/10\n",
      " - 54s - loss: 1.3537 - acc: 0.4927\n",
      "Epoch 4/10\n",
      " - 53s - loss: 1.1954 - acc: 0.5642\n",
      "Epoch 5/10\n",
      " - 53s - loss: 1.0755 - acc: 0.6091\n",
      "Epoch 6/10\n",
      " - 53s - loss: 0.9761 - acc: 0.6522\n",
      "Epoch 7/10\n",
      " - 54s - loss: 0.8940 - acc: 0.6852\n",
      "Epoch 8/10\n",
      " - 56s - loss: 0.8312 - acc: 0.7013\n",
      "Epoch 9/10\n",
      " - 58s - loss: 0.7687 - acc: 0.7238\n",
      "Epoch 10/10\n",
      " - 53s - loss: 0.7141 - acc: 0.7432\n"
     ]
    },
    {
     "data": {
      "text/plain": [
       "<keras.callbacks.History at 0x1913bdc34a8>"
      ]
     },
     "execution_count": 24,
     "metadata": {},
     "output_type": "execute_result"
    }
   ],
   "source": [
    "# Fit the model\n",
    "batch_size = 32\n",
    "model.fit(X_train, Y, epochs = 10, batch_size=batch_size, verbose = 2)"
   ]
  },
  {
   "cell_type": "code",
   "execution_count": 22,
   "metadata": {},
   "outputs": [],
   "source": [
    "def most_common(lst):\n",
    "    lst = [el for el in lst if el != 'no_emotion']\n",
    "    if len(lst) == 0:\n",
    "        return 'no_emotion'\n",
    "    else:\n",
    "        return max(set(lst), key=lst.count)\n",
    "    \n",
    "def predict(x_test, tokenizer, model, predict_word):\n",
    "    \n",
    "    predictions = []\n",
    "    \n",
    "    for sentence in x_test:\n",
    "        if predict_word:\n",
    "            list_emotion_word = []\n",
    "            for word in sentence.split(\" \"):\n",
    "                txt = tokenizer.texts_to_sequences([word])\n",
    "                txt = pad_sequences(txt, maxlen=50)\n",
    "                sentiment = model.predict(txt, batch_size=1, verbose = 2)[0]\n",
    "                list_emotion_word.append(map_label[np.argmax(sentiment)])\n",
    "            predictions.append(most_common(list_emotion_word))\n",
    "        else:\n",
    "            txt = tokenizer.texts_to_sequences([sentence])\n",
    "            print(sentence)\n",
    "            txt = pad_sequences(txt, maxlen=50)\n",
    "            sentiment = model.predict(txt, batch_size=1, verbose = 2)[0]\n",
    "            predictions.append(map_label[np.argmax(sentiment)])\n",
    "    \n",
    "    return predictions"
   ]
  },
  {
   "cell_type": "code",
   "execution_count": 23,
   "metadata": {},
   "outputs": [
    {
     "name": "stdout",
     "output_type": "stream",
     "text": [
      "['triste', 'dire', 'kh3', 'dernier', 'kingdom', 'hearts']\n"
     ]
    },
    {
     "ename": "NameError",
     "evalue": "name 'map_label' is not defined",
     "output_type": "error",
     "traceback": [
      "\u001b[1;31m---------------------------------------------------------------------------\u001b[0m",
      "\u001b[1;31mNameError\u001b[0m                                 Traceback (most recent call last)",
      "\u001b[1;32m<ipython-input-23-a8b2bb28bb55>\u001b[0m in \u001b[0;36m<module>\u001b[1;34m\u001b[0m\n\u001b[0;32m      6\u001b[0m \u001b[0my_test\u001b[0m \u001b[1;33m=\u001b[0m \u001b[0my_test\u001b[0m \u001b[1;33m=\u001b[0m \u001b[0mdata_test\u001b[0m\u001b[1;33m[\u001b[0m\u001b[1;34m'emotion'\u001b[0m\u001b[1;33m]\u001b[0m\u001b[1;33m\u001b[0m\u001b[1;33m\u001b[0m\u001b[0m\n\u001b[0;32m      7\u001b[0m \u001b[1;33m\u001b[0m\u001b[0m\n\u001b[1;32m----> 8\u001b[1;33m \u001b[0mpredictions\u001b[0m \u001b[1;33m=\u001b[0m \u001b[0mpredict\u001b[0m\u001b[1;33m(\u001b[0m\u001b[0mdata_test\u001b[0m\u001b[1;33m[\u001b[0m\u001b[1;34m'phrase_lem'\u001b[0m\u001b[1;33m]\u001b[0m\u001b[1;33m,\u001b[0m \u001b[0mtokenizer\u001b[0m\u001b[1;33m,\u001b[0m \u001b[0mmodel\u001b[0m\u001b[1;33m,\u001b[0m \u001b[0mpredict_word\u001b[0m\u001b[1;33m=\u001b[0m\u001b[1;32mFalse\u001b[0m\u001b[1;33m)\u001b[0m\u001b[1;33m\u001b[0m\u001b[1;33m\u001b[0m\u001b[0m\n\u001b[0m\u001b[0;32m      9\u001b[0m \u001b[1;33m\u001b[0m\u001b[0m\n\u001b[0;32m     10\u001b[0m \u001b[0maccuracy\u001b[0m \u001b[1;33m=\u001b[0m \u001b[0maccuracy_score\u001b[0m\u001b[1;33m(\u001b[0m\u001b[0my_test\u001b[0m\u001b[1;33m,\u001b[0m \u001b[0mpredictions\u001b[0m\u001b[1;33m)\u001b[0m\u001b[1;33m\u001b[0m\u001b[1;33m\u001b[0m\u001b[0m\n",
      "\u001b[1;32m<ipython-input-22-a298e3374d94>\u001b[0m in \u001b[0;36mpredict\u001b[1;34m(x_test, tokenizer, model, predict_word)\u001b[0m\n\u001b[0;32m     24\u001b[0m             \u001b[0mtxt\u001b[0m \u001b[1;33m=\u001b[0m \u001b[0mpad_sequences\u001b[0m\u001b[1;33m(\u001b[0m\u001b[0mtxt\u001b[0m\u001b[1;33m,\u001b[0m \u001b[0mmaxlen\u001b[0m\u001b[1;33m=\u001b[0m\u001b[1;36m50\u001b[0m\u001b[1;33m)\u001b[0m\u001b[1;33m\u001b[0m\u001b[1;33m\u001b[0m\u001b[0m\n\u001b[0;32m     25\u001b[0m             \u001b[0msentiment\u001b[0m \u001b[1;33m=\u001b[0m \u001b[0mmodel\u001b[0m\u001b[1;33m.\u001b[0m\u001b[0mpredict\u001b[0m\u001b[1;33m(\u001b[0m\u001b[0mtxt\u001b[0m\u001b[1;33m,\u001b[0m \u001b[0mbatch_size\u001b[0m\u001b[1;33m=\u001b[0m\u001b[1;36m1\u001b[0m\u001b[1;33m,\u001b[0m \u001b[0mverbose\u001b[0m \u001b[1;33m=\u001b[0m \u001b[1;36m2\u001b[0m\u001b[1;33m)\u001b[0m\u001b[1;33m[\u001b[0m\u001b[1;36m0\u001b[0m\u001b[1;33m]\u001b[0m\u001b[1;33m\u001b[0m\u001b[1;33m\u001b[0m\u001b[0m\n\u001b[1;32m---> 26\u001b[1;33m             \u001b[0mpredictions\u001b[0m\u001b[1;33m.\u001b[0m\u001b[0mappend\u001b[0m\u001b[1;33m(\u001b[0m\u001b[0mmap_label\u001b[0m\u001b[1;33m[\u001b[0m\u001b[0mnp\u001b[0m\u001b[1;33m.\u001b[0m\u001b[0margmax\u001b[0m\u001b[1;33m(\u001b[0m\u001b[0msentiment\u001b[0m\u001b[1;33m)\u001b[0m\u001b[1;33m]\u001b[0m\u001b[1;33m)\u001b[0m\u001b[1;33m\u001b[0m\u001b[1;33m\u001b[0m\u001b[0m\n\u001b[0m\u001b[0;32m     27\u001b[0m \u001b[1;33m\u001b[0m\u001b[0m\n\u001b[0;32m     28\u001b[0m     \u001b[1;32mreturn\u001b[0m \u001b[0mpredictions\u001b[0m\u001b[1;33m\u001b[0m\u001b[1;33m\u001b[0m\u001b[0m\n",
      "\u001b[1;31mNameError\u001b[0m: name 'map_label' is not defined"
     ]
    }
   ],
   "source": [
    "# Calcul du score final\n",
    "from sklearn.metrics import accuracy_score\n",
    "from sklearn.metrics import confusion_matrix\n",
    "pd.set_option('display.max_colwidth', -1)\n",
    "\n",
    "y_test = y_test = data_test['emotion']\n",
    "\n",
    "predictions = predict(data_test['phrase_lem'], tokenizer, model, predict_word=False)\n",
    "\n",
    "accuracy = accuracy_score(y_test, predictions)\n",
    "conf_mat = confusion_matrix(y_test, predictions)\n",
    "\n",
    "print(accuracy)\n",
    "print(conf_mat)"
   ]
  },
  {
   "cell_type": "code",
   "execution_count": 16,
   "metadata": {},
   "outputs": [
    {
     "ename": "NameError",
     "evalue": "name 'plot_confusion_matrix' is not defined",
     "output_type": "error",
     "traceback": [
      "\u001b[1;31m---------------------------------------------------------------------------\u001b[0m",
      "\u001b[1;31mNameError\u001b[0m                                 Traceback (most recent call last)",
      "\u001b[1;32m<ipython-input-16-904df6f4dbe1>\u001b[0m in \u001b[0;36m<module>\u001b[1;34m\u001b[0m\n\u001b[1;32m----> 1\u001b[1;33m \u001b[0mplot_confusion_matrix\u001b[0m\u001b[1;33m(\u001b[0m\u001b[0mconf_mat\u001b[0m\u001b[1;33m,\u001b[0m \u001b[0mtarget_names\u001b[0m\u001b[1;33m=\u001b[0m\u001b[1;33m[\u001b[0m\u001b[1;34m'anger'\u001b[0m\u001b[1;33m,\u001b[0m\u001b[1;34m'fear'\u001b[0m\u001b[1;33m,\u001b[0m \u001b[1;34m'joy'\u001b[0m\u001b[1;33m,\u001b[0m \u001b[1;34m'love'\u001b[0m\u001b[1;33m,\u001b[0m \u001b[1;34m'neutral'\u001b[0m\u001b[1;33m,\u001b[0m \u001b[1;34m'sadness'\u001b[0m\u001b[1;33m,\u001b[0m \u001b[1;34m'surprise'\u001b[0m\u001b[1;33m]\u001b[0m\u001b[1;33m)\u001b[0m\u001b[1;33m\u001b[0m\u001b[1;33m\u001b[0m\u001b[0m\n\u001b[0m",
      "\u001b[1;31mNameError\u001b[0m: name 'plot_confusion_matrix' is not defined"
     ]
    }
   ],
   "source": [
    "plot_confusion_matrix(conf_mat, target_names=['anger','fear', 'joy', 'love', 'neutral', 'sadness', 'surprise'])"
   ]
  },
  {
   "cell_type": "code",
   "execution_count": null,
   "metadata": {},
   "outputs": [],
   "source": []
  },
  {
   "cell_type": "code",
   "execution_count": 46,
   "metadata": {},
   "outputs": [
    {
     "name": "stdout",
     "output_type": "stream",
     "text": [
      "{0: 'anger', 1: 'fear', 2: 'joy', 3: 'love', 4: 'neutral', 5: 'sadness', 6: 'surprise'}\n"
     ]
    }
   ],
   "source": [
    "print({0: 'anger', 1: 'fear', 2: 'joy', 3: 'love', 4: 'neutral', 5: 'sadness', 6: 'surprise'})"
   ]
  },
  {
   "cell_type": "code",
   "execution_count": 39,
   "metadata": {},
   "outputs": [],
   "source": [
    "data_test['predictions'] = predictions"
   ]
  },
  {
   "cell_type": "code",
   "execution_count": 40,
   "metadata": {},
   "outputs": [
    {
     "data": {
      "text/html": [
       "<div>\n",
       "<style scoped>\n",
       "    .dataframe tbody tr th:only-of-type {\n",
       "        vertical-align: middle;\n",
       "    }\n",
       "\n",
       "    .dataframe tbody tr th {\n",
       "        vertical-align: top;\n",
       "    }\n",
       "\n",
       "    .dataframe thead th {\n",
       "        text-align: right;\n",
       "    }\n",
       "</style>\n",
       "<table border=\"1\" class=\"dataframe\">\n",
       "  <thead>\n",
       "    <tr style=\"text-align: right;\">\n",
       "      <th></th>\n",
       "      <th>Unnamed: 0</th>\n",
       "      <th>phrase</th>\n",
       "      <th>emotion</th>\n",
       "      <th>phrase_lem</th>\n",
       "      <th>predictions</th>\n",
       "    </tr>\n",
       "  </thead>\n",
       "  <tbody>\n",
       "    <tr>\n",
       "      <th>231</th>\n",
       "      <td>231</td>\n",
       "      <td>tes cheveux sont très jolis</td>\n",
       "      <td>love</td>\n",
       "      <td>['cheveux', 'tres', 'jolis']</td>\n",
       "      <td>love</td>\n",
       "    </tr>\n",
       "    <tr>\n",
       "      <th>242</th>\n",
       "      <td>242</td>\n",
       "      <td>il dispose les assiettes comme chaque jour</td>\n",
       "      <td>neutral</td>\n",
       "      <td>['disposer', 'les', 'assiettes', 'comme', 'chaque', 'jour']</td>\n",
       "      <td>joy</td>\n",
       "    </tr>\n",
       "    <tr>\n",
       "      <th>259</th>\n",
       "      <td>259</td>\n",
       "      <td>Trop hate que le week-end arrive pour retrouver toute ma merveilleuse famille</td>\n",
       "      <td>love</td>\n",
       "      <td>['trop', 'hate', 'week', 'end', 'arriver', 'retrouver', 'toute', 'merveilleuse', 'famille']</td>\n",
       "      <td>love</td>\n",
       "    </tr>\n",
       "    <tr>\n",
       "      <th>152</th>\n",
       "      <td>152</td>\n",
       "      <td>On a plein de cadeaux pour vous, vous allez voir</td>\n",
       "      <td>surprise</td>\n",
       "      <td>['avoir', 'plein', 'cadeaux', 'aller', 'voir']</td>\n",
       "      <td>sadness</td>\n",
       "    </tr>\n",
       "    <tr>\n",
       "      <th>93</th>\n",
       "      <td>93</td>\n",
       "      <td>soutien total à toute l'équipe</td>\n",
       "      <td>neutral</td>\n",
       "      <td>['soutien', 'total', 'avoir', 'toute', 'equipe']</td>\n",
       "      <td>love</td>\n",
       "    </tr>\n",
       "  </tbody>\n",
       "</table>\n",
       "</div>"
      ],
      "text/plain": [
       "     Unnamed: 0  \\\n",
       "231  231          \n",
       "242  242          \n",
       "259  259          \n",
       "152  152          \n",
       "93   93           \n",
       "\n",
       "                                                                            phrase  \\\n",
       "231  tes cheveux sont très jolis                                                     \n",
       "242  il dispose les assiettes comme chaque jour                                      \n",
       "259  Trop hate que le week-end arrive pour retrouver toute ma merveilleuse famille   \n",
       "152  On a plein de cadeaux pour vous, vous allez voir                                \n",
       "93   soutien total à toute l'équipe                                                  \n",
       "\n",
       "      emotion  \\\n",
       "231  love       \n",
       "242  neutral    \n",
       "259  love       \n",
       "152  surprise   \n",
       "93   neutral    \n",
       "\n",
       "                                                                                      phrase_lem  \\\n",
       "231  ['cheveux', 'tres', 'jolis']                                                                  \n",
       "242  ['disposer', 'les', 'assiettes', 'comme', 'chaque', 'jour']                                   \n",
       "259  ['trop', 'hate', 'week', 'end', 'arriver', 'retrouver', 'toute', 'merveilleuse', 'famille']   \n",
       "152  ['avoir', 'plein', 'cadeaux', 'aller', 'voir']                                                \n",
       "93   ['soutien', 'total', 'avoir', 'toute', 'equipe']                                              \n",
       "\n",
       "    predictions  \n",
       "231  love        \n",
       "242  joy         \n",
       "259  love        \n",
       "152  sadness     \n",
       "93   love        "
      ]
     },
     "execution_count": 40,
     "metadata": {},
     "output_type": "execute_result"
    }
   ],
   "source": [
    "data_test.sample(5)"
   ]
  },
  {
   "cell_type": "code",
   "execution_count": 41,
   "metadata": {},
   "outputs": [],
   "source": [
    "data_test.to_csv('first_result_with_lem.csv')"
   ]
  },
  {
   "cell_type": "code",
   "execution_count": null,
   "metadata": {},
   "outputs": [],
   "source": []
  },
  {
   "cell_type": "markdown",
   "metadata": {},
   "source": [
    "# Test GRU"
   ]
  },
  {
   "cell_type": "code",
   "execution_count": 16,
   "metadata": {},
   "outputs": [],
   "source": [
    "# Importation des librairies\n",
    "\n",
    "import numpy as np \n",
    "import pandas as pd\n",
    "\n",
    "from sklearn.feature_extraction.text import CountVectorizer\n",
    "from keras.preprocessing.text import Tokenizer\n",
    "from keras.preprocessing.sequence import pad_sequences\n",
    "from keras.models import Sequential\n",
    "from keras.layers import Dense, Embedding, LSTM, SpatialDropout1D, GRU\n",
    "from sklearn.model_selection import train_test_split\n",
    "from keras.utils.np_utils import to_categorical\n",
    "import re\n",
    "import sys\n",
    "import time\n",
    "import os\n",
    "sys.path.append(os.path.dirname(os.getcwd()))\n",
    "\n",
    "from code_project.data_science.utils_project import load_saved_file, read_feel, process_label, process_nlp, vectorize, apply_vectorization\n",
    "from code_project.data_science.evaluate import load_test_set, evaluate_model\n",
    "from code_project.config_project import *"
   ]
  },
  {
   "cell_type": "code",
   "execution_count": 2,
   "metadata": {},
   "outputs": [],
   "source": [
    "# Lecture des données\n",
    "PATH_DATA = \"data/kaggle-traduction/translate_final_lemmatized.csv\"\n",
    "\n",
    "data = pd.read_csv(PATH_DATA, sep=\";\", encoding='utf-8')\n",
    "data= data.drop(['Unnamed: 0'], axis=1)\n",
    "data = data.fillna(\"\")\n",
    "data.head(5)\n",
    "\n",
    "# Si True alors on prédit sur chaque mot puis on agrège la prédiction\n",
    "PREDICT_WORD = True"
   ]
  },
  {
   "cell_type": "code",
   "execution_count": 6,
   "metadata": {},
   "outputs": [
    {
     "data": {
      "text/html": [
       "<div>\n",
       "<style scoped>\n",
       "    .dataframe tbody tr th:only-of-type {\n",
       "        vertical-align: middle;\n",
       "    }\n",
       "\n",
       "    .dataframe tbody tr th {\n",
       "        vertical-align: top;\n",
       "    }\n",
       "\n",
       "    .dataframe thead th {\n",
       "        text-align: right;\n",
       "    }\n",
       "</style>\n",
       "<table border=\"1\" class=\"dataframe\">\n",
       "  <thead>\n",
       "    <tr style=\"text-align: right;\">\n",
       "      <th></th>\n",
       "      <th>Unnamed: 0</th>\n",
       "      <th>phrase</th>\n",
       "      <th>emotion</th>\n",
       "      <th>phrase_lem</th>\n",
       "    </tr>\n",
       "  </thead>\n",
       "  <tbody>\n",
       "    <tr>\n",
       "      <th>201</th>\n",
       "      <td>201</td>\n",
       "      <td>Il était vraiment très anxieux à l'attente de ...</td>\n",
       "      <td>fear</td>\n",
       "      <td>['etait', 'vraiment', 'tres', 'anxieux', 'avoi...</td>\n",
       "    </tr>\n",
       "    <tr>\n",
       "      <th>2</th>\n",
       "      <td>2</td>\n",
       "      <td>il fait beau</td>\n",
       "      <td>neutral</td>\n",
       "      <td>['faire', 'beau']</td>\n",
       "    </tr>\n",
       "    <tr>\n",
       "      <th>176</th>\n",
       "      <td>176</td>\n",
       "      <td>Stefano pestait contre les nids de poules qui ...</td>\n",
       "      <td>anger</td>\n",
       "      <td>['stefano', 'pester', 'contrer', 'les', 'nids'...</td>\n",
       "    </tr>\n",
       "    <tr>\n",
       "      <th>256</th>\n",
       "      <td>256</td>\n",
       "      <td>J'adore aller me balader dans Paris ! Cette vi...</td>\n",
       "      <td>love</td>\n",
       "      <td>['adorer', 'aller', 'balader', 'paris', 'cette...</td>\n",
       "    </tr>\n",
       "    <tr>\n",
       "      <th>223</th>\n",
       "      <td>223</td>\n",
       "      <td>Ah Marc vient finalement à la soirée ? Je pens...</td>\n",
       "      <td>surprise</td>\n",
       "      <td>['ah', 'marc', 'venir', 'finalement', 'avoir',...</td>\n",
       "    </tr>\n",
       "  </tbody>\n",
       "</table>\n",
       "</div>"
      ],
      "text/plain": [
       "     Unnamed: 0                                             phrase   emotion  \\\n",
       "201         201  Il était vraiment très anxieux à l'attente de ...      fear   \n",
       "2             2                                       il fait beau   neutral   \n",
       "176         176  Stefano pestait contre les nids de poules qui ...     anger   \n",
       "256         256  J'adore aller me balader dans Paris ! Cette vi...      love   \n",
       "223         223  Ah Marc vient finalement à la soirée ? Je pens...  surprise   \n",
       "\n",
       "                                            phrase_lem  \n",
       "201  ['etait', 'vraiment', 'tres', 'anxieux', 'avoi...  \n",
       "2                                    ['faire', 'beau']  \n",
       "176  ['stefano', 'pester', 'contrer', 'les', 'nids'...  \n",
       "256  ['adorer', 'aller', 'balader', 'paris', 'cette...  \n",
       "223  ['ah', 'marc', 'venir', 'finalement', 'avoir',...  "
      ]
     },
     "execution_count": 6,
     "metadata": {},
     "output_type": "execute_result"
    }
   ],
   "source": [
    "TEST_SET_PATH = \"data/test_set_trad_lem.csv\"\n",
    "data_test = pd.read_csv(TEST_SET_PATH, sep=\";\", encoding='utf-8')\n",
    "data_test.sample(5)"
   ]
  },
  {
   "cell_type": "code",
   "execution_count": 11,
   "metadata": {},
   "outputs": [
    {
     "data": {
      "text/html": [
       "<div>\n",
       "<style scoped>\n",
       "    .dataframe tbody tr th:only-of-type {\n",
       "        vertical-align: middle;\n",
       "    }\n",
       "\n",
       "    .dataframe tbody tr th {\n",
       "        vertical-align: top;\n",
       "    }\n",
       "\n",
       "    .dataframe thead th {\n",
       "        text-align: right;\n",
       "    }\n",
       "</style>\n",
       "<table border=\"1\" class=\"dataframe\">\n",
       "  <thead>\n",
       "    <tr style=\"text-align: right;\">\n",
       "      <th></th>\n",
       "      <th>sentiment</th>\n",
       "      <th>translation</th>\n",
       "      <th>translation_yandex</th>\n",
       "      <th>translation_microsoft</th>\n",
       "      <th>translation_google</th>\n",
       "      <th>nlp_google</th>\n",
       "      <th>nlp_sentence</th>\n",
       "    </tr>\n",
       "  </thead>\n",
       "  <tbody>\n",
       "    <tr>\n",
       "      <th>18124</th>\n",
       "      <td>fear</td>\n",
       "      <td></td>\n",
       "      <td>Pauvre Johnny est malade, on dirait qu'il va l...</td>\n",
       "      <td>Pauvre Johnny est malade on dirait qu’il vais ...</td>\n",
       "      <td>Le pauvre Johnny est malade On dirait qu'il ir...</td>\n",
       "      <td>['pauvre', 'johnny', 'malade', 'dire', 'aller'...</td>\n",
       "      <td>pauvr johnny malad dir ira chez veterinair demain</td>\n",
       "    </tr>\n",
       "    <tr>\n",
       "      <th>1767</th>\n",
       "      <td>sadness</td>\n",
       "      <td></td>\n",
       "      <td>@itstayloryall Im si triste que vous nous avez...</td>\n",
       "      <td>@itstayloryall Im si triste que vous nous avez...</td>\n",
       "      <td>@ itstayloryall Je suis si triste que tu nous ...</td>\n",
       "      <td>['si', 'triste', 'manquer', 'avoir', 'reunion'...</td>\n",
       "      <td>si trist manqu a reunion famill</td>\n",
       "    </tr>\n",
       "    <tr>\n",
       "      <th>1982</th>\n",
       "      <td>neutral</td>\n",
       "      <td></td>\n",
       "      <td>doit aller au lit, mais ne peut pas dormir tou...</td>\n",
       "      <td>doit aller au lit, mais ne peut pas dormir tou...</td>\n",
       "      <td>devrait aller au lit mais ne peut pas dormir m...</td>\n",
       "      <td>['devoir', 'aller', 'lire', 'ne', 'pouvoir', '...</td>\n",
       "      <td>devr aller lit ne peut pas dorm mainten</td>\n",
       "    </tr>\n",
       "  </tbody>\n",
       "</table>\n",
       "</div>"
      ],
      "text/plain": [
       "      sentiment translation  \\\n",
       "18124      fear               \n",
       "1767    sadness               \n",
       "1982    neutral               \n",
       "\n",
       "                                      translation_yandex  \\\n",
       "18124  Pauvre Johnny est malade, on dirait qu'il va l...   \n",
       "1767   @itstayloryall Im si triste que vous nous avez...   \n",
       "1982   doit aller au lit, mais ne peut pas dormir tou...   \n",
       "\n",
       "                                   translation_microsoft  \\\n",
       "18124  Pauvre Johnny est malade on dirait qu’il vais ...   \n",
       "1767   @itstayloryall Im si triste que vous nous avez...   \n",
       "1982   doit aller au lit, mais ne peut pas dormir tou...   \n",
       "\n",
       "                                      translation_google  \\\n",
       "18124  Le pauvre Johnny est malade On dirait qu'il ir...   \n",
       "1767   @ itstayloryall Je suis si triste que tu nous ...   \n",
       "1982   devrait aller au lit mais ne peut pas dormir m...   \n",
       "\n",
       "                                              nlp_google  \\\n",
       "18124  ['pauvre', 'johnny', 'malade', 'dire', 'aller'...   \n",
       "1767   ['si', 'triste', 'manquer', 'avoir', 'reunion'...   \n",
       "1982   ['devoir', 'aller', 'lire', 'ne', 'pouvoir', '...   \n",
       "\n",
       "                                            nlp_sentence  \n",
       "18124  pauvr johnny malad dir ira chez veterinair demain  \n",
       "1767                     si trist manqu a reunion famill  \n",
       "1982             devr aller lit ne peut pas dorm mainten  "
      ]
     },
     "execution_count": 11,
     "metadata": {},
     "output_type": "execute_result"
    }
   ],
   "source": [
    "data.sample(3)"
   ]
  },
  {
   "cell_type": "code",
   "execution_count": 7,
   "metadata": {},
   "outputs": [
    {
     "data": {
      "text/plain": [
       "fear        7433\n",
       "neutral     6340\n",
       "sadness     4828\n",
       "joy         4596\n",
       "love        2068\n",
       "surprise    1613\n",
       "anger       1285\n",
       "Name: sentiment, dtype: int64"
      ]
     },
     "execution_count": 7,
     "metadata": {},
     "output_type": "execute_result"
    }
   ],
   "source": [
    "# On ne garde que certains sentiments\n",
    "data.loc[data.sentiment == 'hate', ['sentiment']] = 'anger'\n",
    "data.loc[data.sentiment == 'enthusiasm', ['sentiment']] = 'joy'\n",
    "data.loc[data.sentiment == 'fun', ['sentiment']] = 'joy'\n",
    "data.loc[data.sentiment == 'worry', ['sentiment']] = 'fear'\n",
    "data.loc[data.sentiment == 'happiness', ['sentiment']] = 'joy'\n",
    "data.loc[data.sentiment == 'love', ['sentiment']] = 'love'\n",
    "data = data.loc[~data.sentiment.isin(['boredom', 'relief', 'empty'])]\n",
    "data.sentiment.value_counts()"
   ]
  },
  {
   "cell_type": "code",
   "execution_count": 12,
   "metadata": {},
   "outputs": [
    {
     "name": "stdout",
     "output_type": "stream",
     "text": [
      "train shape : (28163, 50)\n"
     ]
    }
   ],
   "source": [
    "max_features = data['nlp_google'].count()\n",
    "tokenizer = Tokenizer(num_words=max_features, split=' ')\n",
    "tokenizer.fit_on_texts(data['nlp_google'].values)\n",
    "X_train = tokenizer.texts_to_sequences(data['nlp_google'].values)\n",
    "X_train = pad_sequences(X_train, padding='pre', maxlen=50)\n",
    "\n",
    "print('train shape : {}'.format((len(X_train), len(X_train[0]))))"
   ]
  },
  {
   "cell_type": "code",
   "execution_count": 13,
   "metadata": {},
   "outputs": [],
   "source": [
    "import gensim \n",
    "tokenizer = Tokenizer(num_words=max_features, split=' ')\n",
    "tokenizer.fit_on_texts(data['nlp_google'].values)"
   ]
  },
  {
   "cell_type": "code",
   "execution_count": 14,
   "metadata": {},
   "outputs": [
    {
     "data": {
      "text/plain": [
       "28163"
      ]
     },
     "execution_count": 14,
     "metadata": {},
     "output_type": "execute_result"
    }
   ],
   "source": [
    "max_features = data['nlp_google'].count()\n",
    "max_features"
   ]
  },
  {
   "cell_type": "code",
   "execution_count": 17,
   "metadata": {},
   "outputs": [
    {
     "name": "stdout",
     "output_type": "stream",
     "text": [
      "_________________________________________________________________\n",
      "Layer (type)                 Output Shape              Param #   \n",
      "=================================================================\n",
      "embedding_2 (Embedding)      (None, 50, 128)           3604864   \n",
      "_________________________________________________________________\n",
      "spatial_dropout1d_2 (Spatial (None, 50, 128)           0         \n",
      "_________________________________________________________________\n",
      "gru_1 (GRU)                  (None, 196)               191100    \n",
      "_________________________________________________________________\n",
      "dense_1 (Dense)              (None, 7)                 1379      \n",
      "=================================================================\n",
      "Total params: 3,797,343\n",
      "Trainable params: 3,797,343\n",
      "Non-trainable params: 0\n",
      "_________________________________________________________________\n"
     ]
    }
   ],
   "source": [
    "# Définition du modèle de deep learning à utiliser\n",
    "embed_dim = 128\n",
    "lstm_out = 196\n",
    "\n",
    "model = Sequential()\n",
    "model.add(Embedding(max_features, embed_dim, input_length = X_train.shape[1]))\n",
    "model.add(SpatialDropout1D(0.4))\n",
    "model.add(GRU(lstm_out, dropout=0.2, recurrent_dropout=0.2))\n",
    "model.add(Dense(7, activation='softmax'))\n",
    "model.compile(loss = 'categorical_crossentropy', optimizer='adam', metrics = ['accuracy'])\n",
    "model.summary()"
   ]
  },
  {
   "cell_type": "code",
   "execution_count": 18,
   "metadata": {},
   "outputs": [
    {
     "name": "stdout",
     "output_type": "stream",
     "text": [
      "[[0 0 0 ... 0 1 0]\n",
      " [0 0 0 ... 0 1 0]\n",
      " [0 0 1 ... 0 0 0]\n",
      " ...\n",
      " [0 0 1 ... 0 0 0]\n",
      " [0 0 1 ... 0 0 0]\n",
      " [0 0 1 ... 0 0 0]]\n",
      "{0: 'anger', 1: 'fear', 2: 'joy', 3: 'love', 4: 'neutral', 5: 'sadness', 6: 'surprise'}\n"
     ]
    }
   ],
   "source": [
    "# Split the output\n",
    "df_Y = pd.get_dummies(data['sentiment'])\n",
    "Y = df_Y.values\n",
    "labels = list(df_Y.columns)\n",
    "map_label = {}\n",
    "for i, val in enumerate(labels):\n",
    "    map_label[i] = val\n",
    "print(Y)\n",
    "print(map_label)"
   ]
  },
  {
   "cell_type": "code",
   "execution_count": 19,
   "metadata": {},
   "outputs": [
    {
     "name": "stdout",
     "output_type": "stream",
     "text": [
      "WARNING:tensorflow:From c:\\users\\thoma\\appdata\\local\\programs\\python\\python37\\lib\\site-packages\\tensorflow\\python\\ops\\math_ops.py:3066: to_int32 (from tensorflow.python.ops.math_ops) is deprecated and will be removed in a future version.\n",
      "Instructions for updating:\n",
      "Use tf.cast instead.\n",
      "Epoch 1/10\n",
      " - 64s - loss: 1.6902 - acc: 0.3300\n",
      "Epoch 2/10\n",
      " - 62s - loss: 1.4815 - acc: 0.4350\n",
      "Epoch 3/10\n",
      " - 63s - loss: 1.2920 - acc: 0.5185\n",
      "Epoch 4/10\n",
      " - 62s - loss: 1.1019 - acc: 0.5994\n",
      "Epoch 5/10\n",
      " - 59s - loss: 0.9416 - acc: 0.6668\n",
      "Epoch 6/10\n",
      " - 59s - loss: 0.8142 - acc: 0.7116\n",
      "Epoch 7/10\n",
      " - 57s - loss: 0.7227 - acc: 0.7438\n",
      "Epoch 8/10\n",
      " - 58s - loss: 0.6538 - acc: 0.7659\n",
      "Epoch 9/10\n",
      " - 60s - loss: 0.5935 - acc: 0.7857\n",
      "Epoch 10/10\n",
      " - 58s - loss: 0.5469 - acc: 0.8047\n"
     ]
    },
    {
     "data": {
      "text/plain": [
       "<keras.callbacks.History at 0x1ec451a69e8>"
      ]
     },
     "execution_count": 19,
     "metadata": {},
     "output_type": "execute_result"
    }
   ],
   "source": [
    "# Fit the model\n",
    "batch_size = 64\n",
    "model.fit(X_train, Y, epochs = 10, batch_size=batch_size, verbose = 2)"
   ]
  },
  {
   "cell_type": "code",
   "execution_count": 20,
   "metadata": {},
   "outputs": [],
   "source": [
    "def most_common(lst):\n",
    "    lst = [el for el in lst if el != 'no_emotion']\n",
    "    if len(lst) == 0:\n",
    "        return 'no_emotion'\n",
    "    else:\n",
    "        return max(set(lst), key=lst.count)\n",
    "    \n",
    "def predict(x_test, tokenizer, model, predict_word):\n",
    "    \n",
    "    predictions = []\n",
    "    \n",
    "    for sentence in x_test:\n",
    "        if predict_word:\n",
    "            list_emotion_word = []\n",
    "            for word in sentence.split(\" \"):\n",
    "                txt = tokenizer.texts_to_sequences([word])\n",
    "                txt = pad_sequences(txt, maxlen=50)\n",
    "                sentiment = model.predict(txt, batch_size=1, verbose = 2)[0]\n",
    "                list_emotion_word.append(map_label[np.argmax(sentiment)])\n",
    "            predictions.append(most_common(list_emotion_word))\n",
    "        else:\n",
    "            txt = tokenizer.texts_to_sequences([sentence])\n",
    "            txt = pad_sequences(txt, maxlen=50)\n",
    "            sentiment = model.predict(txt, batch_size=1, verbose = 2)[0]\n",
    "            predictions.append(map_label[np.argmax(sentiment)])\n",
    "    \n",
    "    return predictions"
   ]
  },
  {
   "cell_type": "code",
   "execution_count": 23,
   "metadata": {},
   "outputs": [
    {
     "name": "stdout",
     "output_type": "stream",
     "text": [
      "0.3660377358490566\n",
      "[[ 4 12  3  0 13  4  0]\n",
      " [ 2 17  5  2  9  2  4]\n",
      " [ 0  6 26  5  5  5  1]\n",
      " [ 1  2  4 11  1  1  1]\n",
      " [ 2  4  7  4 21  2  0]\n",
      " [ 0 19  1  1  5  9  2]\n",
      " [ 0 11  9  4  7  2  9]]\n"
     ]
    }
   ],
   "source": [
    "# Calcul du score final\n",
    "from sklearn.metrics import accuracy_score\n",
    "from sklearn.metrics import confusion_matrix\n",
    "pd.set_option('display.max_colwidth', -1)\n",
    "\n",
    "y_test = y_test = data_test['emotion']\n",
    "\n",
    "predictions = predict(data_test['phrase_lem'], tokenizer, model, predict_word=False)\n",
    "\n",
    "accuracy = accuracy_score(y_test, predictions)\n",
    "conf_mat = confusion_matrix(y_test, predictions)\n",
    "\n",
    "print(accuracy)\n",
    "print(conf_mat)"
   ]
  },
  {
   "cell_type": "code",
   "execution_count": 24,
   "metadata": {},
   "outputs": [
    {
     "name": "stdout",
     "output_type": "stream",
     "text": [
      "{0: 'anger', 1: 'fear', 2: 'joy', 3: 'love', 4: 'neutral', 5: 'sadness', 6: 'surprise'}\n"
     ]
    }
   ],
   "source": [
    "print({0: 'anger', 1: 'fear', 2: 'joy', 3: 'love', 4: 'neutral', 5: 'sadness', 6: 'surprise'})"
   ]
  },
  {
   "cell_type": "code",
   "execution_count": 27,
   "metadata": {},
   "outputs": [
    {
     "data": {
      "image/png": "[encoded data removed]",
      "text/plain": [
       "<Figure size 576x432 with 2 Axes>"
      ]
     },
     "metadata": {
      "needs_background": "light"
     },
     "output_type": "display_data"
    }
   ],
   "source": [
    "import matplotlib.pyplot as plt\n",
    "\n",
    "from sklearn import svm\n",
    "from sklearn.metrics import confusion_matrix\n",
    "from sklearn.utils.multiclass import unique_labels\n",
    "\n",
    "from sklearn.model_selection import ParameterGrid\n",
    "from sklearn.metrics import accuracy_score\n",
    "from sklearn.metrics import confusion_matrix\n",
    "\n",
    "import pandas as pd\n",
    "import numpy as np\n",
    "\n",
    "\n",
    "def plot_confusion_matrix(cm,\n",
    "                          target_names,\n",
    "                          title='Confusion matrix',\n",
    "                          cmap=None,\n",
    "                          normalize=True):\n",
    "    \"\"\"\n",
    "    This function prints and plots the confusion matrix.\n",
    "    Normalization can be applied by setting `normalize=True`.\n",
    "\n",
    "    cm is the confusion matrix to use\n",
    "    target names is the list of labels\n",
    "    \"\"\"\n",
    "    import matplotlib.pyplot as plt\n",
    "    import numpy as np\n",
    "    import itertools\n",
    "\n",
    "    accuracy = np.trace(cm) / float(np.sum(cm))\n",
    "    misclass = 1 - accuracy\n",
    "\n",
    "    if cmap is None:\n",
    "        cmap = plt.get_cmap('Blues')\n",
    "\n",
    "    plt.figure(figsize=(8, 6))\n",
    "    plt.imshow(cm, interpolation='nearest', cmap=cmap)\n",
    "    plt.title(title)\n",
    "    plt.colorbar()\n",
    "\n",
    "    if target_names is not None:\n",
    "        tick_marks = np.arange(len(target_names))\n",
    "        plt.xticks(tick_marks, target_names, rotation=45)\n",
    "        plt.yticks(tick_marks, target_names)\n",
    "\n",
    "    if normalize:\n",
    "        cm = cm.astype('float') / cm.sum(axis=1)[:, np.newaxis]\n",
    "\n",
    "\n",
    "    thresh = cm.max() / 1.5 if normalize else cm.max() / 2\n",
    "    for i, j in itertools.product(range(cm.shape[0]), range(cm.shape[1])):\n",
    "        if normalize:\n",
    "            plt.text(j, i, \"{:0.4f}\".format(cm[i, j]),\n",
    "                     horizontalalignment=\"center\",\n",
    "                     color=\"white\" if cm[i, j] > thresh else \"black\")\n",
    "        else:\n",
    "            plt.text(j, i, \"{:,}\".format(cm[i, j]),\n",
    "                     horizontalalignment=\"center\",\n",
    "                     color=\"white\" if cm[i, j] > thresh else \"black\")\n",
    "\n",
    "\n",
    "    plt.tight_layout()\n",
    "    plt.ylabel('True label')\n",
    "    plt.xlabel('Predicted label\\naccuracy={:0.4f}; misclass={:0.4f}'.format(accuracy, misclass))\n",
    "    plt.show()\n",
    "\n",
    "\n",
    "plot_confusion_matrix(conf_mat, target_names=['anger','fear', 'joy', 'love', 'neutral', 'sadness', 'surprise'])\n"
   ]
  }
 ],
 "metadata": {
  "kernelspec": {
   "display_name": "Python 3",
   "language": "python",
   "name": "python3"
  },
  "language_info": {
   "codemirror_mode": {
    "name": "ipython",
    "version": 3
   },
   "file_extension": ".py",
   "mimetype": "text/x-python",
   "name": "python",
   "nbconvert_exporter": "python",
   "pygments_lexer": "ipython3",
   "version": "3.6.7"
  }
 },
 "nbformat": 4,
 "nbformat_minor": 2
}
